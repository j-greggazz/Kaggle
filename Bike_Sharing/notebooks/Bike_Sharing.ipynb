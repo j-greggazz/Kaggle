{
 "cells": [
  {
   "cell_type": "code",
   "execution_count": 68,
   "metadata": {},
   "outputs": [],
   "source": [
    "from datetime import datetime\n",
    "import warnings\n",
    "import random\n",
    "import numpy as np\n",
    "import pandas as pd\n",
    "import seaborn as sns\n",
    "from scipy import stats\n",
    "import matplotlib.pyplot as plt\n",
    "from math import sqrt\n",
    "from statsmodels.tools.tools import add_constant\n",
    "from statsmodels.stats.outliers_influence import variance_inflation_factor\n",
    "\n",
    "from sklearn.base import clone\n",
    "from sklearn.preprocessing import StandardScaler\n",
    "from sklearn.metrics import make_scorer, mean_squared_log_error\n",
    "from sklearn.decomposition import PCA\n",
    "from sklearn.model_selection import GridSearchCV, train_test_split, KFold \n",
    "from sklearn.linear_model import LinearRegression, Ridge, Lasso\n",
    "from sklearn.ensemble import RandomForestRegressor, GradientBoostingRegressor\n",
    "\n",
    "import xgboost as xgb\n",
    "from lightgbm import LGBMRegressor\n",
    "from bayes_opt import BayesianOptimization\n",
    "\n",
    "warnings.filterwarnings(\"ignore\")\n",
    "pd.set_option('display.max_columns', None)"
   ]
  },
  {
   "cell_type": "markdown",
   "metadata": {},
   "source": [
    "#### 1. Load Data"
   ]
  },
  {
   "cell_type": "code",
   "execution_count": 2,
   "metadata": {},
   "outputs": [
    {
     "data": {
      "text/html": [
       "<div>\n",
       "<style scoped>\n",
       "    .dataframe tbody tr th:only-of-type {\n",
       "        vertical-align: middle;\n",
       "    }\n",
       "\n",
       "    .dataframe tbody tr th {\n",
       "        vertical-align: top;\n",
       "    }\n",
       "\n",
       "    .dataframe thead th {\n",
       "        text-align: right;\n",
       "    }\n",
       "</style>\n",
       "<table border=\"1\" class=\"dataframe\">\n",
       "  <thead>\n",
       "    <tr style=\"text-align: right;\">\n",
       "      <th></th>\n",
       "      <th>datetime</th>\n",
       "      <th>season</th>\n",
       "      <th>holiday</th>\n",
       "      <th>workingday</th>\n",
       "      <th>weather</th>\n",
       "      <th>temp</th>\n",
       "      <th>atemp</th>\n",
       "      <th>humidity</th>\n",
       "      <th>windspeed</th>\n",
       "      <th>count</th>\n",
       "      <th>hr</th>\n",
       "      <th>mnth</th>\n",
       "    </tr>\n",
       "  </thead>\n",
       "  <tbody>\n",
       "    <tr>\n",
       "      <th>0</th>\n",
       "      <td>2011-01-01 00:00:00</td>\n",
       "      <td>1</td>\n",
       "      <td>0</td>\n",
       "      <td>0</td>\n",
       "      <td>1</td>\n",
       "      <td>9.84</td>\n",
       "      <td>14.395</td>\n",
       "      <td>81</td>\n",
       "      <td>0.0</td>\n",
       "      <td>16</td>\n",
       "      <td>0</td>\n",
       "      <td>1</td>\n",
       "    </tr>\n",
       "    <tr>\n",
       "      <th>1</th>\n",
       "      <td>2011-01-01 01:00:00</td>\n",
       "      <td>1</td>\n",
       "      <td>0</td>\n",
       "      <td>0</td>\n",
       "      <td>1</td>\n",
       "      <td>9.02</td>\n",
       "      <td>13.635</td>\n",
       "      <td>80</td>\n",
       "      <td>0.0</td>\n",
       "      <td>40</td>\n",
       "      <td>1</td>\n",
       "      <td>1</td>\n",
       "    </tr>\n",
       "  </tbody>\n",
       "</table>\n",
       "</div>"
      ],
      "text/plain": [
       "             datetime  season  holiday  workingday  weather  temp   atemp  \\\n",
       "0 2011-01-01 00:00:00       1        0           0        1  9.84  14.395   \n",
       "1 2011-01-01 01:00:00       1        0           0        1  9.02  13.635   \n",
       "\n",
       "   humidity  windspeed  count  hr  mnth  \n",
       "0        81        0.0     16   0     1  \n",
       "1        80        0.0     40   1     1  "
      ]
     },
     "execution_count": 2,
     "metadata": {},
     "output_type": "execute_result"
    }
   ],
   "source": [
    "train = pd.read_csv(\"../data/train.csv\") \n",
    "train.datetime = pd.to_datetime(train.datetime)\n",
    "train['hr'] = train.datetime.dt.hour\n",
    "train['mnth'] = train.datetime.dt.month\n",
    "# Remove unnecessary columns\n",
    "train.drop(['casual', 'registered'], axis = 1, inplace = True)\n",
    "train.head(2)"
   ]
  },
  {
   "cell_type": "markdown",
   "metadata": {},
   "source": [
    "#### 2. EDA\n",
    "- Create extra features (day of week)\n",
    "- Check feature distributions\n",
    "- Check target variable distribution\n",
    "- Check correlation(s)"
   ]
  },
  {
   "cell_type": "markdown",
   "metadata": {},
   "source": [
    "    - Determine days of week for new feature 'weekday': Sat(0) -> Fri(6) "
   ]
  },
  {
   "cell_type": "code",
   "execution_count": 3,
   "metadata": {},
   "outputs": [
    {
     "name": "stdout",
     "output_type": "stream",
     "text": [
      "0    1580\n",
      "2    1555\n",
      "4    1554\n",
      "1    1553\n",
      "5    1552\n",
      "6    1551\n",
      "3    1541\n",
      "Name: weekday, dtype: int64\n"
     ]
    },
    {
     "data": {
      "text/html": [
       "<div>\n",
       "<style scoped>\n",
       "    .dataframe tbody tr th:only-of-type {\n",
       "        vertical-align: middle;\n",
       "    }\n",
       "\n",
       "    .dataframe tbody tr th {\n",
       "        vertical-align: top;\n",
       "    }\n",
       "\n",
       "    .dataframe thead th {\n",
       "        text-align: right;\n",
       "    }\n",
       "</style>\n",
       "<table border=\"1\" class=\"dataframe\">\n",
       "  <thead>\n",
       "    <tr style=\"text-align: right;\">\n",
       "      <th></th>\n",
       "      <th>datetime</th>\n",
       "      <th>season</th>\n",
       "      <th>holiday</th>\n",
       "      <th>workingday</th>\n",
       "      <th>weather</th>\n",
       "      <th>temp</th>\n",
       "      <th>atemp</th>\n",
       "      <th>humidity</th>\n",
       "      <th>windspeed</th>\n",
       "      <th>hr</th>\n",
       "      <th>mnth</th>\n",
       "      <th>weekday</th>\n",
       "      <th>count</th>\n",
       "    </tr>\n",
       "  </thead>\n",
       "  <tbody>\n",
       "    <tr>\n",
       "      <th>0</th>\n",
       "      <td>2011-01-01 00:00:00</td>\n",
       "      <td>1</td>\n",
       "      <td>0</td>\n",
       "      <td>0</td>\n",
       "      <td>1</td>\n",
       "      <td>9.84</td>\n",
       "      <td>14.395</td>\n",
       "      <td>81</td>\n",
       "      <td>0.0</td>\n",
       "      <td>0</td>\n",
       "      <td>1</td>\n",
       "      <td>0</td>\n",
       "      <td>16</td>\n",
       "    </tr>\n",
       "    <tr>\n",
       "      <th>1</th>\n",
       "      <td>2011-01-01 01:00:00</td>\n",
       "      <td>1</td>\n",
       "      <td>0</td>\n",
       "      <td>0</td>\n",
       "      <td>1</td>\n",
       "      <td>9.02</td>\n",
       "      <td>13.635</td>\n",
       "      <td>80</td>\n",
       "      <td>0.0</td>\n",
       "      <td>1</td>\n",
       "      <td>1</td>\n",
       "      <td>0</td>\n",
       "      <td>40</td>\n",
       "    </tr>\n",
       "  </tbody>\n",
       "</table>\n",
       "</div>"
      ],
      "text/plain": [
       "             datetime  season  holiday  workingday  weather  temp   atemp  \\\n",
       "0 2011-01-01 00:00:00       1        0           0        1  9.84  14.395   \n",
       "1 2011-01-01 01:00:00       1        0           0        1  9.02  13.635   \n",
       "\n",
       "   humidity  windspeed  hr  mnth  weekday  count  \n",
       "0        81        0.0   0     1        0     16  \n",
       "1        80        0.0   1     1        0     40  "
      ]
     },
     "execution_count": 3,
     "metadata": {},
     "output_type": "execute_result"
    }
   ],
   "source": [
    "df_day = train.copy()\n",
    "df_day[\"Day\"] = df_day.datetime.dt.date\n",
    "df_day.drop_duplicates(subset = ['Day'], inplace = True)\n",
    "df_day.reset_index(drop = True, inplace = True)\n",
    "df_day['weekday'] = df_day.index.values%7\n",
    "df_day = df_day[['Day', 'weekday']]\n",
    "train['Day_'] = train.datetime.dt.date\n",
    "# Merge weekday with train\n",
    "train = train.merge(df_day, left_on='Day_', right_on='Day').drop([\"Day\", 'Day_'], axis = 1)\n",
    "# Move count to end:\n",
    "cols = list(train)\n",
    "cols.insert(len(cols)-1, cols.pop(cols.index('count')))\n",
    "train = train[cols]\n",
    "print(train.weekday.value_counts())\n",
    "train.head(2)"
   ]
  },
  {
   "cell_type": "markdown",
   "metadata": {},
   "source": [
    "##### Feature Distributions\n",
    "- How many years of data?"
   ]
  },
  {
   "cell_type": "code",
   "execution_count": 290,
   "metadata": {},
   "outputs": [
    {
     "data": {
      "text/plain": [
       "2012    5464\n",
       "2011    5422\n",
       "Name: datetime, dtype: int64"
      ]
     },
     "execution_count": 290,
     "metadata": {},
     "output_type": "execute_result"
    }
   ],
   "source": [
    "train.datetime.dt.year.value_counts()"
   ]
  },
  {
   "cell_type": "markdown",
   "metadata": {},
   "source": [
    "- Check spread of count across various categorical features:"
   ]
  },
  {
   "cell_type": "code",
   "execution_count": 291,
   "metadata": {},
   "outputs": [
    {
     "data": {
      "image/png": "[encoded data removed]",
      "text/plain": [
       "<Figure size 1080x1080 with 5 Axes>"
      ]
     },
     "metadata": {
      "needs_background": "light"
     },
     "output_type": "display_data"
    }
   ],
   "source": [
    "features = ['weather', 'mnth', 'hr', 'season', 'weekday']\n",
    "x_axis_titles = ['weather', 'month', 'hour of day', 'season', 'weekday']\n",
    "f, axs = plt.subplots(len(features), 1, figsize=(15,3*len(features)))\n",
    "\n",
    "for i in range(len(features)):\n",
    "    sns.boxplot(data=train,y=\"count\",x=features[i],orient=\"v\",ax=axs[i])\n",
    "    axs[i].set(xlabel=x_axis_titles[i], ylabel='count',title='Count vs ' + x_axis_titles[i])\n",
    "\n",
    "plt.subplots_adjust(left=None, bottom=None, right=None, top=0.89, wspace=None, hspace=0.4)"
   ]
  },
  {
   "cell_type": "markdown",
   "metadata": {},
   "source": [
    "- *Weekday* looks irrelevant\n",
    "- Other potential features appear to capture variance "
   ]
  },
  {
   "cell_type": "markdown",
   "metadata": {},
   "source": [
    "- Check count dependence on numerical features"
   ]
  },
  {
   "cell_type": "code",
   "execution_count": 292,
   "metadata": {},
   "outputs": [
    {
     "data": {
      "image/png": "[encoded data removed]",
      "text/plain": [
       "<Figure size 1080x432 with 4 Axes>"
      ]
     },
     "metadata": {
      "needs_background": "light"
     },
     "output_type": "display_data"
    }
   ],
   "source": [
    "features = ['temp', 'atemp', 'windspeed', 'humidity']\n",
    "f, axs = plt.subplots(2, 2, figsize=(15,6))\n",
    "axs = axs.flatten()\n",
    "for i, ax in enumerate(axs):\n",
    "    ax.scatter(train[features[i]], train['count'], label = features[i])\n",
    "    ax.legend()"
   ]
  },
  {
   "cell_type": "markdown",
   "metadata": {},
   "source": [
    "- atemp looks highly correllated with temp\n",
    "- potentially missing values for windspeed? defaulted to 0?\n",
    "- humidity may also be too correlated with temp\n",
    "- humidity appears to have missing values between 0 and ~ 10"
   ]
  },
  {
   "cell_type": "code",
   "execution_count": 293,
   "metadata": {},
   "outputs": [
    {
     "data": {
      "image/png": "[encoded data removed]",
      "text/plain": [
       "<Figure size 720x792 with 2 Axes>"
      ]
     },
     "metadata": {
      "needs_background": "light"
     },
     "output_type": "display_data"
    }
   ],
   "source": [
    "cor_mat= train[2:].corr()\n",
    "mask = np.array(cor_mat)\n",
    "mask[np.tril_indices_from(mask)] = False\n",
    "fig = plt.gcf()\n",
    "fig.set_size_inches(10,11)\n",
    "ax = sns.heatmap(data=cor_mat,mask=mask,square=True,cbar_kws={\"shrink\": .5}, annot=True,cbar=True, annot_kws={\"fontsize\":8})\n",
    "ylim_lower = (ax.get_ylim()[0] + 0.5)\n",
    "ylim_upper = (ax.get_ylim()[1] - 0.5)\n",
    "ax.set_ylim(ylim_lower, ylim_upper)\n",
    "plt.xticks(rotation=45) \n",
    "_ = plt.yticks(rotation=0) "
   ]
  },
  {
   "cell_type": "markdown",
   "metadata": {},
   "source": [
    "**Observations**\n",
    "    - 'mnth' & 'season' appear highly correlated (multicollinearity risk)\n",
    "        - Perhaps drop season and keep mnth given mnth appears slightly better correlated with 'count'\n",
    "        - For algorithms sensitive to multicollinearity dropping the variable would be sensible\n",
    "    - 'weekday', 'holiday' & 'workingday' have clearly little correlation with count and can definitely be dropped\n",
    "    - 'atemp' is highly correlated with 'temp' and can be dropped (has also same correlation coefficient with 'count')\n",
    "    - 'windspeed' needs to be further investigated: \n",
    "    - 'humidity' appears considerably correlated with weather.. may need further assessment "
   ]
  },
  {
   "cell_type": "code",
   "execution_count": 4,
   "metadata": {},
   "outputs": [
    {
     "data": {
      "text/html": [
       "<div>\n",
       "<style scoped>\n",
       "    .dataframe tbody tr th:only-of-type {\n",
       "        vertical-align: middle;\n",
       "    }\n",
       "\n",
       "    .dataframe tbody tr th {\n",
       "        vertical-align: top;\n",
       "    }\n",
       "\n",
       "    .dataframe thead th {\n",
       "        text-align: right;\n",
       "    }\n",
       "</style>\n",
       "<table border=\"1\" class=\"dataframe\">\n",
       "  <thead>\n",
       "    <tr style=\"text-align: right;\">\n",
       "      <th></th>\n",
       "      <th>season</th>\n",
       "      <th>holiday</th>\n",
       "      <th>workingday</th>\n",
       "      <th>weather</th>\n",
       "      <th>temp</th>\n",
       "      <th>atemp</th>\n",
       "      <th>humidity</th>\n",
       "      <th>windspeed</th>\n",
       "      <th>hr</th>\n",
       "      <th>mnth</th>\n",
       "      <th>weekday</th>\n",
       "      <th>count</th>\n",
       "    </tr>\n",
       "  </thead>\n",
       "  <tbody>\n",
       "    <tr>\n",
       "      <th>0</th>\n",
       "      <td>1</td>\n",
       "      <td>0</td>\n",
       "      <td>0</td>\n",
       "      <td>1</td>\n",
       "      <td>9.84</td>\n",
       "      <td>14.395</td>\n",
       "      <td>81</td>\n",
       "      <td>0.0</td>\n",
       "      <td>0</td>\n",
       "      <td>1</td>\n",
       "      <td>0</td>\n",
       "      <td>16</td>\n",
       "    </tr>\n",
       "    <tr>\n",
       "      <th>1</th>\n",
       "      <td>1</td>\n",
       "      <td>0</td>\n",
       "      <td>0</td>\n",
       "      <td>1</td>\n",
       "      <td>9.02</td>\n",
       "      <td>13.635</td>\n",
       "      <td>80</td>\n",
       "      <td>0.0</td>\n",
       "      <td>1</td>\n",
       "      <td>1</td>\n",
       "      <td>0</td>\n",
       "      <td>40</td>\n",
       "    </tr>\n",
       "  </tbody>\n",
       "</table>\n",
       "</div>"
      ],
      "text/plain": [
       "   season  holiday  workingday  weather  temp   atemp  humidity  windspeed  \\\n",
       "0       1        0           0        1  9.84  14.395        81        0.0   \n",
       "1       1        0           0        1  9.02  13.635        80        0.0   \n",
       "\n",
       "   hr  mnth  weekday  count  \n",
       "0   0     1        0     16  \n",
       "1   1     1        0     40  "
      ]
     },
     "execution_count": 4,
     "metadata": {},
     "output_type": "execute_result"
    }
   ],
   "source": [
    "# New dataframe:\n",
    "#train.drop(['weekday', 'holiday', 'atemp', 'datetime'], axis = 1, inplace = True)\n",
    "train.drop(['datetime'], axis = 1, inplace = True)\n",
    "train.head(2)"
   ]
  },
  {
   "cell_type": "markdown",
   "metadata": {},
   "source": [
    "- replace '0' values in windspeed with random integer values between minimum recorded windspeed (= 6.0032) and zero "
   ]
  },
  {
   "cell_type": "code",
   "execution_count": 5,
   "metadata": {},
   "outputs": [
    {
     "name": "stdout",
     "output_type": "stream",
     "text": [
      "New Pearson correlation coefficient =  0.1\n"
     ]
    },
    {
     "data": {
      "image/png": "[encoded data removed]",
      "text/plain": [
       "<Figure size 1080x288 with 1 Axes>"
      ]
     },
     "metadata": {
      "needs_background": "light"
     },
     "output_type": "display_data"
    }
   ],
   "source": [
    "#mu = train[train.windspeed != 0].windspeed.values.mean()\n",
    "#sigma = train[train.windspeed != 0].windspeed.values.std()\n",
    "#num_zeros = len(train[train.windspeed == 0])\n",
    "#train[train.windspeed == 0].windspeed = np.random.normal(mu, sigma, num_zeros)\n",
    "#train.loc[train['windspeed'] == 0,'windspeed'] = train['windspeed'].apply(lambda x: int(round((np.random.uniform(0, train[train.windspeed != 0].windspeed.values.min(), 1)[0]))))\n",
    "#train.loc[train['windspeed'] < 0,'windspeed'] = 0\n",
    "train.loc[train['windspeed'] == 0,'windspeed'] = (np.round(np.random.uniform(0,train[train.windspeed != 0].windspeed.values.min(), len(train.loc[train['windspeed'] == 0]))))\n",
    "\n",
    "f, axs = plt.subplots(1, 1, figsize=(15,4))\n",
    "axs.scatter(train['windspeed'], train['count'], label = 'windspeed')\n",
    "_ = axs.legend()\n",
    "print(\"New Pearson correlation coefficient = \", round(stats.pearsonr(train['windspeed'], train['count'])[0], 2))"
   ]
  },
  {
   "cell_type": "markdown",
   "metadata": {},
   "source": [
    "    - correlation coefficient has remained the same:"
   ]
  },
  {
   "cell_type": "markdown",
   "metadata": {},
   "source": [
    "- Target variable distribution skewness - has positive skew (tail to right)\n",
    "    - try taking log of target variable"
   ]
  },
  {
   "cell_type": "code",
   "execution_count": 6,
   "metadata": {},
   "outputs": [
    {
     "data": {
      "image/png": "[encoded data removed]",
      "text/plain": [
       "<Figure size 1080x432 with 4 Axes>"
      ]
     },
     "metadata": {
      "needs_background": "light"
     },
     "output_type": "display_data"
    }
   ],
   "source": [
    "f = plt.figure(figsize=(15,6))\n",
    "sns.distplot(train[\"count\"],ax=f.add_subplot(221))\n",
    "res = stats.probplot(train[\"count\"], dist='norm', fit=True, plot=f.add_subplot(222))\n",
    "sns.distplot(np.log(train[\"count\"]),ax=f.add_subplot(223))\n",
    "res = stats.probplot(np.log1p(train[\"count\"]), dist='norm', fit=True, plot=f.add_subplot(224))\n",
    "plt.subplots_adjust(left=None, bottom=None, right=None, top=0.89, wspace=None, hspace=0.4)\n",
    "train['log_count'] = np.log1p(train['count'])"
   ]
  },
  {
   "cell_type": "markdown",
   "metadata": {},
   "source": [
    "    - Skewness has improved a little (now indicating negative skew however)"
   ]
  },
  {
   "cell_type": "markdown",
   "metadata": {},
   "source": [
    "#### Convert some categorical features to one hot encoding \n",
    "    - Some machine-learning algorithms may work better this way\n",
    "    - keep backup of original train df:\n",
    "        - Some tree-based learners may not do as well with one-hot encoded features (too sparse)"
   ]
  },
  {
   "cell_type": "code",
   "execution_count": 7,
   "metadata": {},
   "outputs": [
    {
     "data": {
      "text/html": [
       "<div>\n",
       "<style scoped>\n",
       "    .dataframe tbody tr th:only-of-type {\n",
       "        vertical-align: middle;\n",
       "    }\n",
       "\n",
       "    .dataframe tbody tr th {\n",
       "        vertical-align: top;\n",
       "    }\n",
       "\n",
       "    .dataframe thead th {\n",
       "        text-align: right;\n",
       "    }\n",
       "</style>\n",
       "<table border=\"1\" class=\"dataframe\">\n",
       "  <thead>\n",
       "    <tr style=\"text-align: right;\">\n",
       "      <th></th>\n",
       "      <th>holiday</th>\n",
       "      <th>workingday</th>\n",
       "      <th>temp</th>\n",
       "      <th>atemp</th>\n",
       "      <th>humidity</th>\n",
       "      <th>windspeed</th>\n",
       "      <th>weekday</th>\n",
       "      <th>weather_2</th>\n",
       "      <th>weather_3</th>\n",
       "      <th>weather_4</th>\n",
       "      <th>season_2</th>\n",
       "      <th>season_3</th>\n",
       "      <th>season_4</th>\n",
       "      <th>hr_1</th>\n",
       "      <th>hr_2</th>\n",
       "      <th>hr_3</th>\n",
       "      <th>hr_4</th>\n",
       "      <th>hr_5</th>\n",
       "      <th>hr_6</th>\n",
       "      <th>hr_7</th>\n",
       "      <th>hr_8</th>\n",
       "      <th>hr_9</th>\n",
       "      <th>hr_10</th>\n",
       "      <th>hr_11</th>\n",
       "      <th>hr_12</th>\n",
       "      <th>hr_13</th>\n",
       "      <th>hr_14</th>\n",
       "      <th>hr_15</th>\n",
       "      <th>hr_16</th>\n",
       "      <th>hr_17</th>\n",
       "      <th>hr_18</th>\n",
       "      <th>hr_19</th>\n",
       "      <th>hr_20</th>\n",
       "      <th>hr_21</th>\n",
       "      <th>hr_22</th>\n",
       "      <th>hr_23</th>\n",
       "      <th>mnth_2</th>\n",
       "      <th>mnth_3</th>\n",
       "      <th>mnth_4</th>\n",
       "      <th>mnth_5</th>\n",
       "      <th>mnth_6</th>\n",
       "      <th>mnth_7</th>\n",
       "      <th>mnth_8</th>\n",
       "      <th>mnth_9</th>\n",
       "      <th>mnth_10</th>\n",
       "      <th>mnth_11</th>\n",
       "      <th>mnth_12</th>\n",
       "      <th>count</th>\n",
       "      <th>log_count</th>\n",
       "    </tr>\n",
       "  </thead>\n",
       "  <tbody>\n",
       "    <tr>\n",
       "      <th>0</th>\n",
       "      <td>0</td>\n",
       "      <td>0</td>\n",
       "      <td>9.84</td>\n",
       "      <td>14.395</td>\n",
       "      <td>81</td>\n",
       "      <td>3.0</td>\n",
       "      <td>0</td>\n",
       "      <td>0</td>\n",
       "      <td>0</td>\n",
       "      <td>0</td>\n",
       "      <td>0</td>\n",
       "      <td>0</td>\n",
       "      <td>0</td>\n",
       "      <td>0</td>\n",
       "      <td>0</td>\n",
       "      <td>0</td>\n",
       "      <td>0</td>\n",
       "      <td>0</td>\n",
       "      <td>0</td>\n",
       "      <td>0</td>\n",
       "      <td>0</td>\n",
       "      <td>0</td>\n",
       "      <td>0</td>\n",
       "      <td>0</td>\n",
       "      <td>0</td>\n",
       "      <td>0</td>\n",
       "      <td>0</td>\n",
       "      <td>0</td>\n",
       "      <td>0</td>\n",
       "      <td>0</td>\n",
       "      <td>0</td>\n",
       "      <td>0</td>\n",
       "      <td>0</td>\n",
       "      <td>0</td>\n",
       "      <td>0</td>\n",
       "      <td>0</td>\n",
       "      <td>0</td>\n",
       "      <td>0</td>\n",
       "      <td>0</td>\n",
       "      <td>0</td>\n",
       "      <td>0</td>\n",
       "      <td>0</td>\n",
       "      <td>0</td>\n",
       "      <td>0</td>\n",
       "      <td>0</td>\n",
       "      <td>0</td>\n",
       "      <td>0</td>\n",
       "      <td>16</td>\n",
       "      <td>2.833213</td>\n",
       "    </tr>\n",
       "    <tr>\n",
       "      <th>1</th>\n",
       "      <td>0</td>\n",
       "      <td>0</td>\n",
       "      <td>9.02</td>\n",
       "      <td>13.635</td>\n",
       "      <td>80</td>\n",
       "      <td>5.0</td>\n",
       "      <td>0</td>\n",
       "      <td>0</td>\n",
       "      <td>0</td>\n",
       "      <td>0</td>\n",
       "      <td>0</td>\n",
       "      <td>0</td>\n",
       "      <td>0</td>\n",
       "      <td>1</td>\n",
       "      <td>0</td>\n",
       "      <td>0</td>\n",
       "      <td>0</td>\n",
       "      <td>0</td>\n",
       "      <td>0</td>\n",
       "      <td>0</td>\n",
       "      <td>0</td>\n",
       "      <td>0</td>\n",
       "      <td>0</td>\n",
       "      <td>0</td>\n",
       "      <td>0</td>\n",
       "      <td>0</td>\n",
       "      <td>0</td>\n",
       "      <td>0</td>\n",
       "      <td>0</td>\n",
       "      <td>0</td>\n",
       "      <td>0</td>\n",
       "      <td>0</td>\n",
       "      <td>0</td>\n",
       "      <td>0</td>\n",
       "      <td>0</td>\n",
       "      <td>0</td>\n",
       "      <td>0</td>\n",
       "      <td>0</td>\n",
       "      <td>0</td>\n",
       "      <td>0</td>\n",
       "      <td>0</td>\n",
       "      <td>0</td>\n",
       "      <td>0</td>\n",
       "      <td>0</td>\n",
       "      <td>0</td>\n",
       "      <td>0</td>\n",
       "      <td>0</td>\n",
       "      <td>40</td>\n",
       "      <td>3.713572</td>\n",
       "    </tr>\n",
       "  </tbody>\n",
       "</table>\n",
       "</div>"
      ],
      "text/plain": [
       "   holiday  workingday  temp   atemp  humidity  windspeed  weekday  weather_2  \\\n",
       "0        0           0  9.84  14.395        81        3.0        0          0   \n",
       "1        0           0  9.02  13.635        80        5.0        0          0   \n",
       "\n",
       "   weather_3  weather_4  season_2  season_3  season_4  hr_1  hr_2  hr_3  hr_4  \\\n",
       "0          0          0         0         0         0     0     0     0     0   \n",
       "1          0          0         0         0         0     1     0     0     0   \n",
       "\n",
       "   hr_5  hr_6  hr_7  hr_8  hr_9  hr_10  hr_11  hr_12  hr_13  hr_14  hr_15  \\\n",
       "0     0     0     0     0     0      0      0      0      0      0      0   \n",
       "1     0     0     0     0     0      0      0      0      0      0      0   \n",
       "\n",
       "   hr_16  hr_17  hr_18  hr_19  hr_20  hr_21  hr_22  hr_23  mnth_2  mnth_3  \\\n",
       "0      0      0      0      0      0      0      0      0       0       0   \n",
       "1      0      0      0      0      0      0      0      0       0       0   \n",
       "\n",
       "   mnth_4  mnth_5  mnth_6  mnth_7  mnth_8  mnth_9  mnth_10  mnth_11  mnth_12  \\\n",
       "0       0       0       0       0       0       0        0        0        0   \n",
       "1       0       0       0       0       0       0        0        0        0   \n",
       "\n",
       "   count  log_count  \n",
       "0     16   2.833213  \n",
       "1     40   3.713572  "
      ]
     },
     "execution_count": 7,
     "metadata": {},
     "output_type": "execute_result"
    }
   ],
   "source": [
    "# Sort Weather Categorical Data:\n",
    "train_old = train.copy()\n",
    "temp = pd.get_dummies(train['weather'], prefix='weather', drop_first = True)\n",
    "train = pd.concat([train,temp],axis=1).drop(['weather'], axis = 1)\n",
    "\n",
    "# Sort Season Categorical Data:\n",
    "temp = pd.get_dummies(train['season'], prefix='season', drop_first = True)\n",
    "train = pd.concat([train,temp],axis=1).drop(['season'], axis = 1)\n",
    "\n",
    "# Sort Hour Categorical Data:\n",
    "temp = pd.get_dummies(train['hr'],prefix='hr', drop_first = True)\n",
    "train = pd.concat([train,temp],axis=1).drop(['hr'], axis = 1)\n",
    "\n",
    "# Sort Month Categorical Data:\n",
    "temp = pd.get_dummies(train['mnth'],prefix='mnth', drop_first = True)\n",
    "train = pd.concat([train,temp],axis=1).drop(['mnth'], axis = 1)\n",
    "\n",
    "cols = list(train)\n",
    "cols.insert(len(cols)-1, cols.pop(cols.index('count')))\n",
    "train = train[cols]\n",
    "cols = list(train)\n",
    "cols.insert(len(cols)-1, cols.pop(cols.index('log_count')))\n",
    "train = train[cols]\n",
    "# Move target variable to end\n",
    "train.head(2)"
   ]
  },
  {
   "cell_type": "code",
   "execution_count": 8,
   "metadata": {},
   "outputs": [
    {
     "data": {
      "text/html": [
       "<div>\n",
       "<style scoped>\n",
       "    .dataframe tbody tr th:only-of-type {\n",
       "        vertical-align: middle;\n",
       "    }\n",
       "\n",
       "    .dataframe tbody tr th {\n",
       "        vertical-align: top;\n",
       "    }\n",
       "\n",
       "    .dataframe thead th {\n",
       "        text-align: right;\n",
       "    }\n",
       "</style>\n",
       "<table border=\"1\" class=\"dataframe\">\n",
       "  <thead>\n",
       "    <tr style=\"text-align: right;\">\n",
       "      <th></th>\n",
       "      <th>season</th>\n",
       "      <th>holiday</th>\n",
       "      <th>workingday</th>\n",
       "      <th>weather</th>\n",
       "      <th>temp</th>\n",
       "      <th>atemp</th>\n",
       "      <th>humidity</th>\n",
       "      <th>windspeed</th>\n",
       "      <th>hr</th>\n",
       "      <th>mnth</th>\n",
       "      <th>weekday</th>\n",
       "      <th>count</th>\n",
       "      <th>log_count</th>\n",
       "    </tr>\n",
       "  </thead>\n",
       "  <tbody>\n",
       "    <tr>\n",
       "      <th>0</th>\n",
       "      <td>1</td>\n",
       "      <td>0</td>\n",
       "      <td>0</td>\n",
       "      <td>1</td>\n",
       "      <td>9.84</td>\n",
       "      <td>14.395</td>\n",
       "      <td>81</td>\n",
       "      <td>3.0</td>\n",
       "      <td>0</td>\n",
       "      <td>1</td>\n",
       "      <td>0</td>\n",
       "      <td>16</td>\n",
       "      <td>2.833213</td>\n",
       "    </tr>\n",
       "    <tr>\n",
       "      <th>1</th>\n",
       "      <td>1</td>\n",
       "      <td>0</td>\n",
       "      <td>0</td>\n",
       "      <td>1</td>\n",
       "      <td>9.02</td>\n",
       "      <td>13.635</td>\n",
       "      <td>80</td>\n",
       "      <td>5.0</td>\n",
       "      <td>1</td>\n",
       "      <td>1</td>\n",
       "      <td>0</td>\n",
       "      <td>40</td>\n",
       "      <td>3.713572</td>\n",
       "    </tr>\n",
       "  </tbody>\n",
       "</table>\n",
       "</div>"
      ],
      "text/plain": [
       "   season  holiday  workingday  weather  temp   atemp  humidity  windspeed  \\\n",
       "0       1        0           0        1  9.84  14.395        81        3.0   \n",
       "1       1        0           0        1  9.02  13.635        80        5.0   \n",
       "\n",
       "   hr  mnth  weekday  count  log_count  \n",
       "0   0     1        0     16   2.833213  \n",
       "1   1     1        0     40   3.713572  "
      ]
     },
     "execution_count": 8,
     "metadata": {},
     "output_type": "execute_result"
    }
   ],
   "source": [
    "train_old.head(2)"
   ]
  },
  {
   "cell_type": "markdown",
   "metadata": {},
   "source": [
    "#### Check collinearity of variables with variance inflation factor:\n",
    "- https://etav.github.io/python/vif_factor_python.html\n",
    "\n",
    "- https://campus.datacamp.com/courses/generalized-linear-models-in-python/multivariable-logistic-regression?ex=4\n",
    "    - \"Recall from the video that the rule of thumb threshold is VIF at the level of 2.5, meaning if the VIF is above 2.5 you should consider there is effect of multicollinearity on your fitted model.\"\n",
    "- https://www.statsmodels.org/stable/generated/statsmodels.stats.outliers_influence.variance_inflation_factor.html\n",
    "    - \"One recommendation is that if VIF is greater than 5, then the explanatory variable given by exog_idx is highly collinear with the other explanatory variables, and the parameter estimates will have large standard errors because of this.\""
   ]
  },
  {
   "cell_type": "code",
   "execution_count": 9,
   "metadata": {},
   "outputs": [],
   "source": [
    "# Check higher variance inflation factors\n",
    "def checkVarInfFactor(df):\n",
    "    # For each X, calculate VIF and save in dataframe\n",
    "    #array = df.values\n",
    "    #X = array[:,1:(df.shape[1] - 1)]\n",
    "    #Y = array[:,(df.shape[1] - 1)]\n",
    "    #X = df.copy()\n",
    "    df_ = df.drop(['count', 'log_count'], axis=1)\n",
    "    X = add_constant(df_)\n",
    "\n",
    "    vif = pd.DataFrame()\n",
    "    vif[\"VIF Factor\"] = [variance_inflation_factor(X.values, i) for i in range(X.shape[1])]\n",
    "    vif[\"features\"] = X.columns\n",
    "\n",
    "    # Display Features with High Variance Inflation Factor\n",
    "    corrFeatures = []\n",
    "    corrFeatures.append(\"count\")\n",
    "    for i in range(0, len(vif[\"features\"] )):\n",
    "        if vif[\"VIF Factor\"][i] > 2.5 and vif[\"features\"][i] != \"const\":\n",
    "            print(\"{} = {:.2f}\".format(vif[\"features\"][i], vif[\"VIF Factor\"][i]), end = ', ')   \n",
    "            corrFeatures.append(vif[\"features\"][i])\n",
    "            \n",
    "# Check Pearson's correlation coefficient of variables without visualising entire heatmap\n",
    "def checkPearsonCorrel(df):\n",
    "    list_done = []\n",
    "    for i, feat in enumerate(df.columns):\n",
    "        for j, feat_ in enumerate(df.columns):\n",
    "            if (feat != feat_) & (feat != 'count') & (feat_ != 'count') & (feat != 'log_count') & (feat_ != 'log_count'):\n",
    "\n",
    "                if str(i) + str(j) not in list_done:\n",
    "                    pearson_coeff = round(stats.pearsonr(df[feat], df[feat_])[0], 2)\n",
    "                    list_done.append(str(j) + str(i))\n",
    "\n",
    "                    if pearson_coeff > 0.3:\n",
    "                        print(\"Features: \", feat, \" & \", feat_, \" with correlation coeff = \",  pearson_coeff, end = ', ') "
   ]
  },
  {
   "cell_type": "code",
   "execution_count": 10,
   "metadata": {},
   "outputs": [],
   "source": [
    "train_old_edit = train_old.copy()\n",
    "train_edit= train.copy()"
   ]
  },
  {
   "cell_type": "code",
   "execution_count": 301,
   "metadata": {},
   "outputs": [],
   "source": [
    "train_old_edit_backup = train_old_edit.copy()\n",
    "train_edit_backup = train_edit.copy()"
   ]
  },
  {
   "cell_type": "markdown",
   "metadata": {},
   "source": [
    "***train_old***"
   ]
  },
  {
   "cell_type": "code",
   "execution_count": 11,
   "metadata": {},
   "outputs": [
    {
     "name": "stdout",
     "output_type": "stream",
     "text": [
      "season = 18.11, temp = 35.45, atemp = 35.53, mnth = 18.22, Features:  season  &  mnth  with correlation coeff =  0.97, Features:  weather  &  humidity  with correlation coeff =  0.41, Features:  temp  &  atemp  with correlation coeff =  0.98, "
     ]
    }
   ],
   "source": [
    "checkVarInfFactor(train_old_edit)\n",
    "checkPearsonCorrel(train_old_edit)"
   ]
  },
  {
   "cell_type": "markdown",
   "metadata": {},
   "source": [
    "*Drop 'season' from train_old and recheck for collinearity*"
   ]
  },
  {
   "cell_type": "code",
   "execution_count": 12,
   "metadata": {},
   "outputs": [
    {
     "name": "stdout",
     "output_type": "stream",
     "text": [
      "temp = 35.45, atemp = 35.53, Features:  weather  &  humidity  with correlation coeff =  0.41, Features:  temp  &  atemp  with correlation coeff =  0.98, "
     ]
    }
   ],
   "source": [
    "train_old_edit.drop(['season'], axis=1, inplace = True)\n",
    "checkVarInfFactor(train_old_edit)\n",
    "checkPearsonCorrel(train_old_edit)"
   ]
  },
  {
   "cell_type": "code",
   "execution_count": 13,
   "metadata": {},
   "outputs": [
    {
     "name": "stdout",
     "output_type": "stream",
     "text": [
      "Features:  weather  &  humidity  with correlation coeff =  0.41, "
     ]
    }
   ],
   "source": [
    "train_old_edit.drop(['atemp'], axis=1, inplace = True)\n",
    "checkVarInfFactor(train_old_edit)\n",
    "checkPearsonCorrel(train_old_edit)"
   ]
  },
  {
   "cell_type": "markdown",
   "metadata": {},
   "source": [
    "*Variance inflation factor does not appear to be too high between weather and humidity*"
   ]
  },
  {
   "cell_type": "markdown",
   "metadata": {},
   "source": [
    "***train***"
   ]
  },
  {
   "cell_type": "code",
   "execution_count": 14,
   "metadata": {},
   "outputs": [
    {
     "name": "stdout",
     "output_type": "stream",
     "text": [
      "temp = 45.93, atemp = 37.93, season_2 = inf, season_3 = inf, season_4 = inf, mnth_4 = inf, mnth_5 = inf, mnth_6 = inf, mnth_7 = inf, mnth_8 = inf, mnth_9 = inf, mnth_10 = inf, mnth_11 = inf, mnth_12 = inf, Features:  temp  &  atemp  with correlation coeff =  0.98, Features:  temp  &  season_3  with correlation coeff =  0.64, Features:  atemp  &  season_3  with correlation coeff =  0.61, Features:  season_2  &  mnth_4  with correlation coeff =  0.52, Features:  season_2  &  mnth_5  with correlation coeff =  0.52, Features:  season_2  &  mnth_6  with correlation coeff =  0.52, Features:  season_3  &  mnth_7  with correlation coeff =  0.52, Features:  season_3  &  mnth_8  with correlation coeff =  0.52, Features:  season_3  &  mnth_9  with correlation coeff =  0.52, Features:  season_4  &  mnth_10  with correlation coeff =  0.52, Features:  season_4  &  mnth_11  with correlation coeff =  0.52, Features:  season_4  &  mnth_12  with correlation coeff =  0.52, Features:  mnth_7  &  temp  with correlation coeff =  0.41, Features:  mnth_7  &  atemp  with correlation coeff =  0.4, Features:  mnth_8  &  temp  with correlation coeff =  0.37, Features:  mnth_8  &  atemp  with correlation coeff =  0.34, "
     ]
    }
   ],
   "source": [
    "checkVarInfFactor(train_edit)\n",
    "checkPearsonCorrel(train_edit)"
   ]
  },
  {
   "cell_type": "markdown",
   "metadata": {},
   "source": [
    "*Drop 'temp' and see if variation inflation factor drops*"
   ]
  },
  {
   "cell_type": "markdown",
   "metadata": {},
   "source": [
    "*Need to drop 'season' variables from train to avoid risk of multicollinearity*"
   ]
  },
  {
   "cell_type": "code",
   "execution_count": 15,
   "metadata": {},
   "outputs": [
    {
     "name": "stdout",
     "output_type": "stream",
     "text": [
      "temp = 45.93, atemp = 37.93, mnth_5 = 3.15, mnth_6 = 4.07, mnth_7 = 5.11, mnth_8 = 4.87, mnth_9 = 3.82, mnth_10 = 2.84, Features:  temp  &  atemp  with correlation coeff =  0.98, Features:  temp  &  mnth_7  with correlation coeff =  0.41, Features:  temp  &  mnth_8  with correlation coeff =  0.37, Features:  atemp  &  mnth_7  with correlation coeff =  0.4, Features:  atemp  &  mnth_8  with correlation coeff =  0.34, "
     ]
    }
   ],
   "source": [
    "train_edit.drop(['season_2', 'season_3', 'season_4'], axis = 1, inplace = True) \n",
    "checkVarInfFactor(train_edit)\n",
    "checkPearsonCorrel(train_edit)"
   ]
  },
  {
   "cell_type": "code",
   "execution_count": 16,
   "metadata": {},
   "outputs": [
    {
     "name": "stdout",
     "output_type": "stream",
     "text": [
      "temp = 5.63, mnth_5 = 3.15, mnth_6 = 4.05, mnth_7 = 5.08, mnth_8 = 4.79, mnth_9 = 3.80, mnth_10 = 2.84, Features:  temp  &  mnth_7  with correlation coeff =  0.41, Features:  temp  &  mnth_8  with correlation coeff =  0.37, "
     ]
    }
   ],
   "source": [
    "train_edit.drop(['atemp'], axis = 1, inplace = True) \n",
    "checkVarInfFactor(train_edit)\n",
    "checkPearsonCorrel(train_edit)"
   ]
  },
  {
   "cell_type": "code",
   "execution_count": 17,
   "metadata": {},
   "outputs": [],
   "source": [
    "train_edit.drop(['temp'], axis=1, inplace = True)\n",
    "checkVarInfFactor(train_edit)\n",
    "checkPearsonCorrel(train_edit)"
   ]
  },
  {
   "cell_type": "markdown",
   "metadata": {},
   "source": [
    "*No further risk of collinearity*"
   ]
  },
  {
   "cell_type": "markdown",
   "metadata": {},
   "source": [
    "#### 3. Machine Learning"
   ]
  },
  {
   "cell_type": "markdown",
   "metadata": {},
   "source": [
    "A. Determine just with Random Forest which particular dataset form (scaling, feature-reduction (PCA), with or without collinear-risk features) produces more optimal results\n",
    "\n",
    "B. Start parameter tuning with several regressors (tree-based: RandomForest, XGBoost & LightGBM & others (linear regression etc) "
   ]
  },
  {
   "cell_type": "code",
   "execution_count": 18,
   "metadata": {},
   "outputs": [],
   "source": [
    "# Scoring metric\n",
    "def rmsle(ytrue, ypred):\n",
    "    try:\n",
    "        return np.sqrt(mean_squared_log_error(ytrue, ypred))\n",
    "    except ValueError:\n",
    "        return np.sqrt(mean_squared_log_error(ytrue + 100, ypred + 100)) # prevent negative log-values\n",
    "\n",
    "def testModel(df, n_splits, model, pca = False, n_components = 5, returnVal = False, predict_count = False):\n",
    "    X = df.drop(['count', 'log_count'], axis = 1).values\n",
    "    #X = trainX.values\n",
    "    if predict_count:\n",
    "        y = df.drop(df.columns.difference(['count']), axis = 1).values\n",
    "    else:\n",
    "        y = df.drop(df.columns.difference(['log_count']), axis = 1).values\n",
    "    \n",
    "    # ------ PCA conversion ------\n",
    "    if pca:\n",
    "        nComponents = n_components\n",
    "        pca = PCA(n_components=nComponents)\n",
    "        pca.fit(X)\n",
    "        pcaX = pca.transform(X)\n",
    "        pcaColList = [(\"PC\" + str(x)) for x in range(nComponents)]\n",
    "        df_PCA = pd.DataFrame(pcaX, columns=pcaColList)\n",
    "        X = df_PCA.values\n",
    "    # ----------------------------\n",
    "    \n",
    "    kf = KFold(n_splits, True, 1)\n",
    "    rmsleScores = []\n",
    "    print(\"RMSLE Value For Kf_i: \", end = ' ')\n",
    "    for train_index, test_index in kf.split(X):\n",
    "        trainX, testX = X[train_index], X[test_index]\n",
    "        trainy, testy = y[train_index], y[test_index]\n",
    "        model_ = clone(model)\n",
    "        model_.fit(trainX,trainy)\n",
    "        preds = model_.predict(testX)\n",
    "        if predict_count:\n",
    "            rmsleScore = rmsle(testy, preds)\n",
    "        else:\n",
    "            rmsleScore = rmsle(np.exp(testy), np.exp(preds))\n",
    "        rmsleScores.append(rmsleScore)\n",
    "        print(round(rmsleScore, 2), end = ', ')\n",
    "        #print (\"RMSLE Value For Kf_i: \", rmsleScore)\n",
    "    print (\"Average RMSLE: \", round(sum(rmsleScores) / n_splits, 3))\n",
    "    if returnVal:\n",
    "        return round(sum(rmsleScores) / n_splits, 3)"
   ]
  },
  {
   "cell_type": "markdown",
   "metadata": {},
   "source": [
    "##### A. Explore best form for dataset - \n",
    "*Use Random Forest to test 4 datasets*\n",
    "        - train_old: original features, no collinear features removed and numerical encoding (no one-hot encoding)\n",
    "        - train_old_edit collinear features removed\n",
    "        - train: one-hot encoded features and no collinear features removed\n",
    "        - train_edit: one-hot encoded features with collinear features removed  \n",
    "       "
   ]
  },
  {
   "cell_type": "markdown",
   "metadata": {},
   "source": [
    "1. Try train & train_old without scaling, without PCA \n",
    "        - Note one-hot encoding not-ideal with sparse decision trees"
   ]
  },
  {
   "cell_type": "code",
   "execution_count": 317,
   "metadata": {},
   "outputs": [
    {
     "name": "stdout",
     "output_type": "stream",
     "text": [
      "RMSLE Value For Kf_i:  0.36, 0.36, 0.35, 0.37, 0.37, 0.35, 0.36, 0.36, 0.36, 0.37, Average RMSLE:  0.36\n",
      "RMSLE Value For Kf_i:  0.5, 0.52, 0.49, 0.49, 0.48, 0.49, 0.48, 0.49, 0.52, 0.49, Average RMSLE:  0.49\n"
     ]
    }
   ],
   "source": [
    "rfModel = RandomForestRegressor(n_estimators=100)\n",
    "testModel(df = train_old_edit, n_splits = 10, model = rfModel)\n",
    "testModel(df = train_edit, n_splits = 10, model = rfModel)"
   ]
  },
  {
   "cell_type": "code",
   "execution_count": 50,
   "metadata": {
    "collapsed": true
   },
   "outputs": [
    {
     "data": {
      "text/plain": [
       "(Index(['season', 'holiday', 'workingday', 'weather', 'temp', 'atemp',\n",
       "        'humidity', 'windspeed', 'hr', 'mnth', 'weekday', 'count', 'log_count'],\n",
       "       dtype='object'),\n",
       " Index(['holiday', 'workingday', 'weather', 'temp', 'humidity', 'windspeed',\n",
       "        'hr', 'mnth', 'weekday', 'count', 'log_count'],\n",
       "       dtype='object'),\n",
       " Index(['holiday', 'workingday', 'temp', 'atemp', 'humidity', 'windspeed',\n",
       "        'weekday', 'weather_2', 'weather_3', 'weather_4', 'season_2',\n",
       "        'season_3', 'season_4', 'hr_1', 'hr_2', 'hr_3', 'hr_4', 'hr_5', 'hr_6',\n",
       "        'hr_7', 'hr_8', 'hr_9', 'hr_10', 'hr_11', 'hr_12', 'hr_13', 'hr_14',\n",
       "        'hr_15', 'hr_16', 'hr_17', 'hr_18', 'hr_19', 'hr_20', 'hr_21', 'hr_22',\n",
       "        'hr_23', 'mnth_2', 'mnth_3', 'mnth_4', 'mnth_5', 'mnth_6', 'mnth_7',\n",
       "        'mnth_8', 'mnth_9', 'mnth_10', 'mnth_11', 'mnth_12', 'count',\n",
       "        'log_count'],\n",
       "       dtype='object'),\n",
       " Index(['holiday', 'workingday', 'humidity', 'windspeed', 'weekday',\n",
       "        'weather_2', 'weather_3', 'weather_4', 'hr_1', 'hr_2', 'hr_3', 'hr_4',\n",
       "        'hr_5', 'hr_6', 'hr_7', 'hr_8', 'hr_9', 'hr_10', 'hr_11', 'hr_12',\n",
       "        'hr_13', 'hr_14', 'hr_15', 'hr_16', 'hr_17', 'hr_18', 'hr_19', 'hr_20',\n",
       "        'hr_21', 'hr_22', 'hr_23', 'mnth_2', 'mnth_3', 'mnth_4', 'mnth_5',\n",
       "        'mnth_6', 'mnth_7', 'mnth_8', 'mnth_9', 'mnth_10', 'mnth_11', 'mnth_12',\n",
       "        'count', 'log_count'],\n",
       "       dtype='object'))"
      ]
     },
     "execution_count": 50,
     "metadata": {},
     "output_type": "execute_result"
    }
   ],
   "source": [
    "train_old.columns, train_old_edit.columns, train.columns, train_edit.columns "
   ]
  },
  {
   "cell_type": "markdown",
   "metadata": {},
   "source": [
    "2. Try with train_old & train\n",
    "        - Given tree structures are not usually susceptible to collinearity, repeat above with 'season' & 'temp' features"
   ]
  },
  {
   "cell_type": "code",
   "execution_count": 318,
   "metadata": {},
   "outputs": [
    {
     "name": "stdout",
     "output_type": "stream",
     "text": [
      "RMSLE Value For Kf_i:  0.36, 0.36, 0.35, 0.38, 0.36, 0.35, 0.35, 0.36, 0.36, 0.38, Average RMSLE:  0.36\n",
      "RMSLE Value For Kf_i:  0.46, 0.45, 0.43, 0.43, 0.42, 0.44, 0.44, 0.43, 0.46, 0.45, Average RMSLE:  0.44\n"
     ]
    }
   ],
   "source": [
    "rfModel = RandomForestRegressor(n_estimators=100)\n",
    "testModel(df = train_old, n_splits = 10, model = rfModel)\n",
    "testModel(df = train, n_splits = 10, model = rfModel)"
   ]
  },
  {
   "cell_type": "markdown",
   "metadata": {},
   "source": [
    "*train slightly better with extra features*"
   ]
  },
  {
   "cell_type": "markdown",
   "metadata": {},
   "source": [
    "3. Try train & train_old with PCA without hyperparameter tuning (Random Forest)"
   ]
  },
  {
   "cell_type": "code",
   "execution_count": 319,
   "metadata": {
    "collapsed": true
   },
   "outputs": [
    {
     "name": "stdout",
     "output_type": "stream",
     "text": [
      "RMSLE Value For Kf_i:  0.67, 0.67, 0.65, 0.69, "
     ]
    },
    {
     "ename": "KeyboardInterrupt",
     "evalue": "",
     "output_type": "error",
     "traceback": [
      "\u001b[1;31m---------------------------------------------------------------------------\u001b[0m",
      "\u001b[1;31mKeyboardInterrupt\u001b[0m                         Traceback (most recent call last)",
      "\u001b[1;32m<ipython-input-319-ad1a2bd2d74a>\u001b[0m in \u001b[0;36m<module>\u001b[1;34m\u001b[0m\n\u001b[0;32m      1\u001b[0m \u001b[0mrfModel\u001b[0m \u001b[1;33m=\u001b[0m \u001b[0mRandomForestRegressor\u001b[0m\u001b[1;33m(\u001b[0m\u001b[0mn_estimators\u001b[0m\u001b[1;33m=\u001b[0m\u001b[1;36m100\u001b[0m\u001b[1;33m)\u001b[0m\u001b[1;33m\u001b[0m\u001b[1;33m\u001b[0m\u001b[0m\n\u001b[1;32m----> 2\u001b[1;33m \u001b[0mtestModel\u001b[0m\u001b[1;33m(\u001b[0m\u001b[0mdf\u001b[0m \u001b[1;33m=\u001b[0m \u001b[0mtrain_old\u001b[0m\u001b[1;33m,\u001b[0m \u001b[0mn_splits\u001b[0m \u001b[1;33m=\u001b[0m \u001b[1;36m10\u001b[0m\u001b[1;33m,\u001b[0m \u001b[0mmodel\u001b[0m \u001b[1;33m=\u001b[0m \u001b[0mrfModel\u001b[0m\u001b[1;33m,\u001b[0m \u001b[0mpca\u001b[0m \u001b[1;33m=\u001b[0m \u001b[1;32mTrue\u001b[0m\u001b[1;33m)\u001b[0m\u001b[1;33m\u001b[0m\u001b[1;33m\u001b[0m\u001b[0m\n\u001b[0m\u001b[0;32m      3\u001b[0m \u001b[0mtestModel\u001b[0m\u001b[1;33m(\u001b[0m\u001b[0mdf\u001b[0m \u001b[1;33m=\u001b[0m \u001b[0mtrain\u001b[0m\u001b[1;33m,\u001b[0m \u001b[0mn_splits\u001b[0m \u001b[1;33m=\u001b[0m \u001b[1;36m10\u001b[0m\u001b[1;33m,\u001b[0m \u001b[0mmodel\u001b[0m \u001b[1;33m=\u001b[0m \u001b[0mrfModel\u001b[0m\u001b[1;33m,\u001b[0m \u001b[0mpca\u001b[0m \u001b[1;33m=\u001b[0m \u001b[1;32mTrue\u001b[0m\u001b[1;33m)\u001b[0m\u001b[1;33m\u001b[0m\u001b[1;33m\u001b[0m\u001b[0m\n",
      "\u001b[1;32m<ipython-input-269-283e64e7d84b>\u001b[0m in \u001b[0;36mtestModel\u001b[1;34m(df, n_splits, model, pca, n_components, returnVal, predict_count)\u001b[0m\n\u001b[0;32m     32\u001b[0m         \u001b[0mtrainy\u001b[0m\u001b[1;33m,\u001b[0m \u001b[0mtesty\u001b[0m \u001b[1;33m=\u001b[0m \u001b[0my\u001b[0m\u001b[1;33m[\u001b[0m\u001b[0mtrain_index\u001b[0m\u001b[1;33m]\u001b[0m\u001b[1;33m,\u001b[0m \u001b[0my\u001b[0m\u001b[1;33m[\u001b[0m\u001b[0mtest_index\u001b[0m\u001b[1;33m]\u001b[0m\u001b[1;33m\u001b[0m\u001b[1;33m\u001b[0m\u001b[0m\n\u001b[0;32m     33\u001b[0m         \u001b[0mmodel_\u001b[0m \u001b[1;33m=\u001b[0m \u001b[0mclone\u001b[0m\u001b[1;33m(\u001b[0m\u001b[0mmodel\u001b[0m\u001b[1;33m)\u001b[0m\u001b[1;33m\u001b[0m\u001b[1;33m\u001b[0m\u001b[0m\n\u001b[1;32m---> 34\u001b[1;33m         \u001b[0mmodel_\u001b[0m\u001b[1;33m.\u001b[0m\u001b[0mfit\u001b[0m\u001b[1;33m(\u001b[0m\u001b[0mtrainX\u001b[0m\u001b[1;33m,\u001b[0m\u001b[0mtrainy\u001b[0m\u001b[1;33m)\u001b[0m\u001b[1;33m\u001b[0m\u001b[1;33m\u001b[0m\u001b[0m\n\u001b[0m\u001b[0;32m     35\u001b[0m         \u001b[0mpreds\u001b[0m \u001b[1;33m=\u001b[0m \u001b[0mmodel_\u001b[0m\u001b[1;33m.\u001b[0m\u001b[0mpredict\u001b[0m\u001b[1;33m(\u001b[0m\u001b[0mX\u001b[0m \u001b[1;33m=\u001b[0m \u001b[0mtestX\u001b[0m\u001b[1;33m)\u001b[0m\u001b[1;33m\u001b[0m\u001b[1;33m\u001b[0m\u001b[0m\n\u001b[0;32m     36\u001b[0m         \u001b[1;32mif\u001b[0m \u001b[0mpredict_count\u001b[0m\u001b[1;33m:\u001b[0m\u001b[1;33m\u001b[0m\u001b[1;33m\u001b[0m\u001b[0m\n",
      "\u001b[1;32mc:\\users\\greggazz\\anaconda3\\envs\\tf\\lib\\site-packages\\sklearn\\ensemble\\forest.py\u001b[0m in \u001b[0;36mfit\u001b[1;34m(self, X, y, sample_weight)\u001b[0m\n\u001b[0;32m    328\u001b[0m                     \u001b[0mt\u001b[0m\u001b[1;33m,\u001b[0m \u001b[0mself\u001b[0m\u001b[1;33m,\u001b[0m \u001b[0mX\u001b[0m\u001b[1;33m,\u001b[0m \u001b[0my\u001b[0m\u001b[1;33m,\u001b[0m \u001b[0msample_weight\u001b[0m\u001b[1;33m,\u001b[0m \u001b[0mi\u001b[0m\u001b[1;33m,\u001b[0m \u001b[0mlen\u001b[0m\u001b[1;33m(\u001b[0m\u001b[0mtrees\u001b[0m\u001b[1;33m)\u001b[0m\u001b[1;33m,\u001b[0m\u001b[1;33m\u001b[0m\u001b[1;33m\u001b[0m\u001b[0m\n\u001b[0;32m    329\u001b[0m                     verbose=self.verbose, class_weight=self.class_weight)\n\u001b[1;32m--> 330\u001b[1;33m                 for i, t in enumerate(trees))\n\u001b[0m\u001b[0;32m    331\u001b[0m \u001b[1;33m\u001b[0m\u001b[0m\n\u001b[0;32m    332\u001b[0m             \u001b[1;31m# Collect newly grown trees\u001b[0m\u001b[1;33m\u001b[0m\u001b[1;33m\u001b[0m\u001b[1;33m\u001b[0m\u001b[0m\n",
      "\u001b[1;32mc:\\users\\greggazz\\anaconda3\\envs\\tf\\lib\\site-packages\\joblib\\parallel.py\u001b[0m in \u001b[0;36m__call__\u001b[1;34m(self, iterable)\u001b[0m\n\u001b[0;32m    919\u001b[0m             \u001b[1;31m# remaining jobs.\u001b[0m\u001b[1;33m\u001b[0m\u001b[1;33m\u001b[0m\u001b[1;33m\u001b[0m\u001b[0m\n\u001b[0;32m    920\u001b[0m             \u001b[0mself\u001b[0m\u001b[1;33m.\u001b[0m\u001b[0m_iterating\u001b[0m \u001b[1;33m=\u001b[0m \u001b[1;32mFalse\u001b[0m\u001b[1;33m\u001b[0m\u001b[1;33m\u001b[0m\u001b[0m\n\u001b[1;32m--> 921\u001b[1;33m             \u001b[1;32mif\u001b[0m \u001b[0mself\u001b[0m\u001b[1;33m.\u001b[0m\u001b[0mdispatch_one_batch\u001b[0m\u001b[1;33m(\u001b[0m\u001b[0miterator\u001b[0m\u001b[1;33m)\u001b[0m\u001b[1;33m:\u001b[0m\u001b[1;33m\u001b[0m\u001b[1;33m\u001b[0m\u001b[0m\n\u001b[0m\u001b[0;32m    922\u001b[0m                 \u001b[0mself\u001b[0m\u001b[1;33m.\u001b[0m\u001b[0m_iterating\u001b[0m \u001b[1;33m=\u001b[0m \u001b[0mself\u001b[0m\u001b[1;33m.\u001b[0m\u001b[0m_original_iterator\u001b[0m \u001b[1;32mis\u001b[0m \u001b[1;32mnot\u001b[0m \u001b[1;32mNone\u001b[0m\u001b[1;33m\u001b[0m\u001b[1;33m\u001b[0m\u001b[0m\n\u001b[0;32m    923\u001b[0m \u001b[1;33m\u001b[0m\u001b[0m\n",
      "\u001b[1;32mc:\\users\\greggazz\\anaconda3\\envs\\tf\\lib\\site-packages\\joblib\\parallel.py\u001b[0m in \u001b[0;36mdispatch_one_batch\u001b[1;34m(self, iterator)\u001b[0m\n\u001b[0;32m    757\u001b[0m                 \u001b[1;32mreturn\u001b[0m \u001b[1;32mFalse\u001b[0m\u001b[1;33m\u001b[0m\u001b[1;33m\u001b[0m\u001b[0m\n\u001b[0;32m    758\u001b[0m             \u001b[1;32melse\u001b[0m\u001b[1;33m:\u001b[0m\u001b[1;33m\u001b[0m\u001b[1;33m\u001b[0m\u001b[0m\n\u001b[1;32m--> 759\u001b[1;33m                 \u001b[0mself\u001b[0m\u001b[1;33m.\u001b[0m\u001b[0m_dispatch\u001b[0m\u001b[1;33m(\u001b[0m\u001b[0mtasks\u001b[0m\u001b[1;33m)\u001b[0m\u001b[1;33m\u001b[0m\u001b[1;33m\u001b[0m\u001b[0m\n\u001b[0m\u001b[0;32m    760\u001b[0m                 \u001b[1;32mreturn\u001b[0m \u001b[1;32mTrue\u001b[0m\u001b[1;33m\u001b[0m\u001b[1;33m\u001b[0m\u001b[0m\n\u001b[0;32m    761\u001b[0m \u001b[1;33m\u001b[0m\u001b[0m\n",
      "\u001b[1;32mc:\\users\\greggazz\\anaconda3\\envs\\tf\\lib\\site-packages\\joblib\\parallel.py\u001b[0m in \u001b[0;36m_dispatch\u001b[1;34m(self, batch)\u001b[0m\n\u001b[0;32m    714\u001b[0m         \u001b[1;32mwith\u001b[0m \u001b[0mself\u001b[0m\u001b[1;33m.\u001b[0m\u001b[0m_lock\u001b[0m\u001b[1;33m:\u001b[0m\u001b[1;33m\u001b[0m\u001b[1;33m\u001b[0m\u001b[0m\n\u001b[0;32m    715\u001b[0m             \u001b[0mjob_idx\u001b[0m \u001b[1;33m=\u001b[0m \u001b[0mlen\u001b[0m\u001b[1;33m(\u001b[0m\u001b[0mself\u001b[0m\u001b[1;33m.\u001b[0m\u001b[0m_jobs\u001b[0m\u001b[1;33m)\u001b[0m\u001b[1;33m\u001b[0m\u001b[1;33m\u001b[0m\u001b[0m\n\u001b[1;32m--> 716\u001b[1;33m             \u001b[0mjob\u001b[0m \u001b[1;33m=\u001b[0m \u001b[0mself\u001b[0m\u001b[1;33m.\u001b[0m\u001b[0m_backend\u001b[0m\u001b[1;33m.\u001b[0m\u001b[0mapply_async\u001b[0m\u001b[1;33m(\u001b[0m\u001b[0mbatch\u001b[0m\u001b[1;33m,\u001b[0m \u001b[0mcallback\u001b[0m\u001b[1;33m=\u001b[0m\u001b[0mcb\u001b[0m\u001b[1;33m)\u001b[0m\u001b[1;33m\u001b[0m\u001b[1;33m\u001b[0m\u001b[0m\n\u001b[0m\u001b[0;32m    717\u001b[0m             \u001b[1;31m# A job can complete so quickly than its callback is\u001b[0m\u001b[1;33m\u001b[0m\u001b[1;33m\u001b[0m\u001b[1;33m\u001b[0m\u001b[0m\n\u001b[0;32m    718\u001b[0m             \u001b[1;31m# called before we get here, causing self._jobs to\u001b[0m\u001b[1;33m\u001b[0m\u001b[1;33m\u001b[0m\u001b[1;33m\u001b[0m\u001b[0m\n",
      "\u001b[1;32mc:\\users\\greggazz\\anaconda3\\envs\\tf\\lib\\site-packages\\joblib\\_parallel_backends.py\u001b[0m in \u001b[0;36mapply_async\u001b[1;34m(self, func, callback)\u001b[0m\n\u001b[0;32m    180\u001b[0m     \u001b[1;32mdef\u001b[0m \u001b[0mapply_async\u001b[0m\u001b[1;33m(\u001b[0m\u001b[0mself\u001b[0m\u001b[1;33m,\u001b[0m \u001b[0mfunc\u001b[0m\u001b[1;33m,\u001b[0m \u001b[0mcallback\u001b[0m\u001b[1;33m=\u001b[0m\u001b[1;32mNone\u001b[0m\u001b[1;33m)\u001b[0m\u001b[1;33m:\u001b[0m\u001b[1;33m\u001b[0m\u001b[1;33m\u001b[0m\u001b[0m\n\u001b[0;32m    181\u001b[0m         \u001b[1;34m\"\"\"Schedule a func to be run\"\"\"\u001b[0m\u001b[1;33m\u001b[0m\u001b[1;33m\u001b[0m\u001b[0m\n\u001b[1;32m--> 182\u001b[1;33m         \u001b[0mresult\u001b[0m \u001b[1;33m=\u001b[0m \u001b[0mImmediateResult\u001b[0m\u001b[1;33m(\u001b[0m\u001b[0mfunc\u001b[0m\u001b[1;33m)\u001b[0m\u001b[1;33m\u001b[0m\u001b[1;33m\u001b[0m\u001b[0m\n\u001b[0m\u001b[0;32m    183\u001b[0m         \u001b[1;32mif\u001b[0m \u001b[0mcallback\u001b[0m\u001b[1;33m:\u001b[0m\u001b[1;33m\u001b[0m\u001b[1;33m\u001b[0m\u001b[0m\n\u001b[0;32m    184\u001b[0m             \u001b[0mcallback\u001b[0m\u001b[1;33m(\u001b[0m\u001b[0mresult\u001b[0m\u001b[1;33m)\u001b[0m\u001b[1;33m\u001b[0m\u001b[1;33m\u001b[0m\u001b[0m\n",
      "\u001b[1;32mc:\\users\\greggazz\\anaconda3\\envs\\tf\\lib\\site-packages\\joblib\\_parallel_backends.py\u001b[0m in \u001b[0;36m__init__\u001b[1;34m(self, batch)\u001b[0m\n\u001b[0;32m    547\u001b[0m         \u001b[1;31m# Don't delay the application, to avoid keeping the input\u001b[0m\u001b[1;33m\u001b[0m\u001b[1;33m\u001b[0m\u001b[1;33m\u001b[0m\u001b[0m\n\u001b[0;32m    548\u001b[0m         \u001b[1;31m# arguments in memory\u001b[0m\u001b[1;33m\u001b[0m\u001b[1;33m\u001b[0m\u001b[1;33m\u001b[0m\u001b[0m\n\u001b[1;32m--> 549\u001b[1;33m         \u001b[0mself\u001b[0m\u001b[1;33m.\u001b[0m\u001b[0mresults\u001b[0m \u001b[1;33m=\u001b[0m \u001b[0mbatch\u001b[0m\u001b[1;33m(\u001b[0m\u001b[1;33m)\u001b[0m\u001b[1;33m\u001b[0m\u001b[1;33m\u001b[0m\u001b[0m\n\u001b[0m\u001b[0;32m    550\u001b[0m \u001b[1;33m\u001b[0m\u001b[0m\n\u001b[0;32m    551\u001b[0m     \u001b[1;32mdef\u001b[0m \u001b[0mget\u001b[0m\u001b[1;33m(\u001b[0m\u001b[0mself\u001b[0m\u001b[1;33m)\u001b[0m\u001b[1;33m:\u001b[0m\u001b[1;33m\u001b[0m\u001b[1;33m\u001b[0m\u001b[0m\n",
      "\u001b[1;32mc:\\users\\greggazz\\anaconda3\\envs\\tf\\lib\\site-packages\\joblib\\parallel.py\u001b[0m in \u001b[0;36m__call__\u001b[1;34m(self)\u001b[0m\n\u001b[0;32m    223\u001b[0m         \u001b[1;32mwith\u001b[0m \u001b[0mparallel_backend\u001b[0m\u001b[1;33m(\u001b[0m\u001b[0mself\u001b[0m\u001b[1;33m.\u001b[0m\u001b[0m_backend\u001b[0m\u001b[1;33m,\u001b[0m \u001b[0mn_jobs\u001b[0m\u001b[1;33m=\u001b[0m\u001b[0mself\u001b[0m\u001b[1;33m.\u001b[0m\u001b[0m_n_jobs\u001b[0m\u001b[1;33m)\u001b[0m\u001b[1;33m:\u001b[0m\u001b[1;33m\u001b[0m\u001b[1;33m\u001b[0m\u001b[0m\n\u001b[0;32m    224\u001b[0m             return [func(*args, **kwargs)\n\u001b[1;32m--> 225\u001b[1;33m                     for func, args, kwargs in self.items]\n\u001b[0m\u001b[0;32m    226\u001b[0m \u001b[1;33m\u001b[0m\u001b[0m\n\u001b[0;32m    227\u001b[0m     \u001b[1;32mdef\u001b[0m \u001b[0m__len__\u001b[0m\u001b[1;33m(\u001b[0m\u001b[0mself\u001b[0m\u001b[1;33m)\u001b[0m\u001b[1;33m:\u001b[0m\u001b[1;33m\u001b[0m\u001b[1;33m\u001b[0m\u001b[0m\n",
      "\u001b[1;32mc:\\users\\greggazz\\anaconda3\\envs\\tf\\lib\\site-packages\\joblib\\parallel.py\u001b[0m in \u001b[0;36m<listcomp>\u001b[1;34m(.0)\u001b[0m\n\u001b[0;32m    223\u001b[0m         \u001b[1;32mwith\u001b[0m \u001b[0mparallel_backend\u001b[0m\u001b[1;33m(\u001b[0m\u001b[0mself\u001b[0m\u001b[1;33m.\u001b[0m\u001b[0m_backend\u001b[0m\u001b[1;33m,\u001b[0m \u001b[0mn_jobs\u001b[0m\u001b[1;33m=\u001b[0m\u001b[0mself\u001b[0m\u001b[1;33m.\u001b[0m\u001b[0m_n_jobs\u001b[0m\u001b[1;33m)\u001b[0m\u001b[1;33m:\u001b[0m\u001b[1;33m\u001b[0m\u001b[1;33m\u001b[0m\u001b[0m\n\u001b[0;32m    224\u001b[0m             return [func(*args, **kwargs)\n\u001b[1;32m--> 225\u001b[1;33m                     for func, args, kwargs in self.items]\n\u001b[0m\u001b[0;32m    226\u001b[0m \u001b[1;33m\u001b[0m\u001b[0m\n\u001b[0;32m    227\u001b[0m     \u001b[1;32mdef\u001b[0m \u001b[0m__len__\u001b[0m\u001b[1;33m(\u001b[0m\u001b[0mself\u001b[0m\u001b[1;33m)\u001b[0m\u001b[1;33m:\u001b[0m\u001b[1;33m\u001b[0m\u001b[1;33m\u001b[0m\u001b[0m\n",
      "\u001b[1;32mc:\\users\\greggazz\\anaconda3\\envs\\tf\\lib\\site-packages\\sklearn\\ensemble\\forest.py\u001b[0m in \u001b[0;36m_parallel_build_trees\u001b[1;34m(tree, forest, X, y, sample_weight, tree_idx, n_trees, verbose, class_weight)\u001b[0m\n\u001b[0;32m    116\u001b[0m             \u001b[0mcurr_sample_weight\u001b[0m \u001b[1;33m*=\u001b[0m \u001b[0mcompute_sample_weight\u001b[0m\u001b[1;33m(\u001b[0m\u001b[1;34m'balanced'\u001b[0m\u001b[1;33m,\u001b[0m \u001b[0my\u001b[0m\u001b[1;33m,\u001b[0m \u001b[0mindices\u001b[0m\u001b[1;33m)\u001b[0m\u001b[1;33m\u001b[0m\u001b[1;33m\u001b[0m\u001b[0m\n\u001b[0;32m    117\u001b[0m \u001b[1;33m\u001b[0m\u001b[0m\n\u001b[1;32m--> 118\u001b[1;33m         \u001b[0mtree\u001b[0m\u001b[1;33m.\u001b[0m\u001b[0mfit\u001b[0m\u001b[1;33m(\u001b[0m\u001b[0mX\u001b[0m\u001b[1;33m,\u001b[0m \u001b[0my\u001b[0m\u001b[1;33m,\u001b[0m \u001b[0msample_weight\u001b[0m\u001b[1;33m=\u001b[0m\u001b[0mcurr_sample_weight\u001b[0m\u001b[1;33m,\u001b[0m \u001b[0mcheck_input\u001b[0m\u001b[1;33m=\u001b[0m\u001b[1;32mFalse\u001b[0m\u001b[1;33m)\u001b[0m\u001b[1;33m\u001b[0m\u001b[1;33m\u001b[0m\u001b[0m\n\u001b[0m\u001b[0;32m    119\u001b[0m     \u001b[1;32melse\u001b[0m\u001b[1;33m:\u001b[0m\u001b[1;33m\u001b[0m\u001b[1;33m\u001b[0m\u001b[0m\n\u001b[0;32m    120\u001b[0m         \u001b[0mtree\u001b[0m\u001b[1;33m.\u001b[0m\u001b[0mfit\u001b[0m\u001b[1;33m(\u001b[0m\u001b[0mX\u001b[0m\u001b[1;33m,\u001b[0m \u001b[0my\u001b[0m\u001b[1;33m,\u001b[0m \u001b[0msample_weight\u001b[0m\u001b[1;33m=\u001b[0m\u001b[0msample_weight\u001b[0m\u001b[1;33m,\u001b[0m \u001b[0mcheck_input\u001b[0m\u001b[1;33m=\u001b[0m\u001b[1;32mFalse\u001b[0m\u001b[1;33m)\u001b[0m\u001b[1;33m\u001b[0m\u001b[1;33m\u001b[0m\u001b[0m\n",
      "\u001b[1;32mc:\\users\\greggazz\\anaconda3\\envs\\tf\\lib\\site-packages\\sklearn\\tree\\tree.py\u001b[0m in \u001b[0;36mfit\u001b[1;34m(self, X, y, sample_weight, check_input, X_idx_sorted)\u001b[0m\n\u001b[0;32m   1155\u001b[0m             \u001b[0msample_weight\u001b[0m\u001b[1;33m=\u001b[0m\u001b[0msample_weight\u001b[0m\u001b[1;33m,\u001b[0m\u001b[1;33m\u001b[0m\u001b[1;33m\u001b[0m\u001b[0m\n\u001b[0;32m   1156\u001b[0m             \u001b[0mcheck_input\u001b[0m\u001b[1;33m=\u001b[0m\u001b[0mcheck_input\u001b[0m\u001b[1;33m,\u001b[0m\u001b[1;33m\u001b[0m\u001b[1;33m\u001b[0m\u001b[0m\n\u001b[1;32m-> 1157\u001b[1;33m             X_idx_sorted=X_idx_sorted)\n\u001b[0m\u001b[0;32m   1158\u001b[0m         \u001b[1;32mreturn\u001b[0m \u001b[0mself\u001b[0m\u001b[1;33m\u001b[0m\u001b[1;33m\u001b[0m\u001b[0m\n\u001b[0;32m   1159\u001b[0m \u001b[1;33m\u001b[0m\u001b[0m\n",
      "\u001b[1;32mc:\\users\\greggazz\\anaconda3\\envs\\tf\\lib\\site-packages\\sklearn\\tree\\tree.py\u001b[0m in \u001b[0;36mfit\u001b[1;34m(self, X, y, sample_weight, check_input, X_idx_sorted)\u001b[0m\n\u001b[0;32m    378\u001b[0m                                            min_impurity_split)\n\u001b[0;32m    379\u001b[0m \u001b[1;33m\u001b[0m\u001b[0m\n\u001b[1;32m--> 380\u001b[1;33m         \u001b[0mbuilder\u001b[0m\u001b[1;33m.\u001b[0m\u001b[0mbuild\u001b[0m\u001b[1;33m(\u001b[0m\u001b[0mself\u001b[0m\u001b[1;33m.\u001b[0m\u001b[0mtree_\u001b[0m\u001b[1;33m,\u001b[0m \u001b[0mX\u001b[0m\u001b[1;33m,\u001b[0m \u001b[0my\u001b[0m\u001b[1;33m,\u001b[0m \u001b[0msample_weight\u001b[0m\u001b[1;33m,\u001b[0m \u001b[0mX_idx_sorted\u001b[0m\u001b[1;33m)\u001b[0m\u001b[1;33m\u001b[0m\u001b[1;33m\u001b[0m\u001b[0m\n\u001b[0m\u001b[0;32m    381\u001b[0m \u001b[1;33m\u001b[0m\u001b[0m\n\u001b[0;32m    382\u001b[0m         \u001b[1;32mif\u001b[0m \u001b[0mself\u001b[0m\u001b[1;33m.\u001b[0m\u001b[0mn_outputs_\u001b[0m \u001b[1;33m==\u001b[0m \u001b[1;36m1\u001b[0m\u001b[1;33m:\u001b[0m\u001b[1;33m\u001b[0m\u001b[1;33m\u001b[0m\u001b[0m\n",
      "\u001b[1;31mKeyboardInterrupt\u001b[0m: "
     ]
    }
   ],
   "source": [
    "rfModel = RandomForestRegressor(n_estimators=100)\n",
    "testModel(df = train_old, n_splits = 10, model = rfModel, pca = True)\n",
    "testModel(df = train, n_splits = 10, model = rfModel, pca = True)"
   ]
  },
  {
   "cell_type": "markdown",
   "metadata": {},
   "source": [
    "*Worse with PCA in general* "
   ]
  },
  {
   "cell_type": "markdown",
   "metadata": {},
   "source": [
    "4. Try scaling data (standard scaling) & rerunning estimations with & without PCA\n",
    "        - Try both datasets with and without removed collinear features"
   ]
  },
  {
   "cell_type": "code",
   "execution_count": 22,
   "metadata": {},
   "outputs": [],
   "source": [
    "# 1. Standardised Dataset\n",
    "def scaleData(df):\n",
    "    ss = StandardScaler()\n",
    "    X = df.drop(['count', 'log_count'], axis = 1).values\n",
    "    scaler = StandardScaler().fit_transform(X)\n",
    "    df_scaled = pd.DataFrame(X, columns=df.columns[:-2])\n",
    "    df_scaled['count'] = df['count']\n",
    "    df_scaled['log_count'] = df.log_count\n",
    "    return df_scaled"
   ]
  },
  {
   "cell_type": "markdown",
   "metadata": {},
   "source": [
    "Scaled, colinearity removed, no PCA"
   ]
  },
  {
   "cell_type": "code",
   "execution_count": 23,
   "metadata": {},
   "outputs": [],
   "source": [
    "rfModel = RandomForestRegressor(n_estimators=100)\n",
    "train_old_edit_std = scaleData(train_old_edit)\n",
    "train_edit_std = scaleData(train_edit)\n",
    "testModel(df = train_old_edit_std, n_splits = 10, model = rfModel)\n",
    "testModel(df = train_edit_std, n_splits = 10, model = rfModel)"
   ]
  },
  {
   "cell_type": "markdown",
   "metadata": {},
   "source": [
    "Scaled, colinearity removed with PCA"
   ]
  },
  {
   "cell_type": "code",
   "execution_count": 275,
   "metadata": {},
   "outputs": [
    {
     "name": "stdout",
     "output_type": "stream",
     "text": [
      "RMSLE Value For Kf_i:  0.69, 0.68, 0.66, 0.73, 0.66, 0.66, 0.65, 0.66, 0.63, 0.66, Average RMSLE:  0.67\n",
      "RMSLE Value For Kf_i:  1.08, 1.07, 1.05, 1.09, 1.09, 1.05, 1.05, 1.06, 1.07, 1.12, Average RMSLE:  1.07\n"
     ]
    }
   ],
   "source": [
    "rfModel = RandomForestRegressor(n_estimators=100)\n",
    "train_old_edit_std = scaleData(train_old_edit)\n",
    "train_edit_std = scaleData(train_edit)\n",
    "testModel(df = train_old_edit_std, n_splits = 10, model = rfModel, pca = True)\n",
    "testModel(df = train_edit_std, n_splits = 10, model = rfModel, pca = True)"
   ]
  },
  {
   "cell_type": "markdown",
   "metadata": {},
   "source": [
    "Scaled, no colinearity removed, no PCA"
   ]
  },
  {
   "cell_type": "code",
   "execution_count": 276,
   "metadata": {},
   "outputs": [
    {
     "name": "stdout",
     "output_type": "stream",
     "text": [
      "RMSLE Value For Kf_i:  0.38, 0.38, 0.37, 0.4, 0.38, 0.36, 0.37, 0.39, 0.39, 0.39, Average RMSLE:  0.38\n",
      "RMSLE Value For Kf_i:  0.47, 0.46, 0.44, 0.45, 0.44, 0.45, 0.45, 0.44, 0.47, 0.46, Average RMSLE:  0.45\n"
     ]
    }
   ],
   "source": [
    "rfModel = RandomForestRegressor(n_estimators=100)\n",
    "train_old_std = scaleData(train_old)\n",
    "train_std = scaleData(train)\n",
    "testModel(df = train_old_std, n_splits = 10, model = rfModel)\n",
    "testModel(df = train_std, n_splits = 10, model = rfModel)"
   ]
  },
  {
   "cell_type": "markdown",
   "metadata": {},
   "source": [
    "Scaled, no colinearity removed with PCA"
   ]
  },
  {
   "cell_type": "code",
   "execution_count": 277,
   "metadata": {
    "collapsed": true
   },
   "outputs": [
    {
     "name": "stdout",
     "output_type": "stream",
     "text": [
      "RMSLE Value For Kf_i:  0.69, 0.68, 0.66, 0.72, 0.66, 0.66, 0.66, 0.66, 0.64, "
     ]
    },
    {
     "ename": "KeyboardInterrupt",
     "evalue": "",
     "output_type": "error",
     "traceback": [
      "\u001b[1;31m---------------------------------------------------------------------------\u001b[0m",
      "\u001b[1;31mKeyboardInterrupt\u001b[0m                         Traceback (most recent call last)",
      "\u001b[1;32m<ipython-input-277-d4ba062b2d8c>\u001b[0m in \u001b[0;36m<module>\u001b[1;34m\u001b[0m\n\u001b[0;32m      2\u001b[0m \u001b[0mtrain_old_std\u001b[0m \u001b[1;33m=\u001b[0m \u001b[0mscaleData\u001b[0m\u001b[1;33m(\u001b[0m\u001b[0mtrain_old\u001b[0m\u001b[1;33m)\u001b[0m\u001b[1;33m\u001b[0m\u001b[1;33m\u001b[0m\u001b[0m\n\u001b[0;32m      3\u001b[0m \u001b[0mtrain_std\u001b[0m \u001b[1;33m=\u001b[0m \u001b[0mscaleData\u001b[0m\u001b[1;33m(\u001b[0m\u001b[0mtrain\u001b[0m\u001b[1;33m)\u001b[0m\u001b[1;33m\u001b[0m\u001b[1;33m\u001b[0m\u001b[0m\n\u001b[1;32m----> 4\u001b[1;33m \u001b[0mtestModel\u001b[0m\u001b[1;33m(\u001b[0m\u001b[0mdf\u001b[0m \u001b[1;33m=\u001b[0m \u001b[0mtrain_old_std\u001b[0m\u001b[1;33m,\u001b[0m \u001b[0mn_splits\u001b[0m \u001b[1;33m=\u001b[0m \u001b[1;36m10\u001b[0m\u001b[1;33m,\u001b[0m \u001b[0mmodel\u001b[0m \u001b[1;33m=\u001b[0m \u001b[0mrfModel\u001b[0m\u001b[1;33m,\u001b[0m \u001b[0mpca\u001b[0m \u001b[1;33m=\u001b[0m \u001b[1;32mTrue\u001b[0m\u001b[1;33m)\u001b[0m\u001b[1;33m\u001b[0m\u001b[1;33m\u001b[0m\u001b[0m\n\u001b[0m\u001b[0;32m      5\u001b[0m \u001b[0mtestModel\u001b[0m\u001b[1;33m(\u001b[0m\u001b[0mdf\u001b[0m \u001b[1;33m=\u001b[0m \u001b[0mtrain_std\u001b[0m\u001b[1;33m,\u001b[0m \u001b[0mn_splits\u001b[0m \u001b[1;33m=\u001b[0m \u001b[1;36m10\u001b[0m\u001b[1;33m,\u001b[0m \u001b[0mmodel\u001b[0m \u001b[1;33m=\u001b[0m \u001b[0mrfModel\u001b[0m\u001b[1;33m,\u001b[0m \u001b[0mpca\u001b[0m \u001b[1;33m=\u001b[0m \u001b[1;32mTrue\u001b[0m\u001b[1;33m)\u001b[0m\u001b[1;33m\u001b[0m\u001b[1;33m\u001b[0m\u001b[0m\n",
      "\u001b[1;32m<ipython-input-269-283e64e7d84b>\u001b[0m in \u001b[0;36mtestModel\u001b[1;34m(df, n_splits, model, pca, n_components, returnVal, predict_count)\u001b[0m\n\u001b[0;32m     32\u001b[0m         \u001b[0mtrainy\u001b[0m\u001b[1;33m,\u001b[0m \u001b[0mtesty\u001b[0m \u001b[1;33m=\u001b[0m \u001b[0my\u001b[0m\u001b[1;33m[\u001b[0m\u001b[0mtrain_index\u001b[0m\u001b[1;33m]\u001b[0m\u001b[1;33m,\u001b[0m \u001b[0my\u001b[0m\u001b[1;33m[\u001b[0m\u001b[0mtest_index\u001b[0m\u001b[1;33m]\u001b[0m\u001b[1;33m\u001b[0m\u001b[1;33m\u001b[0m\u001b[0m\n\u001b[0;32m     33\u001b[0m         \u001b[0mmodel_\u001b[0m \u001b[1;33m=\u001b[0m \u001b[0mclone\u001b[0m\u001b[1;33m(\u001b[0m\u001b[0mmodel\u001b[0m\u001b[1;33m)\u001b[0m\u001b[1;33m\u001b[0m\u001b[1;33m\u001b[0m\u001b[0m\n\u001b[1;32m---> 34\u001b[1;33m         \u001b[0mmodel_\u001b[0m\u001b[1;33m.\u001b[0m\u001b[0mfit\u001b[0m\u001b[1;33m(\u001b[0m\u001b[0mtrainX\u001b[0m\u001b[1;33m,\u001b[0m\u001b[0mtrainy\u001b[0m\u001b[1;33m)\u001b[0m\u001b[1;33m\u001b[0m\u001b[1;33m\u001b[0m\u001b[0m\n\u001b[0m\u001b[0;32m     35\u001b[0m         \u001b[0mpreds\u001b[0m \u001b[1;33m=\u001b[0m \u001b[0mmodel_\u001b[0m\u001b[1;33m.\u001b[0m\u001b[0mpredict\u001b[0m\u001b[1;33m(\u001b[0m\u001b[0mX\u001b[0m \u001b[1;33m=\u001b[0m \u001b[0mtestX\u001b[0m\u001b[1;33m)\u001b[0m\u001b[1;33m\u001b[0m\u001b[1;33m\u001b[0m\u001b[0m\n\u001b[0;32m     36\u001b[0m         \u001b[1;32mif\u001b[0m \u001b[0mpredict_count\u001b[0m\u001b[1;33m:\u001b[0m\u001b[1;33m\u001b[0m\u001b[1;33m\u001b[0m\u001b[0m\n",
      "\u001b[1;32mc:\\users\\greggazz\\anaconda3\\envs\\tf\\lib\\site-packages\\sklearn\\ensemble\\forest.py\u001b[0m in \u001b[0;36mfit\u001b[1;34m(self, X, y, sample_weight)\u001b[0m\n\u001b[0;32m    328\u001b[0m                     \u001b[0mt\u001b[0m\u001b[1;33m,\u001b[0m \u001b[0mself\u001b[0m\u001b[1;33m,\u001b[0m \u001b[0mX\u001b[0m\u001b[1;33m,\u001b[0m \u001b[0my\u001b[0m\u001b[1;33m,\u001b[0m \u001b[0msample_weight\u001b[0m\u001b[1;33m,\u001b[0m \u001b[0mi\u001b[0m\u001b[1;33m,\u001b[0m \u001b[0mlen\u001b[0m\u001b[1;33m(\u001b[0m\u001b[0mtrees\u001b[0m\u001b[1;33m)\u001b[0m\u001b[1;33m,\u001b[0m\u001b[1;33m\u001b[0m\u001b[1;33m\u001b[0m\u001b[0m\n\u001b[0;32m    329\u001b[0m                     verbose=self.verbose, class_weight=self.class_weight)\n\u001b[1;32m--> 330\u001b[1;33m                 for i, t in enumerate(trees))\n\u001b[0m\u001b[0;32m    331\u001b[0m \u001b[1;33m\u001b[0m\u001b[0m\n\u001b[0;32m    332\u001b[0m             \u001b[1;31m# Collect newly grown trees\u001b[0m\u001b[1;33m\u001b[0m\u001b[1;33m\u001b[0m\u001b[1;33m\u001b[0m\u001b[0m\n",
      "\u001b[1;32mc:\\users\\greggazz\\anaconda3\\envs\\tf\\lib\\site-packages\\joblib\\parallel.py\u001b[0m in \u001b[0;36m__call__\u001b[1;34m(self, iterable)\u001b[0m\n\u001b[0;32m    922\u001b[0m                 \u001b[0mself\u001b[0m\u001b[1;33m.\u001b[0m\u001b[0m_iterating\u001b[0m \u001b[1;33m=\u001b[0m \u001b[0mself\u001b[0m\u001b[1;33m.\u001b[0m\u001b[0m_original_iterator\u001b[0m \u001b[1;32mis\u001b[0m \u001b[1;32mnot\u001b[0m \u001b[1;32mNone\u001b[0m\u001b[1;33m\u001b[0m\u001b[1;33m\u001b[0m\u001b[0m\n\u001b[0;32m    923\u001b[0m \u001b[1;33m\u001b[0m\u001b[0m\n\u001b[1;32m--> 924\u001b[1;33m             \u001b[1;32mwhile\u001b[0m \u001b[0mself\u001b[0m\u001b[1;33m.\u001b[0m\u001b[0mdispatch_one_batch\u001b[0m\u001b[1;33m(\u001b[0m\u001b[0miterator\u001b[0m\u001b[1;33m)\u001b[0m\u001b[1;33m:\u001b[0m\u001b[1;33m\u001b[0m\u001b[1;33m\u001b[0m\u001b[0m\n\u001b[0m\u001b[0;32m    925\u001b[0m                 \u001b[1;32mpass\u001b[0m\u001b[1;33m\u001b[0m\u001b[1;33m\u001b[0m\u001b[0m\n\u001b[0;32m    926\u001b[0m \u001b[1;33m\u001b[0m\u001b[0m\n",
      "\u001b[1;32mc:\\users\\greggazz\\anaconda3\\envs\\tf\\lib\\site-packages\\joblib\\parallel.py\u001b[0m in \u001b[0;36mdispatch_one_batch\u001b[1;34m(self, iterator)\u001b[0m\n\u001b[0;32m    757\u001b[0m                 \u001b[1;32mreturn\u001b[0m \u001b[1;32mFalse\u001b[0m\u001b[1;33m\u001b[0m\u001b[1;33m\u001b[0m\u001b[0m\n\u001b[0;32m    758\u001b[0m             \u001b[1;32melse\u001b[0m\u001b[1;33m:\u001b[0m\u001b[1;33m\u001b[0m\u001b[1;33m\u001b[0m\u001b[0m\n\u001b[1;32m--> 759\u001b[1;33m                 \u001b[0mself\u001b[0m\u001b[1;33m.\u001b[0m\u001b[0m_dispatch\u001b[0m\u001b[1;33m(\u001b[0m\u001b[0mtasks\u001b[0m\u001b[1;33m)\u001b[0m\u001b[1;33m\u001b[0m\u001b[1;33m\u001b[0m\u001b[0m\n\u001b[0m\u001b[0;32m    760\u001b[0m                 \u001b[1;32mreturn\u001b[0m \u001b[1;32mTrue\u001b[0m\u001b[1;33m\u001b[0m\u001b[1;33m\u001b[0m\u001b[0m\n\u001b[0;32m    761\u001b[0m \u001b[1;33m\u001b[0m\u001b[0m\n",
      "\u001b[1;32mc:\\users\\greggazz\\anaconda3\\envs\\tf\\lib\\site-packages\\joblib\\parallel.py\u001b[0m in \u001b[0;36m_dispatch\u001b[1;34m(self, batch)\u001b[0m\n\u001b[0;32m    714\u001b[0m         \u001b[1;32mwith\u001b[0m \u001b[0mself\u001b[0m\u001b[1;33m.\u001b[0m\u001b[0m_lock\u001b[0m\u001b[1;33m:\u001b[0m\u001b[1;33m\u001b[0m\u001b[1;33m\u001b[0m\u001b[0m\n\u001b[0;32m    715\u001b[0m             \u001b[0mjob_idx\u001b[0m \u001b[1;33m=\u001b[0m \u001b[0mlen\u001b[0m\u001b[1;33m(\u001b[0m\u001b[0mself\u001b[0m\u001b[1;33m.\u001b[0m\u001b[0m_jobs\u001b[0m\u001b[1;33m)\u001b[0m\u001b[1;33m\u001b[0m\u001b[1;33m\u001b[0m\u001b[0m\n\u001b[1;32m--> 716\u001b[1;33m             \u001b[0mjob\u001b[0m \u001b[1;33m=\u001b[0m \u001b[0mself\u001b[0m\u001b[1;33m.\u001b[0m\u001b[0m_backend\u001b[0m\u001b[1;33m.\u001b[0m\u001b[0mapply_async\u001b[0m\u001b[1;33m(\u001b[0m\u001b[0mbatch\u001b[0m\u001b[1;33m,\u001b[0m \u001b[0mcallback\u001b[0m\u001b[1;33m=\u001b[0m\u001b[0mcb\u001b[0m\u001b[1;33m)\u001b[0m\u001b[1;33m\u001b[0m\u001b[1;33m\u001b[0m\u001b[0m\n\u001b[0m\u001b[0;32m    717\u001b[0m             \u001b[1;31m# A job can complete so quickly than its callback is\u001b[0m\u001b[1;33m\u001b[0m\u001b[1;33m\u001b[0m\u001b[1;33m\u001b[0m\u001b[0m\n\u001b[0;32m    718\u001b[0m             \u001b[1;31m# called before we get here, causing self._jobs to\u001b[0m\u001b[1;33m\u001b[0m\u001b[1;33m\u001b[0m\u001b[1;33m\u001b[0m\u001b[0m\n",
      "\u001b[1;32mc:\\users\\greggazz\\anaconda3\\envs\\tf\\lib\\site-packages\\joblib\\_parallel_backends.py\u001b[0m in \u001b[0;36mapply_async\u001b[1;34m(self, func, callback)\u001b[0m\n\u001b[0;32m    180\u001b[0m     \u001b[1;32mdef\u001b[0m \u001b[0mapply_async\u001b[0m\u001b[1;33m(\u001b[0m\u001b[0mself\u001b[0m\u001b[1;33m,\u001b[0m \u001b[0mfunc\u001b[0m\u001b[1;33m,\u001b[0m \u001b[0mcallback\u001b[0m\u001b[1;33m=\u001b[0m\u001b[1;32mNone\u001b[0m\u001b[1;33m)\u001b[0m\u001b[1;33m:\u001b[0m\u001b[1;33m\u001b[0m\u001b[1;33m\u001b[0m\u001b[0m\n\u001b[0;32m    181\u001b[0m         \u001b[1;34m\"\"\"Schedule a func to be run\"\"\"\u001b[0m\u001b[1;33m\u001b[0m\u001b[1;33m\u001b[0m\u001b[0m\n\u001b[1;32m--> 182\u001b[1;33m         \u001b[0mresult\u001b[0m \u001b[1;33m=\u001b[0m \u001b[0mImmediateResult\u001b[0m\u001b[1;33m(\u001b[0m\u001b[0mfunc\u001b[0m\u001b[1;33m)\u001b[0m\u001b[1;33m\u001b[0m\u001b[1;33m\u001b[0m\u001b[0m\n\u001b[0m\u001b[0;32m    183\u001b[0m         \u001b[1;32mif\u001b[0m \u001b[0mcallback\u001b[0m\u001b[1;33m:\u001b[0m\u001b[1;33m\u001b[0m\u001b[1;33m\u001b[0m\u001b[0m\n\u001b[0;32m    184\u001b[0m             \u001b[0mcallback\u001b[0m\u001b[1;33m(\u001b[0m\u001b[0mresult\u001b[0m\u001b[1;33m)\u001b[0m\u001b[1;33m\u001b[0m\u001b[1;33m\u001b[0m\u001b[0m\n",
      "\u001b[1;32mc:\\users\\greggazz\\anaconda3\\envs\\tf\\lib\\site-packages\\joblib\\_parallel_backends.py\u001b[0m in \u001b[0;36m__init__\u001b[1;34m(self, batch)\u001b[0m\n\u001b[0;32m    547\u001b[0m         \u001b[1;31m# Don't delay the application, to avoid keeping the input\u001b[0m\u001b[1;33m\u001b[0m\u001b[1;33m\u001b[0m\u001b[1;33m\u001b[0m\u001b[0m\n\u001b[0;32m    548\u001b[0m         \u001b[1;31m# arguments in memory\u001b[0m\u001b[1;33m\u001b[0m\u001b[1;33m\u001b[0m\u001b[1;33m\u001b[0m\u001b[0m\n\u001b[1;32m--> 549\u001b[1;33m         \u001b[0mself\u001b[0m\u001b[1;33m.\u001b[0m\u001b[0mresults\u001b[0m \u001b[1;33m=\u001b[0m \u001b[0mbatch\u001b[0m\u001b[1;33m(\u001b[0m\u001b[1;33m)\u001b[0m\u001b[1;33m\u001b[0m\u001b[1;33m\u001b[0m\u001b[0m\n\u001b[0m\u001b[0;32m    550\u001b[0m \u001b[1;33m\u001b[0m\u001b[0m\n\u001b[0;32m    551\u001b[0m     \u001b[1;32mdef\u001b[0m \u001b[0mget\u001b[0m\u001b[1;33m(\u001b[0m\u001b[0mself\u001b[0m\u001b[1;33m)\u001b[0m\u001b[1;33m:\u001b[0m\u001b[1;33m\u001b[0m\u001b[1;33m\u001b[0m\u001b[0m\n",
      "\u001b[1;32mc:\\users\\greggazz\\anaconda3\\envs\\tf\\lib\\site-packages\\joblib\\parallel.py\u001b[0m in \u001b[0;36m__call__\u001b[1;34m(self)\u001b[0m\n\u001b[0;32m    223\u001b[0m         \u001b[1;32mwith\u001b[0m \u001b[0mparallel_backend\u001b[0m\u001b[1;33m(\u001b[0m\u001b[0mself\u001b[0m\u001b[1;33m.\u001b[0m\u001b[0m_backend\u001b[0m\u001b[1;33m,\u001b[0m \u001b[0mn_jobs\u001b[0m\u001b[1;33m=\u001b[0m\u001b[0mself\u001b[0m\u001b[1;33m.\u001b[0m\u001b[0m_n_jobs\u001b[0m\u001b[1;33m)\u001b[0m\u001b[1;33m:\u001b[0m\u001b[1;33m\u001b[0m\u001b[1;33m\u001b[0m\u001b[0m\n\u001b[0;32m    224\u001b[0m             return [func(*args, **kwargs)\n\u001b[1;32m--> 225\u001b[1;33m                     for func, args, kwargs in self.items]\n\u001b[0m\u001b[0;32m    226\u001b[0m \u001b[1;33m\u001b[0m\u001b[0m\n\u001b[0;32m    227\u001b[0m     \u001b[1;32mdef\u001b[0m \u001b[0m__len__\u001b[0m\u001b[1;33m(\u001b[0m\u001b[0mself\u001b[0m\u001b[1;33m)\u001b[0m\u001b[1;33m:\u001b[0m\u001b[1;33m\u001b[0m\u001b[1;33m\u001b[0m\u001b[0m\n",
      "\u001b[1;32mc:\\users\\greggazz\\anaconda3\\envs\\tf\\lib\\site-packages\\joblib\\parallel.py\u001b[0m in \u001b[0;36m<listcomp>\u001b[1;34m(.0)\u001b[0m\n\u001b[0;32m    223\u001b[0m         \u001b[1;32mwith\u001b[0m \u001b[0mparallel_backend\u001b[0m\u001b[1;33m(\u001b[0m\u001b[0mself\u001b[0m\u001b[1;33m.\u001b[0m\u001b[0m_backend\u001b[0m\u001b[1;33m,\u001b[0m \u001b[0mn_jobs\u001b[0m\u001b[1;33m=\u001b[0m\u001b[0mself\u001b[0m\u001b[1;33m.\u001b[0m\u001b[0m_n_jobs\u001b[0m\u001b[1;33m)\u001b[0m\u001b[1;33m:\u001b[0m\u001b[1;33m\u001b[0m\u001b[1;33m\u001b[0m\u001b[0m\n\u001b[0;32m    224\u001b[0m             return [func(*args, **kwargs)\n\u001b[1;32m--> 225\u001b[1;33m                     for func, args, kwargs in self.items]\n\u001b[0m\u001b[0;32m    226\u001b[0m \u001b[1;33m\u001b[0m\u001b[0m\n\u001b[0;32m    227\u001b[0m     \u001b[1;32mdef\u001b[0m \u001b[0m__len__\u001b[0m\u001b[1;33m(\u001b[0m\u001b[0mself\u001b[0m\u001b[1;33m)\u001b[0m\u001b[1;33m:\u001b[0m\u001b[1;33m\u001b[0m\u001b[1;33m\u001b[0m\u001b[0m\n",
      "\u001b[1;32mc:\\users\\greggazz\\anaconda3\\envs\\tf\\lib\\site-packages\\sklearn\\ensemble\\forest.py\u001b[0m in \u001b[0;36m_parallel_build_trees\u001b[1;34m(tree, forest, X, y, sample_weight, tree_idx, n_trees, verbose, class_weight)\u001b[0m\n\u001b[0;32m    116\u001b[0m             \u001b[0mcurr_sample_weight\u001b[0m \u001b[1;33m*=\u001b[0m \u001b[0mcompute_sample_weight\u001b[0m\u001b[1;33m(\u001b[0m\u001b[1;34m'balanced'\u001b[0m\u001b[1;33m,\u001b[0m \u001b[0my\u001b[0m\u001b[1;33m,\u001b[0m \u001b[0mindices\u001b[0m\u001b[1;33m)\u001b[0m\u001b[1;33m\u001b[0m\u001b[1;33m\u001b[0m\u001b[0m\n\u001b[0;32m    117\u001b[0m \u001b[1;33m\u001b[0m\u001b[0m\n\u001b[1;32m--> 118\u001b[1;33m         \u001b[0mtree\u001b[0m\u001b[1;33m.\u001b[0m\u001b[0mfit\u001b[0m\u001b[1;33m(\u001b[0m\u001b[0mX\u001b[0m\u001b[1;33m,\u001b[0m \u001b[0my\u001b[0m\u001b[1;33m,\u001b[0m \u001b[0msample_weight\u001b[0m\u001b[1;33m=\u001b[0m\u001b[0mcurr_sample_weight\u001b[0m\u001b[1;33m,\u001b[0m \u001b[0mcheck_input\u001b[0m\u001b[1;33m=\u001b[0m\u001b[1;32mFalse\u001b[0m\u001b[1;33m)\u001b[0m\u001b[1;33m\u001b[0m\u001b[1;33m\u001b[0m\u001b[0m\n\u001b[0m\u001b[0;32m    119\u001b[0m     \u001b[1;32melse\u001b[0m\u001b[1;33m:\u001b[0m\u001b[1;33m\u001b[0m\u001b[1;33m\u001b[0m\u001b[0m\n\u001b[0;32m    120\u001b[0m         \u001b[0mtree\u001b[0m\u001b[1;33m.\u001b[0m\u001b[0mfit\u001b[0m\u001b[1;33m(\u001b[0m\u001b[0mX\u001b[0m\u001b[1;33m,\u001b[0m \u001b[0my\u001b[0m\u001b[1;33m,\u001b[0m \u001b[0msample_weight\u001b[0m\u001b[1;33m=\u001b[0m\u001b[0msample_weight\u001b[0m\u001b[1;33m,\u001b[0m \u001b[0mcheck_input\u001b[0m\u001b[1;33m=\u001b[0m\u001b[1;32mFalse\u001b[0m\u001b[1;33m)\u001b[0m\u001b[1;33m\u001b[0m\u001b[1;33m\u001b[0m\u001b[0m\n",
      "\u001b[1;32mc:\\users\\greggazz\\anaconda3\\envs\\tf\\lib\\site-packages\\sklearn\\tree\\tree.py\u001b[0m in \u001b[0;36mfit\u001b[1;34m(self, X, y, sample_weight, check_input, X_idx_sorted)\u001b[0m\n\u001b[0;32m   1155\u001b[0m             \u001b[0msample_weight\u001b[0m\u001b[1;33m=\u001b[0m\u001b[0msample_weight\u001b[0m\u001b[1;33m,\u001b[0m\u001b[1;33m\u001b[0m\u001b[1;33m\u001b[0m\u001b[0m\n\u001b[0;32m   1156\u001b[0m             \u001b[0mcheck_input\u001b[0m\u001b[1;33m=\u001b[0m\u001b[0mcheck_input\u001b[0m\u001b[1;33m,\u001b[0m\u001b[1;33m\u001b[0m\u001b[1;33m\u001b[0m\u001b[0m\n\u001b[1;32m-> 1157\u001b[1;33m             X_idx_sorted=X_idx_sorted)\n\u001b[0m\u001b[0;32m   1158\u001b[0m         \u001b[1;32mreturn\u001b[0m \u001b[0mself\u001b[0m\u001b[1;33m\u001b[0m\u001b[1;33m\u001b[0m\u001b[0m\n\u001b[0;32m   1159\u001b[0m \u001b[1;33m\u001b[0m\u001b[0m\n",
      "\u001b[1;32mc:\\users\\greggazz\\anaconda3\\envs\\tf\\lib\\site-packages\\sklearn\\tree\\tree.py\u001b[0m in \u001b[0;36mfit\u001b[1;34m(self, X, y, sample_weight, check_input, X_idx_sorted)\u001b[0m\n\u001b[0;32m    378\u001b[0m                                            min_impurity_split)\n\u001b[0;32m    379\u001b[0m \u001b[1;33m\u001b[0m\u001b[0m\n\u001b[1;32m--> 380\u001b[1;33m         \u001b[0mbuilder\u001b[0m\u001b[1;33m.\u001b[0m\u001b[0mbuild\u001b[0m\u001b[1;33m(\u001b[0m\u001b[0mself\u001b[0m\u001b[1;33m.\u001b[0m\u001b[0mtree_\u001b[0m\u001b[1;33m,\u001b[0m \u001b[0mX\u001b[0m\u001b[1;33m,\u001b[0m \u001b[0my\u001b[0m\u001b[1;33m,\u001b[0m \u001b[0msample_weight\u001b[0m\u001b[1;33m,\u001b[0m \u001b[0mX_idx_sorted\u001b[0m\u001b[1;33m)\u001b[0m\u001b[1;33m\u001b[0m\u001b[1;33m\u001b[0m\u001b[0m\n\u001b[0m\u001b[0;32m    381\u001b[0m \u001b[1;33m\u001b[0m\u001b[0m\n\u001b[0;32m    382\u001b[0m         \u001b[1;32mif\u001b[0m \u001b[0mself\u001b[0m\u001b[1;33m.\u001b[0m\u001b[0mn_outputs_\u001b[0m \u001b[1;33m==\u001b[0m \u001b[1;36m1\u001b[0m\u001b[1;33m:\u001b[0m\u001b[1;33m\u001b[0m\u001b[1;33m\u001b[0m\u001b[0m\n",
      "\u001b[1;31mKeyboardInterrupt\u001b[0m: "
     ]
    }
   ],
   "source": [
    "rfModel = RandomForestRegressor(n_estimators=100)\n",
    "train_old_std = scaleData(train_old)\n",
    "train_std = scaleData(train)\n",
    "testModel(df = train_old_std, n_splits = 10, model = rfModel, pca = True)\n",
    "testModel(df = train_std, n_splits = 10, model = rfModel, pca = True)"
   ]
  },
  {
   "cell_type": "markdown",
   "metadata": {},
   "source": [
    "Analysis indicates that scaled dataset not-removed collinearity features and no PCA is probably better: **'train_old_std'**\n",
    "    - Double check with varied PCA components however"
   ]
  },
  {
   "cell_type": "code",
   "execution_count": 219,
   "metadata": {},
   "outputs": [
    {
     "name": "stdout",
     "output_type": "stream",
     "text": [
      "RMSLE Value For Kf_i:  1.5, 1.52, 1.53, 1.53, 1.5, 1.53, 1.49, 1.52, 1.54, 1.58, Average RMSLE:  1.52\n",
      "RMSLE Value For Kf_i:  1.07, 1.14, 1.1, 1.12, 1.05, 1.08, 1.1, 1.09, 1.04, 1.1, Average RMSLE:  1.09\n",
      "RMSLE Value For Kf_i:  0.97, 1.02, 0.98, 0.98, 0.94, 0.94, 0.98, 0.98, 0.94, 0.98, Average RMSLE:  0.97\n",
      "RMSLE Value For Kf_i:  0.68, 0.69, 0.67, 0.74, 0.66, 0.66, 0.66, 0.67, 0.66, 0.69, Average RMSLE:  0.68\n",
      "RMSLE Value For Kf_i:  0.68, 0.68, 0.66, 0.73, 0.65, 0.65, 0.66, 0.65, 0.64, 0.66, Average RMSLE:  0.67\n",
      "RMSLE Value For Kf_i:  0.67, 0.68, 0.66, 0.72, 0.65, 0.65, 0.66, 0.66, 0.64, 0.66, Average RMSLE:  0.67\n"
     ]
    },
    {
     "data": {
      "image/png": "[encoded data removed]",
      "text/plain": [
       "<Figure size 1080x432 with 1 Axes>"
      ]
     },
     "metadata": {
      "needs_background": "light"
     },
     "output_type": "display_data"
    }
   ],
   "source": [
    "rfModel = RandomForestRegressor(n_estimators=100)\n",
    "df_ = train_old_edit_std.copy()\n",
    "listVals = []\n",
    "bestAvg = 1000\n",
    "nBest = 1000\n",
    "countWorsening = 0\n",
    "for i in range(1, 30):\n",
    "    newVal = testModel(df = df_, n_splits = 10, model = rfModel, pca = True, n_components = i, returnVal = True)\n",
    "    listVals.append(newVal)\n",
    "    \n",
    "    if newVal < bestAvg:\n",
    "        bestAvg = avgVal\n",
    "        nBest = i\n",
    "    elif newVal > bestAvg:\n",
    "        countWorsening += 1\n",
    "        \n",
    "    if (countWorsening > 5) or (i == len(df_.columns) - 3):\n",
    "        break\n",
    "        \n",
    "    \n",
    "f, axs = plt.subplots(1, 1, figsize=(15,6))\n",
    "axs.plot(range(0, len(listVals)), listVals)\n",
    "_ = axs.set(xlabel=\"Number of components\", ylabel='RMSLE', title='Performance evaluation PCA')"
   ]
  },
  {
   "cell_type": "code",
   "execution_count": 218,
   "metadata": {},
   "outputs": [
    {
     "data": {
      "text/plain": [
       "(9, 5)"
      ]
     },
     "execution_count": 218,
     "metadata": {},
     "output_type": "execute_result"
    }
   ],
   "source": [
    "len(df_.columns), i"
   ]
  },
  {
   "cell_type": "code",
   "execution_count": 220,
   "metadata": {},
   "outputs": [
    {
     "name": "stdout",
     "output_type": "stream",
     "text": [
      "RMSLE Value For Kf_i:  0.85, 0.89, 0.86, 0.94, 0.85, 0.78, 0.82, 0.85, 0.84, 0.9, Average RMSLE:  0.86\n"
     ]
    }
   ],
   "source": [
    "newVal = testModel(df = df_, n_splits = 10, model = rfModel, pca = True, n_components = 5, returnVal = True, predict_count = True)"
   ]
  },
  {
   "cell_type": "markdown",
   "metadata": {},
   "source": [
    "*'log_count' is still probably better than 'count as the predicted value*"
   ]
  },
  {
   "cell_type": "markdown",
   "metadata": {},
   "source": [
    "##### B. Hyperparameter tuning with Bayesian optimisation and explore different models\n",
    "    - run below methods"
   ]
  },
  {
   "cell_type": "code",
   "execution_count": 64,
   "metadata": {},
   "outputs": [],
   "source": [
    "#### ---------------------------------- HELPER FUNCTION --------------------------------------------------------------------\n",
    "\n",
    "def run_train_test_split(model):\n",
    "    df = df_Bayes_opt.copy()\n",
    "    X = df.drop(['log_count', 'count'], axis = 1).values\n",
    "    y = df.drop(df.columns.difference(['log_count']), axis = 1).values\n",
    "    n_splits = 3\n",
    "    kf = KFold(n_splits, True, 1)\n",
    "    rmsleScores = []\n",
    "\n",
    "    for train_index, test_index in kf.split(X):\n",
    "        trainX, testX = X[train_index], X[test_index]\n",
    "        trainy, testy = y[train_index], y[test_index]\n",
    "        mdl_ = clone(model)\n",
    "        mdl_.fit(trainX,trainy)\n",
    "        preds = mdl_.predict(testX)\n",
    "        rmsle_ = rmsle(testy, preds)\n",
    "        rmsleScores.append(rmsle_)\n",
    "    avgRmsle = sum(rmsleScores) / len(rmsleScores)\n",
    "    return avgRmsle\n",
    "\n",
    "#### ---------------------------------- OPTIMISERS --------------------------------------------------------------------\n",
    "\n",
    "def train_bayes_opt_rforest(max_depth, min_impurity_decrease, n_estimators):\n",
    "    \n",
    "    params_ = {\n",
    "        'max_depth': int(max_depth),\n",
    "        'min_impurity_decrease': float(min_impurity_decrease),\n",
    "        'n_estimators': int(n_estimators)\n",
    "    }\n",
    "    \n",
    "    mdl = RandomForestRegressor(**params_)\n",
    "    avgRmsle = run_train_test_split(mdl)\n",
    "    return -avgRmsle\n",
    "\n",
    "## -----------------------------------------------------------------------------------------------------------------------\n",
    "\n",
    "def train_bayes_opt_xgboost(max_depth, gamma, learning_rate, n_estimators):\n",
    "    \n",
    "    params = {       \n",
    "        'max_depth': int(max_depth),\n",
    "        'gamma': gamma,\n",
    "        'learning_rate':learning_rate,\n",
    "        'n_estimators':int(n_estimators)\n",
    "    }\n",
    "    \n",
    "    mdl = xgb.XGBRegressor(**params, silent = True)\n",
    "    avgRmsle = run_train_test_split(mdl)\n",
    "    return -avgRmsle\n",
    "\n",
    "## -----------------------------------------------------------------------------------------------------------------------\n",
    "\n",
    "def train_bayes_opt_lgbm(max_depth, gamma, learning_rate, n_estimators):\n",
    "    \n",
    "    params = {       \n",
    "        'max_depth': int(max_depth),\n",
    "        'gamma': gamma,\n",
    "        'learning_rate':learning_rate,\n",
    "        'n_estimators':int(n_estimators)\n",
    "    }\n",
    "\n",
    "    mdl = LGBMRegressor(**params)\n",
    "    avgRmsle = run_train_test_split(mdl)\n",
    "    return -avgRmsle\n",
    "\n",
    "## -----------------------------------------------------------------------------------------------------------------------\n",
    "\n",
    "\n",
    "def train_bayes_opt_gradboost(max_depth, min_impurity_decrease, learning_rate, n_estimators):\n",
    "    \n",
    "    params = {       \n",
    "        'max_depth': int(max_depth),\n",
    "        'min_impurity_decrease': min_impurity_decrease,\n",
    "        'learning_rate':learning_rate,\n",
    "        'n_estimators':int(n_estimators)\n",
    "    }\n",
    "\n",
    "    mdl = GradientBoostingRegressor(**params)\n",
    "    avgRmsle = run_train_test_split(mdl)\n",
    "    return -avgRmsle\n",
    "\n",
    "def train_bayes_opt_ridge(alpha):\n",
    "    \n",
    "    params = {       \n",
    "        'alpha': alpha,\n",
    "    }\n",
    "\n",
    "    mdl = Ridge(**params)\n",
    "    avgRmsle = run_train_test_split(mdl)\n",
    "    return -avgRmsle\n",
    "\n",
    "def train_bayes_opt_lasso(alpha):\n",
    "    \n",
    "    params = {       \n",
    "        'alpha': alpha,\n",
    "    }\n",
    "\n",
    "    mdl = Lasso(**params)\n",
    "    avgRmsle = run_train_test_split(mdl)\n",
    "    return -avgRmsle"
   ]
  },
  {
   "cell_type": "markdown",
   "metadata": {},
   "source": [
    "i. Try Random Forest"
   ]
  },
  {
   "cell_type": "code",
   "execution_count": 46,
   "metadata": {},
   "outputs": [
    {
     "name": "stdout",
     "output_type": "stream",
     "text": [
      "|   iter    |  target   | max_depth | min_im... | n_esti... |\n",
      "-------------------------------------------------------------\n",
      "| \u001b[0m 1       \u001b[0m | \u001b[0m-0.1327  \u001b[0m | \u001b[0m 44.62   \u001b[0m | \u001b[0m 0.007203\u001b[0m | \u001b[0m 50.02   \u001b[0m |\n",
      "| \u001b[95m 2       \u001b[0m | \u001b[95m-0.1093  \u001b[0m | \u001b[95m 33.72   \u001b[0m | \u001b[95m 0.001468\u001b[0m | \u001b[95m 68.47   \u001b[0m |\n",
      "| \u001b[0m 3       \u001b[0m | \u001b[0m-0.1206  \u001b[0m | \u001b[0m 22.69   \u001b[0m | \u001b[0m 0.003456\u001b[0m | \u001b[0m 129.4   \u001b[0m |\n",
      "| \u001b[0m 4       \u001b[0m | \u001b[0m-0.124   \u001b[0m | \u001b[0m 56.19   \u001b[0m | \u001b[0m 0.004192\u001b[0m | \u001b[0m 187.0   \u001b[0m |\n",
      "| \u001b[0m 5       \u001b[0m | \u001b[0m-0.1359  \u001b[0m | \u001b[0m 24.42   \u001b[0m | \u001b[0m 0.008781\u001b[0m | \u001b[0m 55.48   \u001b[0m |\n",
      "| \u001b[0m 6       \u001b[0m | \u001b[0m-0.1238  \u001b[0m | \u001b[0m 68.69   \u001b[0m | \u001b[0m 0.004173\u001b[0m | \u001b[0m 161.7   \u001b[0m |\n",
      "| \u001b[0m 7       \u001b[0m | \u001b[0m-0.1126  \u001b[0m | \u001b[0m 18.34   \u001b[0m | \u001b[0m 0.001981\u001b[0m | \u001b[0m 210.1   \u001b[0m |\n",
      "| \u001b[0m 8       \u001b[0m | \u001b[0m-0.1189  \u001b[0m | \u001b[0m 96.98   \u001b[0m | \u001b[0m 0.003134\u001b[0m | \u001b[0m 188.5   \u001b[0m |\n",
      "| \u001b[0m 9       \u001b[0m | \u001b[0m-0.1353  \u001b[0m | \u001b[0m 88.26   \u001b[0m | \u001b[0m 0.008946\u001b[0m | \u001b[0m 67.01   \u001b[0m |\n",
      "| \u001b[0m 10      \u001b[0m | \u001b[0m-0.112   \u001b[0m | \u001b[0m 8.71    \u001b[0m | \u001b[0m 0.001698\u001b[0m | \u001b[0m 225.6   \u001b[0m |\n",
      "| \u001b[0m 11      \u001b[0m | \u001b[0m-0.1286  \u001b[0m | \u001b[0m 99.55   \u001b[0m | \u001b[0m 0.005485\u001b[0m | \u001b[0m 249.7   \u001b[0m |\n",
      "| \u001b[0m 12      \u001b[0m | \u001b[0m-0.1163  \u001b[0m | \u001b[0m 40.46   \u001b[0m | \u001b[0m 0.002599\u001b[0m | \u001b[0m 250.0   \u001b[0m |\n",
      "| \u001b[0m 13      \u001b[0m | \u001b[0m-0.1303  \u001b[0m | \u001b[0m 59.08   \u001b[0m | \u001b[0m 0.00606 \u001b[0m | \u001b[0m 98.32   \u001b[0m |\n",
      "| \u001b[0m 14      \u001b[0m | \u001b[0m-0.1338  \u001b[0m | \u001b[0m 5.031   \u001b[0m | \u001b[0m 0.00472 \u001b[0m | \u001b[0m 96.69   \u001b[0m |\n",
      "| \u001b[0m 15      \u001b[0m | \u001b[0m-0.1311  \u001b[0m | \u001b[0m 5.034   \u001b[0m | \u001b[0m 0.003016\u001b[0m | \u001b[0m 174.1   \u001b[0m |\n",
      "| \u001b[0m 16      \u001b[0m | \u001b[0m-0.1294  \u001b[0m | \u001b[0m 5.0     \u001b[0m | \u001b[0m 9.097e-1\u001b[0m | \u001b[0m 250.0   \u001b[0m |\n",
      "| \u001b[0m 17      \u001b[0m | \u001b[0m-0.1226  \u001b[0m | \u001b[0m 99.98   \u001b[0m | \u001b[0m 0.0039  \u001b[0m | \u001b[0m 137.7   \u001b[0m |\n",
      "| \u001b[95m 18      \u001b[0m | \u001b[95m-0.09943 \u001b[0m | \u001b[95m 68.52   \u001b[0m | \u001b[95m 0.000404\u001b[0m | \u001b[95m 229.9   \u001b[0m |\n",
      "| \u001b[0m 19      \u001b[0m | \u001b[0m-0.1203  \u001b[0m | \u001b[0m 46.76   \u001b[0m | \u001b[0m 0.003407\u001b[0m | \u001b[0m 226.6   \u001b[0m |\n",
      "| \u001b[0m 20      \u001b[0m | \u001b[0m-0.1355  \u001b[0m | \u001b[0m 99.96   \u001b[0m | \u001b[0m 0.008988\u001b[0m | \u001b[0m 50.08   \u001b[0m |\n",
      "| \u001b[0m 21      \u001b[0m | \u001b[0m-0.09994 \u001b[0m | \u001b[0m 71.38   \u001b[0m | \u001b[0m 0.000442\u001b[0m | \u001b[0m 250.0   \u001b[0m |\n",
      "| \u001b[0m 22      \u001b[0m | \u001b[0m-0.1349  \u001b[0m | \u001b[0m 87.26   \u001b[0m | \u001b[0m 0.0084  \u001b[0m | \u001b[0m 226.7   \u001b[0m |\n",
      "| \u001b[0m 23      \u001b[0m | \u001b[0m-0.1262  \u001b[0m | \u001b[0m 99.8    \u001b[0m | \u001b[0m 0.004746\u001b[0m | \u001b[0m 163.3   \u001b[0m |\n",
      "| \u001b[0m 24      \u001b[0m | \u001b[0m-0.1354  \u001b[0m | \u001b[0m 100.0   \u001b[0m | \u001b[0m 0.008958\u001b[0m | \u001b[0m 96.2    \u001b[0m |\n",
      "| \u001b[0m 25      \u001b[0m | \u001b[0m-0.1309  \u001b[0m | \u001b[0m 5.011   \u001b[0m | \u001b[0m 0.002688\u001b[0m | \u001b[0m 204.4   \u001b[0m |\n",
      "| \u001b[0m 26      \u001b[0m | \u001b[0m-0.1168  \u001b[0m | \u001b[0m 31.96   \u001b[0m | \u001b[0m 0.002744\u001b[0m | \u001b[0m 162.2   \u001b[0m |\n",
      "| \u001b[0m 27      \u001b[0m | \u001b[0m-0.1323  \u001b[0m | \u001b[0m 29.19   \u001b[0m | \u001b[0m 0.007062\u001b[0m | \u001b[0m 94.71   \u001b[0m |\n",
      "| \u001b[0m 28      \u001b[0m | \u001b[0m-0.1311  \u001b[0m | \u001b[0m 5.14    \u001b[0m | \u001b[0m 0.00296 \u001b[0m | \u001b[0m 139.7   \u001b[0m |\n",
      "| \u001b[0m 29      \u001b[0m | \u001b[0m-0.1224  \u001b[0m | \u001b[0m 57.48   \u001b[0m | \u001b[0m 0.003855\u001b[0m | \u001b[0m 133.3   \u001b[0m |\n",
      "| \u001b[0m 30      \u001b[0m | \u001b[0m-0.1367  \u001b[0m | \u001b[0m 71.69   \u001b[0m | \u001b[0m 0.009888\u001b[0m | \u001b[0m 207.1   \u001b[0m |\n",
      "| \u001b[0m 31      \u001b[0m | \u001b[0m-0.122   \u001b[0m | \u001b[0m 62.34   \u001b[0m | \u001b[0m 0.003737\u001b[0m | \u001b[0m 241.5   \u001b[0m |\n",
      "| \u001b[0m 32      \u001b[0m | \u001b[0m-0.1299  \u001b[0m | \u001b[0m 5.037   \u001b[0m | \u001b[0m 0.000186\u001b[0m | \u001b[0m 66.09   \u001b[0m |\n",
      "| \u001b[0m 33      \u001b[0m | \u001b[0m-0.1101  \u001b[0m | \u001b[0m 83.16   \u001b[0m | \u001b[0m 0.001545\u001b[0m | \u001b[0m 119.5   \u001b[0m |\n",
      "| \u001b[0m 34      \u001b[0m | \u001b[0m-0.1171  \u001b[0m | \u001b[0m 74.59   \u001b[0m | \u001b[0m 0.002815\u001b[0m | \u001b[0m 50.01   \u001b[0m |\n",
      "| \u001b[0m 35      \u001b[0m | \u001b[0m-0.1208  \u001b[0m | \u001b[0m 70.12   \u001b[0m | \u001b[0m 0.003479\u001b[0m | \u001b[0m 236.2   \u001b[0m |\n",
      "| \u001b[0m 36      \u001b[0m | \u001b[0m-0.1347  \u001b[0m | \u001b[0m 31.18   \u001b[0m | \u001b[0m 0.0085  \u001b[0m | \u001b[0m 187.8   \u001b[0m |\n",
      "| \u001b[0m 37      \u001b[0m | \u001b[0m-0.1332  \u001b[0m | \u001b[0m 59.47   \u001b[0m | \u001b[0m 0.007271\u001b[0m | \u001b[0m 70.02   \u001b[0m |\n",
      "| \u001b[0m 38      \u001b[0m | \u001b[0m-0.1143  \u001b[0m | \u001b[0m 99.88   \u001b[0m | \u001b[0m 0.002254\u001b[0m | \u001b[0m 208.7   \u001b[0m |\n",
      "| \u001b[0m 39      \u001b[0m | \u001b[0m-0.1003  \u001b[0m | \u001b[0m 16.58   \u001b[0m | \u001b[0m 0.000451\u001b[0m | \u001b[0m 76.9    \u001b[0m |\n",
      "| \u001b[0m 40      \u001b[0m | \u001b[0m-0.1326  \u001b[0m | \u001b[0m 48.91   \u001b[0m | \u001b[0m 0.007084\u001b[0m | \u001b[0m 155.5   \u001b[0m |\n",
      "| \u001b[0m 41      \u001b[0m | \u001b[0m-0.1136  \u001b[0m | \u001b[0m 81.12   \u001b[0m | \u001b[0m 0.002068\u001b[0m | \u001b[0m 140.5   \u001b[0m |\n",
      "| \u001b[0m 42      \u001b[0m | \u001b[0m-0.1347  \u001b[0m | \u001b[0m 18.17   \u001b[0m | \u001b[0m 0.008243\u001b[0m | \u001b[0m 151.7   \u001b[0m |\n",
      "| \u001b[0m 43      \u001b[0m | \u001b[0m-0.1368  \u001b[0m | \u001b[0m 20.62   \u001b[0m | \u001b[0m 0.01    \u001b[0m | \u001b[0m 250.0   \u001b[0m |\n",
      "| \u001b[0m 44      \u001b[0m | \u001b[0m-0.1285  \u001b[0m | \u001b[0m 60.41   \u001b[0m | \u001b[0m 0.005531\u001b[0m | \u001b[0m 219.6   \u001b[0m |\n",
      "| \u001b[0m 45      \u001b[0m | \u001b[0m-0.1095  \u001b[0m | \u001b[0m 81.1    \u001b[0m | \u001b[0m 0.001469\u001b[0m | \u001b[0m 94.98   \u001b[0m |\n",
      "| \u001b[0m 46      \u001b[0m | \u001b[0m-0.1219  \u001b[0m | \u001b[0m 26.07   \u001b[0m | \u001b[0m 0.003728\u001b[0m | \u001b[0m 228.4   \u001b[0m |\n",
      "| \u001b[0m 47      \u001b[0m | \u001b[0m-0.1065  \u001b[0m | \u001b[0m 79.1    \u001b[0m | \u001b[0m 0.00109 \u001b[0m | \u001b[0m 179.2   \u001b[0m |\n",
      "| \u001b[0m 48      \u001b[0m | \u001b[0m-0.1254  \u001b[0m | \u001b[0m 42.19   \u001b[0m | \u001b[0m 0.004554\u001b[0m | \u001b[0m 120.1   \u001b[0m |\n",
      "| \u001b[0m 49      \u001b[0m | \u001b[0m-0.1307  \u001b[0m | \u001b[0m 68.25   \u001b[0m | \u001b[0m 0.006247\u001b[0m | \u001b[0m 115.8   \u001b[0m |\n",
      "| \u001b[0m 50      \u001b[0m | \u001b[0m-0.1347  \u001b[0m | \u001b[0m 99.96   \u001b[0m | \u001b[0m 0.008326\u001b[0m | \u001b[0m 117.4   \u001b[0m |\n",
      "| \u001b[0m 51      \u001b[0m | \u001b[0m-0.1355  \u001b[0m | \u001b[0m 5.064   \u001b[0m | \u001b[0m 0.006271\u001b[0m | \u001b[0m 118.3   \u001b[0m |\n",
      "| \u001b[0m 52      \u001b[0m | \u001b[0m-0.1129  \u001b[0m | \u001b[0m 83.85   \u001b[0m | \u001b[0m 0.001984\u001b[0m | \u001b[0m 250.0   \u001b[0m |\n",
      "| \u001b[0m 53      \u001b[0m | \u001b[0m-0.1216  \u001b[0m | \u001b[0m 55.73   \u001b[0m | \u001b[0m 0.003629\u001b[0m | \u001b[0m 250.0   \u001b[0m |\n",
      "| \u001b[0m 54      \u001b[0m | \u001b[0m-0.1329  \u001b[0m | \u001b[0m 89.29   \u001b[0m | \u001b[0m 0.007248\u001b[0m | \u001b[0m 204.5   \u001b[0m |\n",
      "| \u001b[0m 55      \u001b[0m | \u001b[0m-0.1339  \u001b[0m | \u001b[0m 37.14   \u001b[0m | \u001b[0m 0.007463\u001b[0m | \u001b[0m 138.3   \u001b[0m |\n",
      "| \u001b[0m 56      \u001b[0m | \u001b[0m-0.1229  \u001b[0m | \u001b[0m 48.84   \u001b[0m | \u001b[0m 0.003967\u001b[0m | \u001b[0m 173.3   \u001b[0m |\n",
      "| \u001b[95m 57      \u001b[0m | \u001b[95m-0.09658 \u001b[0m | \u001b[95m 85.38   \u001b[0m | \u001b[95m 0.0     \u001b[0m | \u001b[95m 166.0   \u001b[0m |\n",
      "| \u001b[0m 58      \u001b[0m | \u001b[0m-0.1131  \u001b[0m | \u001b[0m 88.56   \u001b[0m | \u001b[0m 0.001992\u001b[0m | \u001b[0m 153.8   \u001b[0m |\n",
      "| \u001b[0m 59      \u001b[0m | \u001b[0m-0.1069  \u001b[0m | \u001b[0m 89.2    \u001b[0m | \u001b[0m 0.001141\u001b[0m | \u001b[0m 173.5   \u001b[0m |\n",
      "| \u001b[0m 60      \u001b[0m | \u001b[0m-0.1364  \u001b[0m | \u001b[0m 5.043   \u001b[0m | \u001b[0m 0.007043\u001b[0m | \u001b[0m 79.13   \u001b[0m |\n",
      "=============================================================\n"
     ]
    }
   ],
   "source": [
    "bounds_ = {'n_estimators':(50, 250),\n",
    "              'min_impurity_decrease':(0.0,0.01),\n",
    "              'max_depth':(5,100)\n",
    "             }\n",
    "\n",
    "df_Bayes_opt = train_old_edit_std.copy()\n",
    "\n",
    "# Run Bayesian Optimizer:\n",
    "optimizer = BayesianOptimization(f=train_bayes_opt_rforest,  pbounds=bounds_, random_state=1)\n",
    "optimizer.maximize(init_points=10, n_iter=50)"
   ]
  },
  {
   "cell_type": "code",
   "execution_count": 47,
   "metadata": {},
   "outputs": [
    {
     "name": "stdout",
     "output_type": "stream",
     "text": [
      "RMSLE Value For Kf_i:  0.36, 0.36, 0.35, 0.37, 0.37, 0.35, 0.35, 0.36, 0.36, 0.37, Average RMSLE:  0.359\n"
     ]
    }
   ],
   "source": [
    "df_ = train_old_edit_std.copy()\n",
    "# Use best feature combinations and trial \n",
    "rfModel = RandomForestRegressor(n_estimators = 166, min_impurity_decrease = 0.0, max_depth = 85)\n",
    "newVal = testModel(df = df_, n_splits = 10, model = rfModel)"
   ]
  },
  {
   "cell_type": "code",
   "execution_count": 324,
   "metadata": {},
   "outputs": [
    {
     "name": "stdout",
     "output_type": "stream",
     "text": [
      "|   iter    |  target   |   gamma   | learni... | max_depth | n_esti... |\n",
      "-------------------------------------------------------------------------\n",
      "| \u001b[0m 1       \u001b[0m | \u001b[0m-0.1446  \u001b[0m | \u001b[0m 0.417   \u001b[0m | \u001b[0m 0.6042  \u001b[0m | \u001b[0m 1.001   \u001b[0m | \u001b[0m 337.2   \u001b[0m |\n",
      "| \u001b[95m 2       \u001b[0m | \u001b[95m-0.1049  \u001b[0m | \u001b[95m 0.1468  \u001b[0m | \u001b[95m 0.1646  \u001b[0m | \u001b[95m 2.676   \u001b[0m | \u001b[95m 378.3   \u001b[0m |\n",
      "| \u001b[95m 3       \u001b[0m | \u001b[95m-0.09664 \u001b[0m | \u001b[95m 0.3968  \u001b[0m | \u001b[95m 0.4772  \u001b[0m | \u001b[95m 4.773   \u001b[0m | \u001b[95m 701.0   \u001b[0m |\n",
      "| \u001b[0m 4       \u001b[0m | \u001b[0m-0.1441  \u001b[0m | \u001b[0m 0.2045  \u001b[0m | \u001b[0m 0.7147  \u001b[0m | \u001b[0m 1.246   \u001b[0m | \u001b[0m 686.9   \u001b[0m |\n",
      "| \u001b[0m 5       \u001b[0m | \u001b[0m-0.1085  \u001b[0m | \u001b[0m 0.4173  \u001b[0m | \u001b[0m 0.4911  \u001b[0m | \u001b[0m 2.263   \u001b[0m | \u001b[0m 238.2   \u001b[0m |\n",
      "| \u001b[95m 6       \u001b[0m | \u001b[95m-0.06788 \u001b[0m | \u001b[95m 0.8007  \u001b[0m | \u001b[95m 0.7778  \u001b[0m | \u001b[95m 3.821   \u001b[0m | \u001b[95m 707.7   \u001b[0m |\n",
      "| \u001b[0m 7       \u001b[0m | \u001b[0m-0.1472  \u001b[0m | \u001b[0m 0.8764  \u001b[0m | \u001b[0m 0.7262  \u001b[0m | \u001b[0m 1.765   \u001b[0m | \u001b[0m 87.1    \u001b[0m |\n",
      "| \u001b[0m 8       \u001b[0m | \u001b[0m-0.1441  \u001b[0m | \u001b[0m 0.1698  \u001b[0m | \u001b[0m 0.7147  \u001b[0m | \u001b[0m 1.885   \u001b[0m | \u001b[0m 450.1   \u001b[0m |\n",
      "| \u001b[0m 9       \u001b[0m | \u001b[0m-0.09527 \u001b[0m | \u001b[0m 0.9579  \u001b[0m | \u001b[0m 0.4732  \u001b[0m | \u001b[0m 7.227   \u001b[0m | \u001b[0m 349.7   \u001b[0m |\n",
      "| \u001b[0m 10      \u001b[0m | \u001b[0m-0.1452  \u001b[0m | \u001b[0m 0.6865  \u001b[0m | \u001b[0m 0.6842  \u001b[0m | \u001b[0m 1.165   \u001b[0m | \u001b[0m 762.6   \u001b[0m |\n",
      "| \u001b[0m 11      \u001b[0m | \u001b[0m-0.1457  \u001b[0m | \u001b[0m 1.0     \u001b[0m | \u001b[0m 0.8     \u001b[0m | \u001b[0m 1.0     \u001b[0m | \u001b[0m 1e+03   \u001b[0m |\n",
      "| \u001b[0m 12      \u001b[0m | \u001b[0m-0.1457  \u001b[0m | \u001b[0m 1.0     \u001b[0m | \u001b[0m 0.8     \u001b[0m | \u001b[0m 1.0     \u001b[0m | \u001b[0m 913.3   \u001b[0m |\n",
      "| \u001b[0m 13      \u001b[0m | \u001b[0m-0.0936  \u001b[0m | \u001b[0m 1.0     \u001b[0m | \u001b[0m 0.1     \u001b[0m | \u001b[0m 10.0    \u001b[0m | \u001b[0m 158.9   \u001b[0m |\n",
      "| \u001b[0m 14      \u001b[0m | \u001b[0m-0.09471 \u001b[0m | \u001b[0m 0.0     \u001b[0m | \u001b[0m 0.1     \u001b[0m | \u001b[0m 10.0    \u001b[0m | \u001b[0m 50.0    \u001b[0m |\n",
      "| \u001b[0m 15      \u001b[0m | \u001b[0m-0.104   \u001b[0m | \u001b[0m 1.0     \u001b[0m | \u001b[0m 0.8     \u001b[0m | \u001b[0m 10.0    \u001b[0m | \u001b[0m 539.1   \u001b[0m |\n",
      "| \u001b[0m 16      \u001b[0m | \u001b[0m-0.104   \u001b[0m | \u001b[0m 1.0     \u001b[0m | \u001b[0m 0.8     \u001b[0m | \u001b[0m 10.0    \u001b[0m | \u001b[0m 957.9   \u001b[0m |\n",
      "| \u001b[0m 17      \u001b[0m | \u001b[0m-0.0935  \u001b[0m | \u001b[0m 0.0     \u001b[0m | \u001b[0m 0.1     \u001b[0m | \u001b[0m 10.0    \u001b[0m | \u001b[0m 277.5   \u001b[0m |\n",
      "| \u001b[0m 18      \u001b[0m | \u001b[0m-0.0936  \u001b[0m | \u001b[0m 1.0     \u001b[0m | \u001b[0m 0.1     \u001b[0m | \u001b[0m 10.0    \u001b[0m | \u001b[0m 498.0   \u001b[0m |\n",
      "| \u001b[0m 19      \u001b[0m | \u001b[0m-0.07714 \u001b[0m | \u001b[0m 0.0     \u001b[0m | \u001b[0m 0.8     \u001b[0m | \u001b[0m 10.0    \u001b[0m | \u001b[0m 208.7   \u001b[0m |\n",
      "| \u001b[0m 20      \u001b[0m | \u001b[0m-0.104   \u001b[0m | \u001b[0m 1.0     \u001b[0m | \u001b[0m 0.8     \u001b[0m | \u001b[0m 10.0    \u001b[0m | \u001b[0m 410.1   \u001b[0m |\n",
      "| \u001b[0m 21      \u001b[0m | \u001b[0m-0.1439  \u001b[0m | \u001b[0m 0.1749  \u001b[0m | \u001b[0m 0.322   \u001b[0m | \u001b[0m 1.01    \u001b[0m | \u001b[0m 725.1   \u001b[0m |\n",
      "| \u001b[0m 22      \u001b[0m | \u001b[0m-0.104   \u001b[0m | \u001b[0m 1.0     \u001b[0m | \u001b[0m 0.8     \u001b[0m | \u001b[0m 10.0    \u001b[0m | \u001b[0m 837.2   \u001b[0m |\n",
      "| \u001b[0m 23      \u001b[0m | \u001b[0m-0.1457  \u001b[0m | \u001b[0m 1.0     \u001b[0m | \u001b[0m 0.8     \u001b[0m | \u001b[0m 1.0     \u001b[0m | \u001b[0m 602.4   \u001b[0m |\n",
      "| \u001b[0m 24      \u001b[0m | \u001b[0m-0.1457  \u001b[0m | \u001b[0m 1.0     \u001b[0m | \u001b[0m 0.8     \u001b[0m | \u001b[0m 1.0     \u001b[0m | \u001b[0m 807.0   \u001b[0m |\n",
      "| \u001b[0m 25      \u001b[0m | \u001b[0m-0.1457  \u001b[0m | \u001b[0m 1.0     \u001b[0m | \u001b[0m 0.8     \u001b[0m | \u001b[0m 1.0     \u001b[0m | \u001b[0m 520.2   \u001b[0m |\n",
      "| \u001b[0m 26      \u001b[0m | \u001b[0m-0.1551  \u001b[0m | \u001b[0m 0.0     \u001b[0m | \u001b[0m 0.1     \u001b[0m | \u001b[0m 1.0     \u001b[0m | \u001b[0m 182.4   \u001b[0m |\n",
      "| \u001b[0m 27      \u001b[0m | \u001b[0m-0.104   \u001b[0m | \u001b[0m 1.0     \u001b[0m | \u001b[0m 0.8     \u001b[0m | \u001b[0m 10.0    \u001b[0m | \u001b[0m 786.9   \u001b[0m |\n",
      "| \u001b[0m 28      \u001b[0m | \u001b[0m-0.104   \u001b[0m | \u001b[0m 1.0     \u001b[0m | \u001b[0m 0.8     \u001b[0m | \u001b[0m 10.0    \u001b[0m | \u001b[0m 882.0   \u001b[0m |\n",
      "| \u001b[0m 29      \u001b[0m | \u001b[0m-0.09323 \u001b[0m | \u001b[0m 0.0     \u001b[0m | \u001b[0m 0.1     \u001b[0m | \u001b[0m 10.0    \u001b[0m | \u001b[0m 116.4   \u001b[0m |\n",
      "| \u001b[0m 30      \u001b[0m | \u001b[0m-0.09368 \u001b[0m | \u001b[0m 0.0     \u001b[0m | \u001b[0m 0.1     \u001b[0m | \u001b[0m 10.0    \u001b[0m | \u001b[0m 1e+03   \u001b[0m |\n",
      "| \u001b[0m 31      \u001b[0m | \u001b[0m-0.1457  \u001b[0m | \u001b[0m 1.0     \u001b[0m | \u001b[0m 0.8     \u001b[0m | \u001b[0m 1.0     \u001b[0m | \u001b[0m 570.4   \u001b[0m |\n",
      "| \u001b[0m 32      \u001b[0m | \u001b[0m-0.1499  \u001b[0m | \u001b[0m 0.0     \u001b[0m | \u001b[0m 0.8     \u001b[0m | \u001b[0m 1.0     \u001b[0m | \u001b[0m 50.0    \u001b[0m |\n",
      "| \u001b[0m 33      \u001b[0m | \u001b[0m-0.0936  \u001b[0m | \u001b[0m 1.0     \u001b[0m | \u001b[0m 0.1     \u001b[0m | \u001b[0m 10.0    \u001b[0m | \u001b[0m 245.2   \u001b[0m |\n",
      "| \u001b[0m 34      \u001b[0m | \u001b[0m-0.1457  \u001b[0m | \u001b[0m 1.0     \u001b[0m | \u001b[0m 0.8     \u001b[0m | \u001b[0m 1.0     \u001b[0m | \u001b[0m 862.2   \u001b[0m |\n",
      "| \u001b[0m 35      \u001b[0m | \u001b[0m-0.104   \u001b[0m | \u001b[0m 1.0     \u001b[0m | \u001b[0m 0.8     \u001b[0m | \u001b[0m 10.0    \u001b[0m | \u001b[0m 719.4   \u001b[0m |\n",
      "| \u001b[0m 36      \u001b[0m | \u001b[0m-0.104   \u001b[0m | \u001b[0m 1.0     \u001b[0m | \u001b[0m 0.8     \u001b[0m | \u001b[0m 10.0    \u001b[0m | \u001b[0m 311.2   \u001b[0m |\n",
      "| \u001b[0m 37      \u001b[0m | \u001b[0m-0.07714 \u001b[0m | \u001b[0m 0.0     \u001b[0m | \u001b[0m 0.8     \u001b[0m | \u001b[0m 10.0    \u001b[0m | \u001b[0m 375.1   \u001b[0m |\n",
      "| \u001b[0m 38      \u001b[0m | \u001b[0m-0.104   \u001b[0m | \u001b[0m 1.0     \u001b[0m | \u001b[0m 0.8     \u001b[0m | \u001b[0m 10.0    \u001b[0m | \u001b[0m 584.9   \u001b[0m |\n",
      "| \u001b[0m 39      \u001b[0m | \u001b[0m-0.09371 \u001b[0m | \u001b[0m 0.0     \u001b[0m | \u001b[0m 0.1     \u001b[0m | \u001b[0m 10.0    \u001b[0m | \u001b[0m 75.38   \u001b[0m |\n",
      "| \u001b[0m 40      \u001b[0m | \u001b[0m-0.104   \u001b[0m | \u001b[0m 1.0     \u001b[0m | \u001b[0m 0.8     \u001b[0m | \u001b[0m 10.0    \u001b[0m | \u001b[0m 925.7   \u001b[0m |\n",
      "| \u001b[0m 41      \u001b[0m | \u001b[0m-0.0936  \u001b[0m | \u001b[0m 1.0     \u001b[0m | \u001b[0m 0.1     \u001b[0m | \u001b[0m 10.0    \u001b[0m | \u001b[0m 463.8   \u001b[0m |\n",
      "| \u001b[0m 42      \u001b[0m | \u001b[0m-0.09672 \u001b[0m | \u001b[0m 1.0     \u001b[0m | \u001b[0m 0.5018  \u001b[0m | \u001b[0m 10.0    \u001b[0m | \u001b[0m 982.2   \u001b[0m |\n",
      "| \u001b[0m 43      \u001b[0m | \u001b[0m-0.06911 \u001b[0m | \u001b[0m 0.8483  \u001b[0m | \u001b[0m 0.8     \u001b[0m | \u001b[0m 10.0    \u001b[0m | \u001b[0m 184.0   \u001b[0m |\n",
      "| \u001b[0m 44      \u001b[0m | \u001b[0m-0.09309 \u001b[0m | \u001b[0m 0.9563  \u001b[0m | \u001b[0m 0.1002  \u001b[0m | \u001b[0m 9.904   \u001b[0m | \u001b[0m 197.8   \u001b[0m |\n",
      "| \u001b[0m 45      \u001b[0m | \u001b[0m-0.09847 \u001b[0m | \u001b[0m 0.8548  \u001b[0m | \u001b[0m 0.661   \u001b[0m | \u001b[0m 9.938   \u001b[0m | \u001b[0m 95.82   \u001b[0m |\n",
      "| \u001b[0m 46      \u001b[0m | \u001b[0m-0.09964 \u001b[0m | \u001b[0m 0.002065\u001b[0m | \u001b[0m 0.5011  \u001b[0m | \u001b[0m 9.967   \u001b[0m | \u001b[0m 180.1   \u001b[0m |\n",
      "| \u001b[0m 47      \u001b[0m | \u001b[0m-0.1016  \u001b[0m | \u001b[0m 0.9681  \u001b[0m | \u001b[0m 0.7592  \u001b[0m | \u001b[0m 9.962   \u001b[0m | \u001b[0m 134.7   \u001b[0m |\n",
      "| \u001b[0m 48      \u001b[0m | \u001b[0m-0.104   \u001b[0m | \u001b[0m 1.0     \u001b[0m | \u001b[0m 0.8     \u001b[0m | \u001b[0m 10.0    \u001b[0m | \u001b[0m 633.7   \u001b[0m |\n",
      "| \u001b[0m 49      \u001b[0m | \u001b[0m-0.1457  \u001b[0m | \u001b[0m 1.0     \u001b[0m | \u001b[0m 0.8     \u001b[0m | \u001b[0m 1.0     \u001b[0m | \u001b[0m 290.2   \u001b[0m |\n",
      "| \u001b[0m 50      \u001b[0m | \u001b[0m-0.1019  \u001b[0m | \u001b[0m 0.9287  \u001b[0m | \u001b[0m 0.7845  \u001b[0m | \u001b[0m 9.844   \u001b[0m | \u001b[0m 221.8   \u001b[0m |\n",
      "| \u001b[0m 51      \u001b[0m | \u001b[0m-0.1457  \u001b[0m | \u001b[0m 1.0     \u001b[0m | \u001b[0m 0.8     \u001b[0m | \u001b[0m 1.0     \u001b[0m | \u001b[0m 480.3   \u001b[0m |\n",
      "| \u001b[0m 52      \u001b[0m | \u001b[0m-0.1114  \u001b[0m | \u001b[0m 0.6756  \u001b[0m | \u001b[0m 0.7973  \u001b[0m | \u001b[0m 2.256   \u001b[0m | \u001b[0m 261.8   \u001b[0m |\n",
      "| \u001b[0m 53      \u001b[0m | \u001b[0m-0.1457  \u001b[0m | \u001b[0m 1.0     \u001b[0m | \u001b[0m 0.8     \u001b[0m | \u001b[0m 1.0     \u001b[0m | \u001b[0m 639.2   \u001b[0m |\n",
      "| \u001b[0m 54      \u001b[0m | \u001b[0m-0.07714 \u001b[0m | \u001b[0m 0.0     \u001b[0m | \u001b[0m 0.8     \u001b[0m | \u001b[0m 10.0    \u001b[0m | \u001b[0m 433.7   \u001b[0m |\n",
      "| \u001b[0m 55      \u001b[0m | \u001b[0m-0.09368 \u001b[0m | \u001b[0m 0.0     \u001b[0m | \u001b[0m 0.1     \u001b[0m | \u001b[0m 10.0    \u001b[0m | \u001b[0m 902.2   \u001b[0m |\n",
      "| \u001b[0m 56      \u001b[0m | \u001b[0m-0.1028  \u001b[0m | \u001b[0m 0.9236  \u001b[0m | \u001b[0m 0.7609  \u001b[0m | \u001b[0m 9.781   \u001b[0m | \u001b[0m 60.66   \u001b[0m |\n",
      "| \u001b[0m 57      \u001b[0m | \u001b[0m-0.09368 \u001b[0m | \u001b[0m 0.0     \u001b[0m | \u001b[0m 0.1     \u001b[0m | \u001b[0m 10.0    \u001b[0m | \u001b[0m 858.5   \u001b[0m |\n",
      "| \u001b[0m 58      \u001b[0m | \u001b[0m-0.0936  \u001b[0m | \u001b[0m 1.0     \u001b[0m | \u001b[0m 0.1     \u001b[0m | \u001b[0m 10.0    \u001b[0m | \u001b[0m 612.8   \u001b[0m |\n",
      "| \u001b[0m 59      \u001b[0m | \u001b[0m-0.07714 \u001b[0m | \u001b[0m 0.0     \u001b[0m | \u001b[0m 0.8     \u001b[0m | \u001b[0m 10.0    \u001b[0m | \u001b[0m 481.7   \u001b[0m |\n",
      "| \u001b[0m 60      \u001b[0m | \u001b[0m-0.1454  \u001b[0m | \u001b[0m 0.9498  \u001b[0m | \u001b[0m 0.7666  \u001b[0m | \u001b[0m 1.376   \u001b[0m | \u001b[0m 208.6   \u001b[0m |\n",
      "=========================================================================\n"
     ]
    }
   ],
   "source": [
    "bounds_ = {'n_estimators':(50, 1000),\n",
    "              'learning_rate':(0.1,0.8),\n",
    "              'max_depth':(1,10),\n",
    "               'gamma':(0,1),\n",
    "             }\n",
    "\n",
    "df_Bayes_opt = train_old_edit_std.copy()\n",
    "\n",
    "# Run Bayesian Optimizer:\n",
    "optimizer = BayesianOptimization(f=train_bayes_opt_xgboost,  pbounds=bounds_, random_state=1)\n",
    "optimizer.maximize(init_points=10, n_iter=50)"
   ]
  },
  {
   "cell_type": "code",
   "execution_count": 340,
   "metadata": {},
   "outputs": [
    {
     "name": "stdout",
     "output_type": "stream",
     "text": [
      "RMSLE Value For Kf_i:  0.37, 0.39, 0.39, 0.39, 0.39, 0.36, 0.39, 0.38, 0.39, 0.4, Average RMSLE:  0.384\n"
     ]
    }
   ],
   "source": [
    "df_ = train_old_edit_std.copy()\n",
    "# Use best feature combinations and trial \n",
    "xgModel = xgb.XGBRegressor(gamma = 0.8007, learning_rate = 0.7778, max_depth = 4, n_estimators = 708, silent = True)\n",
    "newVal = testModel(df = df_, n_splits = 10, model = xgModel)"
   ]
  },
  {
   "cell_type": "markdown",
   "metadata": {},
   "source": [
    "Try LGBM Regressor for comparison"
   ]
  },
  {
   "cell_type": "code",
   "execution_count": 335,
   "metadata": {},
   "outputs": [
    {
     "name": "stdout",
     "output_type": "stream",
     "text": [
      "|   iter    |  target   |   gamma   | learni... | max_depth | n_esti... |\n",
      "-------------------------------------------------------------------------\n",
      "| \u001b[0m 1       \u001b[0m | \u001b[0m-0.144   \u001b[0m | \u001b[0m 0.417   \u001b[0m | \u001b[0m 0.6042  \u001b[0m | \u001b[0m 1.001   \u001b[0m | \u001b[0m 337.2   \u001b[0m |\n",
      "| \u001b[95m 2       \u001b[0m | \u001b[95m-0.102   \u001b[0m | \u001b[95m 0.1468  \u001b[0m | \u001b[95m 0.1646  \u001b[0m | \u001b[95m 2.676   \u001b[0m | \u001b[95m 378.3   \u001b[0m |\n",
      "| \u001b[95m 3       \u001b[0m | \u001b[95m-0.0921  \u001b[0m | \u001b[95m 0.3968  \u001b[0m | \u001b[95m 0.4772  \u001b[0m | \u001b[95m 4.773   \u001b[0m | \u001b[95m 701.0   \u001b[0m |\n",
      "| \u001b[0m 4       \u001b[0m | \u001b[0m-0.1438  \u001b[0m | \u001b[0m 0.2045  \u001b[0m | \u001b[0m 0.7147  \u001b[0m | \u001b[0m 1.246   \u001b[0m | \u001b[0m 686.9   \u001b[0m |\n",
      "| \u001b[0m 5       \u001b[0m | \u001b[0m-0.09866 \u001b[0m | \u001b[0m 0.4173  \u001b[0m | \u001b[0m 0.4911  \u001b[0m | \u001b[0m 2.263   \u001b[0m | \u001b[0m 238.2   \u001b[0m |\n",
      "| \u001b[0m 6       \u001b[0m | \u001b[0m-0.09405 \u001b[0m | \u001b[0m 0.8007  \u001b[0m | \u001b[0m 0.7778  \u001b[0m | \u001b[0m 3.821   \u001b[0m | \u001b[0m 707.7   \u001b[0m |\n",
      "| \u001b[0m 7       \u001b[0m | \u001b[0m-0.1472  \u001b[0m | \u001b[0m 0.8764  \u001b[0m | \u001b[0m 0.7262  \u001b[0m | \u001b[0m 1.765   \u001b[0m | \u001b[0m 87.1    \u001b[0m |\n",
      "| \u001b[0m 8       \u001b[0m | \u001b[0m-0.1439  \u001b[0m | \u001b[0m 0.1698  \u001b[0m | \u001b[0m 0.7147  \u001b[0m | \u001b[0m 1.885   \u001b[0m | \u001b[0m 450.1   \u001b[0m |\n",
      "| \u001b[0m 9       \u001b[0m | \u001b[0m-0.09349 \u001b[0m | \u001b[0m 0.9579  \u001b[0m | \u001b[0m 0.4732  \u001b[0m | \u001b[0m 7.227   \u001b[0m | \u001b[0m 349.7   \u001b[0m |\n",
      "| \u001b[0m 10      \u001b[0m | \u001b[0m-0.1438  \u001b[0m | \u001b[0m 0.6865  \u001b[0m | \u001b[0m 0.6842  \u001b[0m | \u001b[0m 1.165   \u001b[0m | \u001b[0m 762.6   \u001b[0m |\n",
      "| \u001b[95m 11      \u001b[0m | \u001b[95m-0.08765 \u001b[0m | \u001b[95m 1.0     \u001b[0m | \u001b[95m 0.1     \u001b[0m | \u001b[95m 10.0    \u001b[0m | \u001b[95m 1e+03   \u001b[0m |\n",
      "| \u001b[95m 12      \u001b[0m | \u001b[95m-0.03783 \u001b[0m | \u001b[95m 1.0     \u001b[0m | \u001b[95m 0.8     \u001b[0m | \u001b[95m 10.0    \u001b[0m | \u001b[95m 914.0   \u001b[0m |\n",
      "| \u001b[0m 13      \u001b[0m | \u001b[0m-0.08985 \u001b[0m | \u001b[0m 1.0     \u001b[0m | \u001b[0m 0.1     \u001b[0m | \u001b[0m 10.0    \u001b[0m | \u001b[0m 160.6   \u001b[0m |\n",
      "| \u001b[0m 14      \u001b[0m | \u001b[0m-0.09627 \u001b[0m | \u001b[0m 0.0     \u001b[0m | \u001b[0m 0.1     \u001b[0m | \u001b[0m 10.0    \u001b[0m | \u001b[0m 50.0    \u001b[0m |\n",
      "| \u001b[95m 15      \u001b[0m | \u001b[95m-0.03731 \u001b[0m | \u001b[95m 0.9181  \u001b[0m | \u001b[95m 0.7039  \u001b[0m | \u001b[95m 9.987   \u001b[0m | \u001b[95m 859.3   \u001b[0m |\n",
      "| \u001b[95m 16      \u001b[0m | \u001b[95m-0.03518 \u001b[0m | \u001b[95m 0.9383  \u001b[0m | \u001b[95m 0.6866  \u001b[0m | \u001b[95m 9.993   \u001b[0m | \u001b[95m 556.1   \u001b[0m |\n",
      "| \u001b[0m 17      \u001b[0m | \u001b[0m-0.09355 \u001b[0m | \u001b[0m 0.9521  \u001b[0m | \u001b[0m 0.3655  \u001b[0m | \u001b[0m 9.996   \u001b[0m | \u001b[0m 599.7   \u001b[0m |\n",
      "| \u001b[95m 18      \u001b[0m | \u001b[95m-0.03516 \u001b[0m | \u001b[95m 0.8     \u001b[0m | \u001b[95m 0.5109  \u001b[0m | \u001b[95m 9.991   \u001b[0m | \u001b[95m 517.4   \u001b[0m |\n",
      "| \u001b[0m 19      \u001b[0m | \u001b[0m-0.1449  \u001b[0m | \u001b[0m 1.0     \u001b[0m | \u001b[0m 0.1     \u001b[0m | \u001b[0m 1.0     \u001b[0m | \u001b[0m 890.9   \u001b[0m |\n",
      "| \u001b[0m 20      \u001b[0m | \u001b[0m-0.1041  \u001b[0m | \u001b[0m 0.4412  \u001b[0m | \u001b[0m 0.7698  \u001b[0m | \u001b[0m 9.976   \u001b[0m | \u001b[0m 734.1   \u001b[0m |\n",
      "| \u001b[0m 21      \u001b[0m | \u001b[0m-0.08763 \u001b[0m | \u001b[0m 0.0     \u001b[0m | \u001b[0m 0.1     \u001b[0m | \u001b[0m 10.0    \u001b[0m | \u001b[0m 957.9   \u001b[0m |\n",
      "| \u001b[0m 22      \u001b[0m | \u001b[0m-0.08802 \u001b[0m | \u001b[0m 0.0     \u001b[0m | \u001b[0m 0.1     \u001b[0m | \u001b[0m 10.0    \u001b[0m | \u001b[0m 277.2   \u001b[0m |\n",
      "| \u001b[0m 23      \u001b[0m | \u001b[0m-0.03609 \u001b[0m | \u001b[0m 0.839   \u001b[0m | \u001b[0m 0.6081  \u001b[0m | \u001b[0m 9.952   \u001b[0m | \u001b[0m 817.2   \u001b[0m |\n",
      "| \u001b[0m 24      \u001b[0m | \u001b[0m-0.08755 \u001b[0m | \u001b[0m 1.0     \u001b[0m | \u001b[0m 0.1692  \u001b[0m | \u001b[0m 10.0    \u001b[0m | \u001b[0m 416.1   \u001b[0m |\n",
      "| \u001b[0m 25      \u001b[0m | \u001b[0m-0.06937 \u001b[0m | \u001b[0m 0.0     \u001b[0m | \u001b[0m 0.8     \u001b[0m | \u001b[0m 10.0    \u001b[0m | \u001b[0m 209.4   \u001b[0m |\n",
      "| \u001b[0m 26      \u001b[0m | \u001b[0m-0.1463  \u001b[0m | \u001b[0m 0.7641  \u001b[0m | \u001b[0m 0.1018  \u001b[0m | \u001b[0m 1.208   \u001b[0m | \u001b[0m 536.3   \u001b[0m |\n",
      "| \u001b[0m 27      \u001b[0m | \u001b[0m-0.08702 \u001b[0m | \u001b[0m 3.243e-0\u001b[0m | \u001b[0m 0.1     \u001b[0m | \u001b[0m 10.0    \u001b[0m | \u001b[0m 488.3   \u001b[0m |\n",
      "| \u001b[0m 28      \u001b[0m | \u001b[0m-0.1499  \u001b[0m | \u001b[0m 1.0     \u001b[0m | \u001b[0m 0.8     \u001b[0m | \u001b[0m 1.0     \u001b[0m | \u001b[0m 50.0    \u001b[0m |\n",
      "| \u001b[0m 29      \u001b[0m | \u001b[0m-0.06944 \u001b[0m | \u001b[0m 0.1038  \u001b[0m | \u001b[0m 0.7323  \u001b[0m | \u001b[0m 9.995   \u001b[0m | \u001b[0m 836.5   \u001b[0m |\n",
      "| \u001b[0m 30      \u001b[0m | \u001b[0m-0.08747 \u001b[0m | \u001b[0m 1.463e-0\u001b[0m | \u001b[0m 0.1     \u001b[0m | \u001b[0m 10.0    \u001b[0m | \u001b[0m 885.0   \u001b[0m |\n",
      "| \u001b[95m 31      \u001b[0m | \u001b[95m-0.003846\u001b[0m | \u001b[95m 0.9866  \u001b[0m | \u001b[95m 0.7375  \u001b[0m | \u001b[95m 9.931   \u001b[0m | \u001b[95m 790.8   \u001b[0m |\n",
      "| \u001b[0m 32      \u001b[0m | \u001b[0m-0.1548  \u001b[0m | \u001b[0m 0.0     \u001b[0m | \u001b[0m 0.1     \u001b[0m | \u001b[0m 1.0     \u001b[0m | \u001b[0m 186.7   \u001b[0m |\n",
      "| \u001b[0m 33      \u001b[0m | \u001b[0m-0.09991 \u001b[0m | \u001b[0m 0.0     \u001b[0m | \u001b[0m 0.8     \u001b[0m | \u001b[0m 10.0    \u001b[0m | \u001b[0m 122.3   \u001b[0m |\n",
      "| \u001b[0m 34      \u001b[0m | \u001b[0m-0.1438  \u001b[0m | \u001b[0m 0.9227  \u001b[0m | \u001b[0m 0.75    \u001b[0m | \u001b[0m 1.287   \u001b[0m | \u001b[0m 999.7   \u001b[0m |\n",
      "| \u001b[0m 35      \u001b[0m | \u001b[0m-0.09181 \u001b[0m | \u001b[0m 0.8639  \u001b[0m | \u001b[0m 0.2689  \u001b[0m | \u001b[0m 9.928   \u001b[0m | \u001b[0m 798.4   \u001b[0m |\n",
      "| \u001b[0m 36      \u001b[0m | \u001b[0m-0.03767 \u001b[0m | \u001b[0m 1.0     \u001b[0m | \u001b[0m 0.8     \u001b[0m | \u001b[0m 10.0    \u001b[0m | \u001b[0m 643.0   \u001b[0m |\n",
      "| \u001b[0m 37      \u001b[0m | \u001b[0m-0.06967 \u001b[0m | \u001b[0m 1.0     \u001b[0m | \u001b[0m 0.8     \u001b[0m | \u001b[0m 10.0    \u001b[0m | \u001b[0m 310.8   \u001b[0m |\n",
      "| \u001b[0m 38      \u001b[0m | \u001b[0m-0.1438  \u001b[0m | \u001b[0m 0.0     \u001b[0m | \u001b[0m 0.8     \u001b[0m | \u001b[0m 1.0     \u001b[0m | \u001b[0m 625.7   \u001b[0m |\n",
      "| \u001b[0m 39      \u001b[0m | \u001b[0m-0.03776 \u001b[0m | \u001b[0m 1.0     \u001b[0m | \u001b[0m 0.8     \u001b[0m | \u001b[0m 10.0    \u001b[0m | \u001b[0m 769.8   \u001b[0m |\n",
      "| \u001b[0m 40      \u001b[0m | \u001b[0m-0.1596  \u001b[0m | \u001b[0m 1.0     \u001b[0m | \u001b[0m 0.1     \u001b[0m | \u001b[0m 1.0     \u001b[0m | \u001b[0m 140.3   \u001b[0m |\n",
      "| \u001b[0m 41      \u001b[0m | \u001b[0m-0.1438  \u001b[0m | \u001b[0m 1.0     \u001b[0m | \u001b[0m 0.8     \u001b[0m | \u001b[0m 1.0     \u001b[0m | \u001b[0m 824.0   \u001b[0m |\n",
      "| \u001b[0m 42      \u001b[0m | \u001b[0m-0.1438  \u001b[0m | \u001b[0m 1.0     \u001b[0m | \u001b[0m 0.8     \u001b[0m | \u001b[0m 1.0     \u001b[0m | \u001b[0m 935.8   \u001b[0m |\n",
      "| \u001b[0m 43      \u001b[0m | \u001b[0m-0.1441  \u001b[0m | \u001b[0m 1.0     \u001b[0m | \u001b[0m 0.8     \u001b[0m | \u001b[0m 1.0     \u001b[0m | \u001b[0m 291.6   \u001b[0m |\n",
      "| \u001b[0m 44      \u001b[0m | \u001b[0m-0.1438  \u001b[0m | \u001b[0m 0.0     \u001b[0m | \u001b[0m 0.8     \u001b[0m | \u001b[0m 1.0     \u001b[0m | \u001b[0m 576.9   \u001b[0m |\n",
      "| \u001b[0m 45      \u001b[0m | \u001b[0m-0.03771 \u001b[0m | \u001b[0m 1.0     \u001b[0m | \u001b[0m 0.8     \u001b[0m | \u001b[0m 10.0    \u001b[0m | \u001b[0m 669.2   \u001b[0m |\n",
      "| \u001b[0m 46      \u001b[0m | \u001b[0m-0.1439  \u001b[0m | \u001b[0m 1.0     \u001b[0m | \u001b[0m 0.8     \u001b[0m | \u001b[0m 1.0     \u001b[0m | \u001b[0m 410.1   \u001b[0m |\n",
      "| \u001b[0m 47      \u001b[0m | \u001b[0m-0.0697  \u001b[0m | \u001b[0m 1.0     \u001b[0m | \u001b[0m 0.8     \u001b[0m | \u001b[0m 10.0    \u001b[0m | \u001b[0m 247.4   \u001b[0m |\n",
      "| \u001b[0m 48      \u001b[0m | \u001b[0m-0.07009 \u001b[0m | \u001b[0m 0.0     \u001b[0m | \u001b[0m 0.8     \u001b[0m | \u001b[0m 10.0    \u001b[0m | \u001b[0m 390.3   \u001b[0m |\n",
      "| \u001b[0m 49      \u001b[0m | \u001b[0m-0.03783 \u001b[0m | \u001b[0m 1.0     \u001b[0m | \u001b[0m 0.8     \u001b[0m | \u001b[0m 10.0    \u001b[0m | \u001b[0m 980.8   \u001b[0m |\n",
      "| \u001b[0m 50      \u001b[0m | \u001b[0m-0.09918 \u001b[0m | \u001b[0m 1.0     \u001b[0m | \u001b[0m 0.8     \u001b[0m | \u001b[0m 10.0    \u001b[0m | \u001b[0m 71.08   \u001b[0m |\n",
      "| \u001b[0m 51      \u001b[0m | \u001b[0m-0.1439  \u001b[0m | \u001b[0m 1.0     \u001b[0m | \u001b[0m 0.8     \u001b[0m | \u001b[0m 1.0     \u001b[0m | \u001b[0m 501.1   \u001b[0m |\n",
      "| \u001b[0m 52      \u001b[0m | \u001b[0m-0.03692 \u001b[0m | \u001b[0m 0.05991 \u001b[0m | \u001b[0m 0.7529  \u001b[0m | \u001b[0m 9.625   \u001b[0m | \u001b[0m 783.1   \u001b[0m |\n",
      "| \u001b[0m 53      \u001b[0m | \u001b[0m-0.03742 \u001b[0m | \u001b[0m 1.0     \u001b[0m | \u001b[0m 0.8     \u001b[0m | \u001b[0m 10.0    \u001b[0m | \u001b[0m 460.8   \u001b[0m |\n",
      "| \u001b[0m 54      \u001b[0m | \u001b[0m-0.07025 \u001b[0m | \u001b[0m 1.0     \u001b[0m | \u001b[0m 0.8     \u001b[0m | \u001b[0m 10.0    \u001b[0m | \u001b[0m 441.2   \u001b[0m |\n",
      "| \u001b[0m 55      \u001b[0m | \u001b[0m-0.03772 \u001b[0m | \u001b[0m 1.0     \u001b[0m | \u001b[0m 0.8     \u001b[0m | \u001b[0m 10.0    \u001b[0m | \u001b[0m 689.6   \u001b[0m |\n",
      "| \u001b[0m 56      \u001b[0m | \u001b[0m-0.0887  \u001b[0m | \u001b[0m 1.0     \u001b[0m | \u001b[0m 0.1     \u001b[0m | \u001b[0m 10.0    \u001b[0m | \u001b[0m 227.8   \u001b[0m |\n",
      "| \u001b[0m 57      \u001b[0m | \u001b[0m-0.08692 \u001b[0m | \u001b[0m 0.0     \u001b[0m | \u001b[0m 0.1     \u001b[0m | \u001b[0m 10.0    \u001b[0m | \u001b[0m 574.5   \u001b[0m |\n",
      "| \u001b[0m 58      \u001b[0m | \u001b[0m-0.03756 \u001b[0m | \u001b[0m 0.0     \u001b[0m | \u001b[0m 0.8     \u001b[0m | \u001b[0m 10.0    \u001b[0m | \u001b[0m 537.3   \u001b[0m |\n",
      "| \u001b[0m 59      \u001b[0m | \u001b[0m-0.03782 \u001b[0m | \u001b[0m 1.0     \u001b[0m | \u001b[0m 0.8     \u001b[0m | \u001b[0m 10.0    \u001b[0m | \u001b[0m 932.2   \u001b[0m |\n",
      "| \u001b[0m 60      \u001b[0m | \u001b[0m-0.03767 \u001b[0m | \u001b[0m 0.0     \u001b[0m | \u001b[0m 0.8     \u001b[0m | \u001b[0m 10.0    \u001b[0m | \u001b[0m 622.4   \u001b[0m |\n",
      "=========================================================================\n"
     ]
    }
   ],
   "source": [
    "bounds = {\n",
    "        'gamma': (0,1),\n",
    "        'max_depth': (1, 10),\n",
    "        'learning_rate': (0.1, 0.8),\n",
    "        'n_estimators':(50,1000),\n",
    "        }\n",
    "df_Bayes_opt = train_old_edit_std.copy()\n",
    "\n",
    "# Run Bayesian Optimizer:\n",
    "optimizer = BayesianOptimization(f=train_bayes_opt_lgbm,  pbounds=bounds_, random_state=1)\n",
    "optimizer.maximize(init_points=10, n_iter=50)"
   ]
  },
  {
   "cell_type": "code",
   "execution_count": 67,
   "metadata": {},
   "outputs": [
    {
     "name": "stdout",
     "output_type": "stream",
     "text": [
      "RMSLE Value For Kf_i:  0.35, 0.35, 0.35, 0.35, 0.38, 0.35, 0.35, 0.36, 0.36, 0.36, Average RMSLE:  0.356\n"
     ]
    }
   ],
   "source": [
    "df_ = train_old_edit_std.copy()\n",
    "# Use best feature combinations and trial \n",
    "lgbmMod = LGBMRegressor(gamma = 0.9866, learning_rate = 0.7375, max_depth = 10, n_estimators = 791, silent = True)\n",
    "newVal = testModel(df = df_, n_splits = 10, model = lgbmMod)"
   ]
  },
  {
   "cell_type": "markdown",
   "metadata": {},
   "source": [
    "**Best score so far.**"
   ]
  },
  {
   "cell_type": "markdown",
   "metadata": {},
   "source": [
    "Use same parameters for XGBoost"
   ]
  },
  {
   "cell_type": "code",
   "execution_count": 342,
   "metadata": {},
   "outputs": [
    {
     "name": "stdout",
     "output_type": "stream",
     "text": [
      "RMSLE Value For Kf_i:  0.38, 0.38, 0.37, 0.37, 0.39, 0.37, 0.37, 0.35, 0.39, 0.39, Average RMSLE:  0.376\n"
     ]
    }
   ],
   "source": [
    "df_ = train_old_edit_std.copy()\n",
    "# Use best feature combinations and trial \n",
    "xgModel = xgb.XGBRegressor(gamma = 0.9866, learning_rate = 0.7375, max_depth = 10, n_estimators = 791, silent = True)\n",
    "newVal = testModel(df = df_, n_splits = 10, model = xgModel)"
   ]
  },
  {
   "cell_type": "markdown",
   "metadata": {},
   "source": [
    "Try Gradient Boosting Regressor"
   ]
  },
  {
   "cell_type": "code",
   "execution_count": 48,
   "metadata": {},
   "outputs": [
    {
     "name": "stdout",
     "output_type": "stream",
     "text": [
      "|   iter    |  target   | learni... | max_depth | min_im... | n_esti... |\n",
      "-------------------------------------------------------------------------\n",
      "| \u001b[0m 1       \u001b[0m | \u001b[0m-0.09726 \u001b[0m | \u001b[0m 0.3919  \u001b[0m | \u001b[0m 7.483   \u001b[0m | \u001b[0m 1.144e-0\u001b[0m | \u001b[0m 337.2   \u001b[0m |\n",
      "| \u001b[0m 2       \u001b[0m | \u001b[0m-0.145   \u001b[0m | \u001b[0m 0.2027  \u001b[0m | \u001b[0m 1.831   \u001b[0m | \u001b[0m 0.001863\u001b[0m | \u001b[0m 378.3   \u001b[0m |\n",
      "| \u001b[95m 3       \u001b[0m | \u001b[95m-0.09316 \u001b[0m | \u001b[95m 0.3777  \u001b[0m | \u001b[95m 5.849   \u001b[0m | \u001b[95m 0.004192\u001b[0m | \u001b[95m 701.0   \u001b[0m |\n",
      "| \u001b[0m 4       \u001b[0m | \u001b[0m-0.09518 \u001b[0m | \u001b[0m 0.2431  \u001b[0m | \u001b[0m 8.903   \u001b[0m | \u001b[0m 0.000273\u001b[0m | \u001b[0m 686.9   \u001b[0m |\n",
      "| \u001b[95m 5       \u001b[0m | \u001b[95m-0.06479 \u001b[0m | \u001b[95m 0.3921  \u001b[0m | \u001b[95m 6.028   \u001b[0m | \u001b[95m 0.001404\u001b[0m | \u001b[95m 238.2   \u001b[0m |\n",
      "| \u001b[0m 6       \u001b[0m | \u001b[0m-0.1095  \u001b[0m | \u001b[0m 0.6605  \u001b[0m | \u001b[0m 9.714   \u001b[0m | \u001b[0m 0.003134\u001b[0m | \u001b[0m 707.7   \u001b[0m |\n",
      "| \u001b[0m 7       \u001b[0m | \u001b[0m-0.0754  \u001b[0m | \u001b[0m 0.7135  \u001b[0m | \u001b[0m 9.051   \u001b[0m | \u001b[0m 0.000850\u001b[0m | \u001b[0m 87.1    \u001b[0m |\n",
      "| \u001b[0m 8       \u001b[0m | \u001b[0m-0.09354 \u001b[0m | \u001b[0m 0.2189  \u001b[0m | \u001b[0m 8.903   \u001b[0m | \u001b[0m 0.000983\u001b[0m | \u001b[0m 450.1   \u001b[0m |\n",
      "| \u001b[0m 9       \u001b[0m | \u001b[0m-0.06868 \u001b[0m | \u001b[0m 0.7705  \u001b[0m | \u001b[0m 5.798   \u001b[0m | \u001b[0m 0.006919\u001b[0m | \u001b[0m 349.7   \u001b[0m |\n",
      "| \u001b[0m 10      \u001b[0m | \u001b[0m-0.07037 \u001b[0m | \u001b[0m 0.5806  \u001b[0m | \u001b[0m 8.512   \u001b[0m | \u001b[0m 0.000182\u001b[0m | \u001b[0m 762.6   \u001b[0m |\n",
      "| \u001b[0m 11      \u001b[0m | \u001b[0m-0.1445  \u001b[0m | \u001b[0m 0.1     \u001b[0m | \u001b[0m 1.0     \u001b[0m | \u001b[0m 0.01    \u001b[0m | \u001b[0m 1e+03   \u001b[0m |\n",
      "| \u001b[0m 12      \u001b[0m | \u001b[0m-0.1439  \u001b[0m | \u001b[0m 0.8     \u001b[0m | \u001b[0m 1.0     \u001b[0m | \u001b[0m 0.01    \u001b[0m | \u001b[0m 889.3   \u001b[0m |\n",
      "| \u001b[0m 13      \u001b[0m | \u001b[0m-0.1438  \u001b[0m | \u001b[0m 0.8     \u001b[0m | \u001b[0m 1.0     \u001b[0m | \u001b[0m 0.01    \u001b[0m | \u001b[0m 558.4   \u001b[0m |\n",
      "| \u001b[0m 14      \u001b[0m | \u001b[0m-0.1451  \u001b[0m | \u001b[0m 0.8     \u001b[0m | \u001b[0m 1.0     \u001b[0m | \u001b[0m 0.01    \u001b[0m | \u001b[0m 159.3   \u001b[0m |\n",
      "| \u001b[0m 15      \u001b[0m | \u001b[0m-0.1498  \u001b[0m | \u001b[0m 0.8     \u001b[0m | \u001b[0m 1.0     \u001b[0m | \u001b[0m 0.01    \u001b[0m | \u001b[0m 50.0    \u001b[0m |\n",
      "| \u001b[0m 16      \u001b[0m | \u001b[0m-0.1449  \u001b[0m | \u001b[0m 0.1     \u001b[0m | \u001b[0m 1.0     \u001b[0m | \u001b[0m 0.009701\u001b[0m | \u001b[0m 825.5   \u001b[0m |\n",
      "| \u001b[0m 17      \u001b[0m | \u001b[0m-0.09934 \u001b[0m | \u001b[0m 0.1     \u001b[0m | \u001b[0m 10.0    \u001b[0m | \u001b[0m 0.0     \u001b[0m | \u001b[0m 949.9   \u001b[0m |\n",
      "| \u001b[0m 18      \u001b[0m | \u001b[0m-0.07935 \u001b[0m | \u001b[0m 0.8     \u001b[0m | \u001b[0m 10.0    \u001b[0m | \u001b[0m 0.01    \u001b[0m | \u001b[0m 503.7   \u001b[0m |\n",
      "| \u001b[0m 19      \u001b[0m | \u001b[0m-0.1439  \u001b[0m | \u001b[0m 0.8     \u001b[0m | \u001b[0m 1.0     \u001b[0m | \u001b[0m 0.01    \u001b[0m | \u001b[0m 625.2   \u001b[0m |\n",
      "| \u001b[0m 20      \u001b[0m | \u001b[0m-0.1174  \u001b[0m | \u001b[0m 0.8     \u001b[0m | \u001b[0m 10.0    \u001b[0m | \u001b[0m 0.005294\u001b[0m | \u001b[0m 201.2   \u001b[0m |\n",
      "| \u001b[0m 21      \u001b[0m | \u001b[0m-0.1439  \u001b[0m | \u001b[0m 0.8     \u001b[0m | \u001b[0m 1.0     \u001b[0m | \u001b[0m 0.01    \u001b[0m | \u001b[0m 480.4   \u001b[0m |\n",
      "| \u001b[0m 22      \u001b[0m | \u001b[0m-0.1439  \u001b[0m | \u001b[0m 0.8     \u001b[0m | \u001b[0m 1.0     \u001b[0m | \u001b[0m 0.01    \u001b[0m | \u001b[0m 948.3   \u001b[0m |\n",
      "| \u001b[0m 23      \u001b[0m | \u001b[0m-0.1465  \u001b[0m | \u001b[0m 0.8     \u001b[0m | \u001b[0m 1.0     \u001b[0m | \u001b[0m 0.01    \u001b[0m | \u001b[0m 100.9   \u001b[0m |\n",
      "| \u001b[0m 24      \u001b[0m | \u001b[0m-0.08006 \u001b[0m | \u001b[0m 0.8     \u001b[0m | \u001b[0m 10.0    \u001b[0m | \u001b[0m 0.01    \u001b[0m | \u001b[0m 364.4   \u001b[0m |\n",
      "| \u001b[0m 25      \u001b[0m | \u001b[0m-0.1442  \u001b[0m | \u001b[0m 0.8     \u001b[0m | \u001b[0m 1.0     \u001b[0m | \u001b[0m 3.625e-1\u001b[0m | \u001b[0m 269.5   \u001b[0m |\n",
      "| \u001b[0m 26      \u001b[0m | \u001b[0m-0.1444  \u001b[0m | \u001b[0m 0.8     \u001b[0m | \u001b[0m 1.0     \u001b[0m | \u001b[0m 0.009706\u001b[0m | \u001b[0m 221.5   \u001b[0m |\n",
      "| \u001b[0m 27      \u001b[0m | \u001b[0m-0.09863 \u001b[0m | \u001b[0m 0.1     \u001b[0m | \u001b[0m 10.0    \u001b[0m | \u001b[0m 0.01    \u001b[0m | \u001b[0m 130.8   \u001b[0m |\n",
      "| \u001b[0m 28      \u001b[0m | \u001b[0m-0.1452  \u001b[0m | \u001b[0m 0.1     \u001b[0m | \u001b[0m 1.0     \u001b[0m | \u001b[0m 0.000515\u001b[0m | \u001b[0m 749.1   \u001b[0m |\n",
      "| \u001b[0m 29      \u001b[0m | \u001b[0m-0.07852 \u001b[0m | \u001b[0m 0.8     \u001b[0m | \u001b[0m 10.0    \u001b[0m | \u001b[0m 0.01    \u001b[0m | \u001b[0m 796.3   \u001b[0m |\n",
      "| \u001b[0m 30      \u001b[0m | \u001b[0m-0.07952 \u001b[0m | \u001b[0m 0.8     \u001b[0m | \u001b[0m 10.0    \u001b[0m | \u001b[0m 0.0     \u001b[0m | \u001b[0m 855.1   \u001b[0m |\n",
      "| \u001b[0m 31      \u001b[0m | \u001b[0m-0.09874 \u001b[0m | \u001b[0m 0.1     \u001b[0m | \u001b[0m 10.0    \u001b[0m | \u001b[0m 0.009993\u001b[0m | \u001b[0m 585.1   \u001b[0m |\n",
      "| \u001b[0m 32      \u001b[0m | \u001b[0m-0.09933 \u001b[0m | \u001b[0m 0.1     \u001b[0m | \u001b[0m 10.0    \u001b[0m | \u001b[0m 2.349e-0\u001b[0m | \u001b[0m 915.4   \u001b[0m |\n",
      "| \u001b[0m 33      \u001b[0m | \u001b[0m-0.09976 \u001b[0m | \u001b[0m 0.1     \u001b[0m | \u001b[0m 10.0    \u001b[0m | \u001b[0m 0.0     \u001b[0m | \u001b[0m 50.0    \u001b[0m |\n",
      "| \u001b[0m 34      \u001b[0m | \u001b[0m-0.1082  \u001b[0m | \u001b[0m 0.6657  \u001b[0m | \u001b[0m 9.995   \u001b[0m | \u001b[0m 0.005765\u001b[0m | \u001b[0m 250.2   \u001b[0m |\n",
      "| \u001b[0m 35      \u001b[0m | \u001b[0m-0.09903 \u001b[0m | \u001b[0m 0.1     \u001b[0m | \u001b[0m 10.0    \u001b[0m | \u001b[0m 0.000645\u001b[0m | \u001b[0m 538.6   \u001b[0m |\n",
      "| \u001b[0m 36      \u001b[0m | \u001b[0m-0.09922 \u001b[0m | \u001b[0m 0.1     \u001b[0m | \u001b[0m 10.0    \u001b[0m | \u001b[0m 0.000768\u001b[0m | \u001b[0m 474.9   \u001b[0m |\n",
      "| \u001b[0m 37      \u001b[0m | \u001b[0m-0.1178  \u001b[0m | \u001b[0m 0.8     \u001b[0m | \u001b[0m 10.0    \u001b[0m | \u001b[0m 0.0     \u001b[0m | \u001b[0m 1e+03   \u001b[0m |\n",
      "| \u001b[0m 38      \u001b[0m | \u001b[0m-0.09865 \u001b[0m | \u001b[0m 0.1     \u001b[0m | \u001b[0m 10.0    \u001b[0m | \u001b[0m 0.01    \u001b[0m | \u001b[0m 163.8   \u001b[0m |\n",
      "| \u001b[0m 39      \u001b[0m | \u001b[0m-0.1439  \u001b[0m | \u001b[0m 0.8     \u001b[0m | \u001b[0m 1.0     \u001b[0m | \u001b[0m 0.01    \u001b[0m | \u001b[0m 666.2   \u001b[0m |\n",
      "| \u001b[0m 40      \u001b[0m | \u001b[0m-0.07833 \u001b[0m | \u001b[0m 0.8     \u001b[0m | \u001b[0m 10.0    \u001b[0m | \u001b[0m 0.01    \u001b[0m | \u001b[0m 418.8   \u001b[0m |\n",
      "| \u001b[0m 41      \u001b[0m | \u001b[0m-0.09897 \u001b[0m | \u001b[0m 0.1     \u001b[0m | \u001b[0m 10.0    \u001b[0m | \u001b[0m 0.008056\u001b[0m | \u001b[0m 977.2   \u001b[0m |\n",
      "| \u001b[0m 42      \u001b[0m | \u001b[0m-0.09579 \u001b[0m | \u001b[0m 0.1444  \u001b[0m | \u001b[0m 9.92    \u001b[0m | \u001b[0m 0.001316\u001b[0m | \u001b[0m 69.11   \u001b[0m |\n",
      "| \u001b[0m 43      \u001b[0m | \u001b[0m-0.1438  \u001b[0m | \u001b[0m 0.6824  \u001b[0m | \u001b[0m 1.227   \u001b[0m | \u001b[0m 0.002685\u001b[0m | \u001b[0m 779.1   \u001b[0m |\n",
      "| \u001b[0m 44      \u001b[0m | \u001b[0m-0.09875 \u001b[0m | \u001b[0m 0.1     \u001b[0m | \u001b[0m 10.0    \u001b[0m | \u001b[0m 0.01    \u001b[0m | \u001b[0m 829.5   \u001b[0m |\n",
      "| \u001b[0m 45      \u001b[0m | \u001b[0m-0.09644 \u001b[0m | \u001b[0m 0.183   \u001b[0m | \u001b[0m 9.951   \u001b[0m | \u001b[0m 0.005304\u001b[0m | \u001b[0m 879.0   \u001b[0m |\n",
      "| \u001b[0m 46      \u001b[0m | \u001b[0m-0.09676 \u001b[0m | \u001b[0m 0.1728  \u001b[0m | \u001b[0m 9.997   \u001b[0m | \u001b[0m 0.009842\u001b[0m | \u001b[0m 230.3   \u001b[0m |\n",
      "| \u001b[0m 47      \u001b[0m | \u001b[0m-0.147   \u001b[0m | \u001b[0m 0.1715  \u001b[0m | \u001b[0m 1.12    \u001b[0m | \u001b[0m 0.005612\u001b[0m | \u001b[0m 248.4   \u001b[0m |\n",
      "| \u001b[0m 48      \u001b[0m | \u001b[0m-0.1441  \u001b[0m | \u001b[0m 0.8     \u001b[0m | \u001b[0m 1.0     \u001b[0m | \u001b[0m 7.656e-0\u001b[0m | \u001b[0m 303.2   \u001b[0m |\n",
      "| \u001b[0m 49      \u001b[0m | \u001b[0m-0.09927 \u001b[0m | \u001b[0m 0.1     \u001b[0m | \u001b[0m 10.0    \u001b[0m | \u001b[0m 0.0     \u001b[0m | \u001b[0m 638.6   \u001b[0m |\n",
      "| \u001b[0m 50      \u001b[0m | \u001b[0m-0.0803  \u001b[0m | \u001b[0m 0.8     \u001b[0m | \u001b[0m 10.0    \u001b[0m | \u001b[0m 0.0     \u001b[0m | \u001b[0m 288.6   \u001b[0m |\n",
      "| \u001b[0m 51      \u001b[0m | \u001b[0m-0.1439  \u001b[0m | \u001b[0m 0.8     \u001b[0m | \u001b[0m 1.0     \u001b[0m | \u001b[0m 0.0     \u001b[0m | \u001b[0m 428.0   \u001b[0m |\n",
      "| \u001b[0m 52      \u001b[0m | \u001b[0m-0.1463  \u001b[0m | \u001b[0m 0.1     \u001b[0m | \u001b[0m 1.0     \u001b[0m | \u001b[0m 0.0     \u001b[0m | \u001b[0m 522.0   \u001b[0m |\n",
      "| \u001b[0m 53      \u001b[0m | \u001b[0m-0.1167  \u001b[0m | \u001b[0m 0.8     \u001b[0m | \u001b[0m 10.0    \u001b[0m | \u001b[0m 0.0     \u001b[0m | \u001b[0m 610.8   \u001b[0m |\n",
      "| \u001b[0m 54      \u001b[0m | \u001b[0m-0.1162  \u001b[0m | \u001b[0m 0.8     \u001b[0m | \u001b[0m 10.0    \u001b[0m | \u001b[0m 0.0     \u001b[0m | \u001b[0m 107.8   \u001b[0m |\n",
      "| \u001b[0m 55      \u001b[0m | \u001b[0m-0.09894 \u001b[0m | \u001b[0m 0.1     \u001b[0m | \u001b[0m 10.0    \u001b[0m | \u001b[0m 0.01    \u001b[0m | \u001b[0m 777.8   \u001b[0m |\n",
      "| \u001b[0m 56      \u001b[0m | \u001b[0m-0.1174  \u001b[0m | \u001b[0m 0.8     \u001b[0m | \u001b[0m 10.0    \u001b[0m | \u001b[0m 0.000337\u001b[0m | \u001b[0m 563.8   \u001b[0m |\n",
      "| \u001b[0m 57      \u001b[0m | \u001b[0m-0.0801  \u001b[0m | \u001b[0m 0.8     \u001b[0m | \u001b[0m 10.0    \u001b[0m | \u001b[0m 0.0     \u001b[0m | \u001b[0m 398.8   \u001b[0m |\n",
      "| \u001b[0m 58      \u001b[0m | \u001b[0m-0.07901 \u001b[0m | \u001b[0m 0.8     \u001b[0m | \u001b[0m 10.0    \u001b[0m | \u001b[0m 0.01    \u001b[0m | \u001b[0m 745.6   \u001b[0m |\n",
      "| \u001b[95m 59      \u001b[0m | \u001b[95m-0.04053 \u001b[0m | \u001b[95m 0.791   \u001b[0m | \u001b[95m 9.55    \u001b[0m | \u001b[95m 0.006577\u001b[0m | \u001b[95m 181.3   \u001b[0m |\n",
      "| \u001b[0m 60      \u001b[0m | \u001b[0m-0.1467  \u001b[0m | \u001b[0m 0.2397  \u001b[0m | \u001b[0m 1.184   \u001b[0m | \u001b[0m 0.001861\u001b[0m | \u001b[0m 185.4   \u001b[0m |\n",
      "=========================================================================\n"
     ]
    }
   ],
   "source": [
    "bounds_ = {\n",
    "        'min_impurity_decrease': (0.0,0.01),\n",
    "        'max_depth': (1, 10),\n",
    "        'learning_rate': (0.1, 0.8),\n",
    "        'n_estimators':(50,1000),\n",
    "        }\n",
    "df_Bayes_opt = train_old_edit_std.copy()\n",
    "\n",
    "# Run Bayesian Optimizer:\n",
    "optimizer = BayesianOptimization(f=train_bayes_opt_gradboost,  pbounds=bounds_, random_state=1)\n",
    "optimizer.maximize(init_points=10, n_iter=50)"
   ]
  },
  {
   "cell_type": "code",
   "execution_count": 38,
   "metadata": {},
   "outputs": [
    {
     "name": "stdout",
     "output_type": "stream",
     "text": [
      "RMSLE Value For Kf_i:  0.4, 0.41, 0.42, 0.41, 0.44, 0.41, 0.41, 0.42, 0.39, 0.43, Average RMSLE:  0.414\n"
     ]
    }
   ],
   "source": [
    "# Use best feature combinations and trial \n",
    "df_ = train_old_edit_std.copy()\n",
    "gbModel = GradientBoostingRegressor(min_impurity_decrease = 0.005189, learning_rate = 0.7368, max_depth = 10, n_estimators = 417)\n",
    "newVal = testModel(df = df_, n_splits = 10, model = gbModel)"
   ]
  },
  {
   "cell_type": "markdown",
   "metadata": {},
   "source": [
    "Compare with standard linear regression"
   ]
  },
  {
   "cell_type": "code",
   "execution_count": 330,
   "metadata": {},
   "outputs": [
    {
     "name": "stdout",
     "output_type": "stream",
     "text": [
      "RMSLE Value For Kf_i:  1.01, 1.02, 0.98, 1.04, 1.01, 0.98, 1.01, 0.99, 0.98, 1.0, Average RMSLE:  1.0\n"
     ]
    }
   ],
   "source": [
    "lModel = LinearRegression()\n",
    "df_ = train_old_edit_std.copy()\n",
    "# Use best feature combinations and trial \n",
    "newVal = testModel(df = df_, n_splits = 10, model = rfModel)"
   ]
  },
  {
   "cell_type": "markdown",
   "metadata": {},
   "source": [
    "Compare with Ridge regression\n",
    "    - Multicollinearity should however not be an issue because collinear features have been removed from this dataset"
   ]
  },
  {
   "cell_type": "code",
   "execution_count": 55,
   "metadata": {},
   "outputs": [
    {
     "name": "stdout",
     "output_type": "stream",
     "text": [
      "|   iter    |  target   |   alpha   |\n",
      "-------------------------------------\n",
      "| \u001b[0m 1       \u001b[0m | \u001b[0m-0.2356  \u001b[0m | \u001b[0m 417.0   \u001b[0m |\n",
      "| \u001b[0m 2       \u001b[0m | \u001b[0m-0.2357  \u001b[0m | \u001b[0m 720.3   \u001b[0m |\n",
      "| \u001b[95m 3       \u001b[0m | \u001b[95m-0.2355  \u001b[0m | \u001b[95m 0.1145  \u001b[0m |\n",
      "| \u001b[0m 4       \u001b[0m | \u001b[0m-0.2356  \u001b[0m | \u001b[0m 302.3   \u001b[0m |\n",
      "| \u001b[0m 5       \u001b[0m | \u001b[0m-0.2356  \u001b[0m | \u001b[0m 146.8   \u001b[0m |\n",
      "| \u001b[0m 6       \u001b[0m | \u001b[0m-0.2356  \u001b[0m | \u001b[0m 92.34   \u001b[0m |\n",
      "| \u001b[0m 7       \u001b[0m | \u001b[0m-0.2356  \u001b[0m | \u001b[0m 186.3   \u001b[0m |\n",
      "| \u001b[0m 8       \u001b[0m | \u001b[0m-0.2356  \u001b[0m | \u001b[0m 345.6   \u001b[0m |\n",
      "| \u001b[0m 9       \u001b[0m | \u001b[0m-0.2356  \u001b[0m | \u001b[0m 396.8   \u001b[0m |\n",
      "| \u001b[0m 10      \u001b[0m | \u001b[0m-0.2356  \u001b[0m | \u001b[0m 538.8   \u001b[0m |\n",
      "| \u001b[0m 11      \u001b[0m | \u001b[0m-0.2357  \u001b[0m | \u001b[0m 1e+03   \u001b[0m |\n",
      "| \u001b[0m 12      \u001b[0m | \u001b[0m-0.2357  \u001b[0m | \u001b[0m 999.9   \u001b[0m |\n",
      "| \u001b[0m 13      \u001b[0m | \u001b[0m-0.2357  \u001b[0m | \u001b[0m 999.9   \u001b[0m |\n",
      "| \u001b[95m 14      \u001b[0m | \u001b[95m-0.2355  \u001b[0m | \u001b[95m 0.006021\u001b[0m |\n",
      "| \u001b[0m 15      \u001b[0m | \u001b[0m-0.2357  \u001b[0m | \u001b[0m 999.8   \u001b[0m |\n",
      "| \u001b[0m 16      \u001b[0m | \u001b[0m-0.2355  \u001b[0m | \u001b[0m 0.06322 \u001b[0m |\n",
      "| \u001b[0m 17      \u001b[0m | \u001b[0m-0.2355  \u001b[0m | \u001b[0m 0.6629  \u001b[0m |\n",
      "| \u001b[0m 18      \u001b[0m | \u001b[0m-0.2357  \u001b[0m | \u001b[0m 999.9   \u001b[0m |\n",
      "| \u001b[0m 19      \u001b[0m | \u001b[0m-0.2355  \u001b[0m | \u001b[0m 0.08496 \u001b[0m |\n",
      "| \u001b[0m 20      \u001b[0m | \u001b[0m-0.2355  \u001b[0m | \u001b[0m 0.6504  \u001b[0m |\n",
      "| \u001b[0m 21      \u001b[0m | \u001b[0m-0.2357  \u001b[0m | \u001b[0m 1e+03   \u001b[0m |\n",
      "| \u001b[0m 22      \u001b[0m | \u001b[0m-0.2355  \u001b[0m | \u001b[0m 1.336   \u001b[0m |\n",
      "| \u001b[0m 23      \u001b[0m | \u001b[0m-0.2357  \u001b[0m | \u001b[0m 998.3   \u001b[0m |\n",
      "| \u001b[0m 24      \u001b[0m | \u001b[0m-0.2355  \u001b[0m | \u001b[0m 0.6088  \u001b[0m |\n",
      "| \u001b[0m 25      \u001b[0m | \u001b[0m-0.2355  \u001b[0m | \u001b[0m 0.574   \u001b[0m |\n",
      "| \u001b[0m 26      \u001b[0m | \u001b[0m-0.2357  \u001b[0m | \u001b[0m 999.8   \u001b[0m |\n",
      "| \u001b[0m 27      \u001b[0m | \u001b[0m-0.2355  \u001b[0m | \u001b[0m 0.6048  \u001b[0m |\n",
      "| \u001b[0m 28      \u001b[0m | \u001b[0m-0.2355  \u001b[0m | \u001b[0m 0.5852  \u001b[0m |\n",
      "| \u001b[0m 29      \u001b[0m | \u001b[0m-0.2357  \u001b[0m | \u001b[0m 999.4   \u001b[0m |\n",
      "| \u001b[0m 30      \u001b[0m | \u001b[0m-0.2355  \u001b[0m | \u001b[0m 0.9792  \u001b[0m |\n",
      "| \u001b[0m 31      \u001b[0m | \u001b[0m-0.2355  \u001b[0m | \u001b[0m 1.097   \u001b[0m |\n",
      "| \u001b[0m 32      \u001b[0m | \u001b[0m-0.2357  \u001b[0m | \u001b[0m 998.0   \u001b[0m |\n",
      "| \u001b[0m 33      \u001b[0m | \u001b[0m-0.2355  \u001b[0m | \u001b[0m 0.085   \u001b[0m |\n",
      "| \u001b[0m 34      \u001b[0m | \u001b[0m-0.2355  \u001b[0m | \u001b[0m 1.453   \u001b[0m |\n",
      "| \u001b[0m 35      \u001b[0m | \u001b[0m-0.2357  \u001b[0m | \u001b[0m 997.9   \u001b[0m |\n",
      "| \u001b[0m 36      \u001b[0m | \u001b[0m-0.2355  \u001b[0m | \u001b[0m 0.5714  \u001b[0m |\n",
      "| \u001b[0m 37      \u001b[0m | \u001b[0m-0.2355  \u001b[0m | \u001b[0m 0.0183  \u001b[0m |\n",
      "| \u001b[0m 38      \u001b[0m | \u001b[0m-0.2357  \u001b[0m | \u001b[0m 998.6   \u001b[0m |\n",
      "| \u001b[0m 39      \u001b[0m | \u001b[0m-0.2355  \u001b[0m | \u001b[0m 2.856   \u001b[0m |\n",
      "| \u001b[0m 40      \u001b[0m | \u001b[0m-0.2355  \u001b[0m | \u001b[0m 1.127   \u001b[0m |\n",
      "| \u001b[0m 41      \u001b[0m | \u001b[0m-0.2355  \u001b[0m | \u001b[0m 0.2806  \u001b[0m |\n",
      "| \u001b[0m 42      \u001b[0m | \u001b[0m-0.2357  \u001b[0m | \u001b[0m 998.3   \u001b[0m |\n",
      "| \u001b[0m 43      \u001b[0m | \u001b[0m-0.2355  \u001b[0m | \u001b[0m 1.515   \u001b[0m |\n",
      "| \u001b[0m 44      \u001b[0m | \u001b[0m-0.2355  \u001b[0m | \u001b[0m 4.314   \u001b[0m |\n",
      "| \u001b[0m 45      \u001b[0m | \u001b[0m-0.2357  \u001b[0m | \u001b[0m 998.7   \u001b[0m |\n",
      "| \u001b[0m 46      \u001b[0m | \u001b[0m-0.2355  \u001b[0m | \u001b[0m 0.1859  \u001b[0m |\n",
      "| \u001b[0m 47      \u001b[0m | \u001b[0m-0.2355  \u001b[0m | \u001b[0m 3.71    \u001b[0m |\n",
      "| \u001b[0m 48      \u001b[0m | \u001b[0m-0.2355  \u001b[0m | \u001b[0m 0.1654  \u001b[0m |\n",
      "| \u001b[0m 49      \u001b[0m | \u001b[0m-0.2357  \u001b[0m | \u001b[0m 996.5   \u001b[0m |\n",
      "| \u001b[0m 50      \u001b[0m | \u001b[0m-0.2355  \u001b[0m | \u001b[0m 4.409   \u001b[0m |\n",
      "| \u001b[0m 51      \u001b[0m | \u001b[0m-0.2355  \u001b[0m | \u001b[0m 0.4438  \u001b[0m |\n",
      "| \u001b[0m 52      \u001b[0m | \u001b[0m-0.2355  \u001b[0m | \u001b[0m 2.158   \u001b[0m |\n",
      "| \u001b[0m 53      \u001b[0m | \u001b[0m-0.2357  \u001b[0m | \u001b[0m 998.5   \u001b[0m |\n",
      "| \u001b[0m 54      \u001b[0m | \u001b[0m-0.2355  \u001b[0m | \u001b[0m 0.2943  \u001b[0m |\n",
      "| \u001b[0m 55      \u001b[0m | \u001b[0m-0.2355  \u001b[0m | \u001b[0m 4.92    \u001b[0m |\n",
      "| \u001b[0m 56      \u001b[0m | \u001b[0m-0.2357  \u001b[0m | \u001b[0m 994.6   \u001b[0m |\n",
      "| \u001b[0m 57      \u001b[0m | \u001b[0m-0.2355  \u001b[0m | \u001b[0m 1.318   \u001b[0m |\n",
      "| \u001b[0m 58      \u001b[0m | \u001b[0m-0.2355  \u001b[0m | \u001b[0m 1.926   \u001b[0m |\n",
      "| \u001b[0m 59      \u001b[0m | \u001b[0m-0.2355  \u001b[0m | \u001b[0m 2.798   \u001b[0m |\n",
      "| \u001b[0m 60      \u001b[0m | \u001b[0m-0.2355  \u001b[0m | \u001b[0m 4.854   \u001b[0m |\n",
      "=====================================\n"
     ]
    }
   ],
   "source": [
    "bounds_ = {\n",
    "        'alpha': (0.0001,1000),\n",
    "        }\n",
    "df_Bayes_opt = train_old_edit_std.copy()\n",
    "\n",
    "# Run Bayesian Optimizer:\n",
    "optimizer = BayesianOptimization(f=train_bayes_opt_ridge,  pbounds=bounds_, random_state=1)\n",
    "optimizer.maximize(init_points=10, n_iter=50)"
   ]
  },
  {
   "cell_type": "code",
   "execution_count": 57,
   "metadata": {},
   "outputs": [
    {
     "name": "stdout",
     "output_type": "stream",
     "text": [
      "RMSLE Value For Kf_i:  1.01, 1.02, 0.98, 1.04, 1.01, 0.98, 1.01, 0.99, 0.98, 1.0, Average RMSLE:  1.002\n"
     ]
    }
   ],
   "source": [
    "# Use best feature combinations and trial \n",
    "df_ = train_old_edit_std.copy()\n",
    "gbModel = Ridge(alpha = 0.006021)\n",
    "newVal = testModel(df = df_, n_splits = 10, model = gbModel)"
   ]
  },
  {
   "cell_type": "code",
   "execution_count": 65,
   "metadata": {},
   "outputs": [
    {
     "name": "stdout",
     "output_type": "stream",
     "text": [
      "|   iter    |  target   |   alpha   |\n",
      "-------------------------------------\n",
      "| \u001b[0m 1       \u001b[0m | \u001b[0m-0.3156  \u001b[0m | \u001b[0m 417.0   \u001b[0m |\n",
      "| \u001b[0m 2       \u001b[0m | \u001b[0m-0.3156  \u001b[0m | \u001b[0m 720.3   \u001b[0m |\n",
      "| \u001b[95m 3       \u001b[0m | \u001b[95m-0.2367  \u001b[0m | \u001b[95m 0.1145  \u001b[0m |\n",
      "| \u001b[0m 4       \u001b[0m | \u001b[0m-0.3156  \u001b[0m | \u001b[0m 302.3   \u001b[0m |\n",
      "| \u001b[0m 5       \u001b[0m | \u001b[0m-0.3156  \u001b[0m | \u001b[0m 146.8   \u001b[0m |\n",
      "| \u001b[0m 6       \u001b[0m | \u001b[0m-0.3156  \u001b[0m | \u001b[0m 92.34   \u001b[0m |\n",
      "| \u001b[0m 7       \u001b[0m | \u001b[0m-0.3156  \u001b[0m | \u001b[0m 186.3   \u001b[0m |\n",
      "| \u001b[0m 8       \u001b[0m | \u001b[0m-0.3156  \u001b[0m | \u001b[0m 345.6   \u001b[0m |\n",
      "| \u001b[0m 9       \u001b[0m | \u001b[0m-0.3156  \u001b[0m | \u001b[0m 396.8   \u001b[0m |\n",
      "| \u001b[0m 10      \u001b[0m | \u001b[0m-0.3156  \u001b[0m | \u001b[0m 538.8   \u001b[0m |\n",
      "| \u001b[0m 11      \u001b[0m | \u001b[0m-0.3156  \u001b[0m | \u001b[0m 1e+03   \u001b[0m |\n",
      "| \u001b[0m 12      \u001b[0m | \u001b[0m-0.3156  \u001b[0m | \u001b[0m 881.3   \u001b[0m |\n",
      "| \u001b[95m 13      \u001b[0m | \u001b[95m-0.2357  \u001b[0m | \u001b[95m 0.007653\u001b[0m |\n",
      "| \u001b[95m 14      \u001b[0m | \u001b[95m-0.2356  \u001b[0m | \u001b[95m 0.00526 \u001b[0m |\n",
      "| \u001b[0m 15      \u001b[0m | \u001b[0m-0.236   \u001b[0m | \u001b[0m 0.024   \u001b[0m |\n",
      "| \u001b[0m 16      \u001b[0m | \u001b[0m-0.236   \u001b[0m | \u001b[0m 0.02523 \u001b[0m |\n",
      "| \u001b[0m 17      \u001b[0m | \u001b[0m-0.2359  \u001b[0m | \u001b[0m 0.01646 \u001b[0m |\n",
      "| \u001b[95m 18      \u001b[0m | \u001b[95m-0.2356  \u001b[0m | \u001b[95m 0.000400\u001b[0m |\n",
      "| \u001b[0m 19      \u001b[0m | \u001b[0m-0.2356  \u001b[0m | \u001b[0m 0.005134\u001b[0m |\n",
      "| \u001b[0m 20      \u001b[0m | \u001b[0m-0.2357  \u001b[0m | \u001b[0m 0.006251\u001b[0m |\n",
      "| \u001b[0m 21      \u001b[0m | \u001b[0m-0.2357  \u001b[0m | \u001b[0m 0.006312\u001b[0m |\n",
      "| \u001b[0m 22      \u001b[0m | \u001b[0m-0.2361  \u001b[0m | \u001b[0m 0.03426 \u001b[0m |\n",
      "| \u001b[0m 23      \u001b[0m | \u001b[0m-0.2357  \u001b[0m | \u001b[0m 0.007485\u001b[0m |\n",
      "| \u001b[0m 24      \u001b[0m | \u001b[0m-0.2357  \u001b[0m | \u001b[0m 0.007089\u001b[0m |\n",
      "| \u001b[0m 25      \u001b[0m | \u001b[0m-0.2359  \u001b[0m | \u001b[0m 0.01487 \u001b[0m |\n",
      "| \u001b[0m 26      \u001b[0m | \u001b[0m-0.2361  \u001b[0m | \u001b[0m 0.03712 \u001b[0m |\n",
      "| \u001b[0m 27      \u001b[0m | \u001b[0m-0.2357  \u001b[0m | \u001b[0m 0.006199\u001b[0m |\n",
      "| \u001b[0m 28      \u001b[0m | \u001b[0m-0.2361  \u001b[0m | \u001b[0m 0.0423  \u001b[0m |\n",
      "| \u001b[0m 29      \u001b[0m | \u001b[0m-0.2356  \u001b[0m | \u001b[0m 0.002786\u001b[0m |\n",
      "| \u001b[0m 30      \u001b[0m | \u001b[0m-0.2356  \u001b[0m | \u001b[0m 0.00555 \u001b[0m |\n",
      "| \u001b[0m 31      \u001b[0m | \u001b[0m-0.2357  \u001b[0m | \u001b[0m 0.009354\u001b[0m |\n",
      "| \u001b[0m 32      \u001b[0m | \u001b[0m-0.2361  \u001b[0m | \u001b[0m 0.03073 \u001b[0m |\n",
      "| \u001b[0m 33      \u001b[0m | \u001b[0m-0.2356  \u001b[0m | \u001b[0m 0.002083\u001b[0m |\n",
      "| \u001b[0m 34      \u001b[0m | \u001b[0m-0.2356  \u001b[0m | \u001b[0m 0.004435\u001b[0m |\n",
      "| \u001b[0m 35      \u001b[0m | \u001b[0m-0.2356  \u001b[0m | \u001b[0m 0.002974\u001b[0m |\n",
      "| \u001b[95m 36      \u001b[0m | \u001b[95m-0.2356  \u001b[0m | \u001b[95m 0.000105\u001b[0m |\n",
      "| \u001b[0m 37      \u001b[0m | \u001b[0m-0.2359  \u001b[0m | \u001b[0m 0.01721 \u001b[0m |\n",
      "| \u001b[0m 38      \u001b[0m | \u001b[0m-0.2357  \u001b[0m | \u001b[0m 0.007401\u001b[0m |\n",
      "| \u001b[0m 39      \u001b[0m | \u001b[0m-0.236   \u001b[0m | \u001b[0m 0.01936 \u001b[0m |\n",
      "| \u001b[0m 40      \u001b[0m | \u001b[0m-0.2359  \u001b[0m | \u001b[0m 0.01587 \u001b[0m |\n",
      "| \u001b[0m 41      \u001b[0m | \u001b[0m-0.2356  \u001b[0m | \u001b[0m 0.001519\u001b[0m |\n",
      "| \u001b[0m 42      \u001b[0m | \u001b[0m-0.2359  \u001b[0m | \u001b[0m 0.01712 \u001b[0m |\n",
      "| \u001b[0m 43      \u001b[0m | \u001b[0m-0.236   \u001b[0m | \u001b[0m 0.01777 \u001b[0m |\n",
      "| \u001b[0m 44      \u001b[0m | \u001b[0m-0.2356  \u001b[0m | \u001b[0m 0.002009\u001b[0m |\n",
      "| \u001b[0m 45      \u001b[0m | \u001b[0m-0.236   \u001b[0m | \u001b[0m 0.02415 \u001b[0m |\n",
      "| \u001b[0m 46      \u001b[0m | \u001b[0m-0.2359  \u001b[0m | \u001b[0m 0.01609 \u001b[0m |\n",
      "| \u001b[0m 47      \u001b[0m | \u001b[0m-0.2358  \u001b[0m | \u001b[0m 0.0114  \u001b[0m |\n",
      "| \u001b[0m 48      \u001b[0m | \u001b[0m-0.2356  \u001b[0m | \u001b[0m 0.001553\u001b[0m |\n",
      "| \u001b[0m 49      \u001b[0m | \u001b[0m-0.2359  \u001b[0m | \u001b[0m 0.01457 \u001b[0m |\n",
      "| \u001b[0m 50      \u001b[0m | \u001b[0m-0.2357  \u001b[0m | \u001b[0m 0.007913\u001b[0m |\n",
      "| \u001b[0m 51      \u001b[0m | \u001b[0m-0.236   \u001b[0m | \u001b[0m 0.026   \u001b[0m |\n",
      "| \u001b[0m 52      \u001b[0m | \u001b[0m-0.236   \u001b[0m | \u001b[0m 0.01863 \u001b[0m |\n",
      "| \u001b[0m 53      \u001b[0m | \u001b[0m-0.236   \u001b[0m | \u001b[0m 0.02128 \u001b[0m |\n",
      "| \u001b[0m 54      \u001b[0m | \u001b[0m-0.2357  \u001b[0m | \u001b[0m 0.00641 \u001b[0m |\n",
      "| \u001b[0m 55      \u001b[0m | \u001b[0m-0.2357  \u001b[0m | \u001b[0m 0.00752 \u001b[0m |\n",
      "| \u001b[0m 56      \u001b[0m | \u001b[0m-0.2357  \u001b[0m | \u001b[0m 0.005594\u001b[0m |\n",
      "| \u001b[0m 57      \u001b[0m | \u001b[0m-0.2358  \u001b[0m | \u001b[0m 0.01224 \u001b[0m |\n",
      "| \u001b[0m 58      \u001b[0m | \u001b[0m-0.2356  \u001b[0m | \u001b[0m 0.003824\u001b[0m |\n",
      "| \u001b[0m 59      \u001b[0m | \u001b[0m-0.2356  \u001b[0m | \u001b[0m 0.002078\u001b[0m |\n",
      "| \u001b[0m 60      \u001b[0m | \u001b[0m-0.2358  \u001b[0m | \u001b[0m 0.009884\u001b[0m |\n",
      "=====================================\n"
     ]
    }
   ],
   "source": [
    "bounds_ = {\n",
    "        'alpha': (0.0001,1000),\n",
    "        }\n",
    "df_Bayes_opt = train_old_edit_std.copy()\n",
    "\n",
    "# Run Bayesian Optimizer:\n",
    "optimizer = BayesianOptimization(f=train_bayes_opt_lasso,  pbounds=bounds_, random_state=1)\n",
    "optimizer.maximize(init_points=10, n_iter=50)"
   ]
  },
  {
   "cell_type": "code",
   "execution_count": 66,
   "metadata": {},
   "outputs": [
    {
     "name": "stdout",
     "output_type": "stream",
     "text": [
      "RMSLE Value For Kf_i:  1.01, 1.02, 0.98, 1.04, 1.01, 0.98, 1.01, 0.99, 0.98, 1.0, Average RMSLE:  1.002\n"
     ]
    }
   ],
   "source": [
    "# Use best feature combinations and trial \n",
    "df_ = train_old_edit_std.copy()\n",
    "gbModel = Lasso(alpha = 0.000105)\n",
    "newVal = testModel(df = df_, n_splits = 10, model = gbModel)"
   ]
  },
  {
   "cell_type": "markdown",
   "metadata": {},
   "source": [
    "LGBM produced best results and was relatively quick:\n",
    "        - Try exploring parameter space further and constraining to promising areas\n",
    "        - extend number of iterations for optimiser\n",
    "        - use grid search.. trade-off with time taken"
   ]
  },
  {
   "cell_type": "code",
   "execution_count": 344,
   "metadata": {},
   "outputs": [
    {
     "name": "stdout",
     "output_type": "stream",
     "text": [
      "|   iter    |  target   |   gamma   | learni... | max_depth | n_esti... |\n",
      "-------------------------------------------------------------------------\n",
      "| \u001b[0m 1       \u001b[0m | \u001b[0m-0.144   \u001b[0m | \u001b[0m 0.417   \u001b[0m | \u001b[0m 0.6042  \u001b[0m | \u001b[0m 1.001   \u001b[0m | \u001b[0m 337.2   \u001b[0m |\n",
      "| \u001b[95m 2       \u001b[0m | \u001b[95m-0.102   \u001b[0m | \u001b[95m 0.1468  \u001b[0m | \u001b[95m 0.1646  \u001b[0m | \u001b[95m 2.676   \u001b[0m | \u001b[95m 378.3   \u001b[0m |\n",
      "| \u001b[95m 3       \u001b[0m | \u001b[95m-0.0921  \u001b[0m | \u001b[95m 0.3968  \u001b[0m | \u001b[95m 0.4772  \u001b[0m | \u001b[95m 4.773   \u001b[0m | \u001b[95m 701.0   \u001b[0m |\n",
      "| \u001b[0m 4       \u001b[0m | \u001b[0m-0.1438  \u001b[0m | \u001b[0m 0.2045  \u001b[0m | \u001b[0m 0.7147  \u001b[0m | \u001b[0m 1.246   \u001b[0m | \u001b[0m 686.9   \u001b[0m |\n",
      "| \u001b[0m 5       \u001b[0m | \u001b[0m-0.09866 \u001b[0m | \u001b[0m 0.4173  \u001b[0m | \u001b[0m 0.4911  \u001b[0m | \u001b[0m 2.263   \u001b[0m | \u001b[0m 238.2   \u001b[0m |\n",
      "| \u001b[0m 6       \u001b[0m | \u001b[0m-0.09405 \u001b[0m | \u001b[0m 0.8007  \u001b[0m | \u001b[0m 0.7778  \u001b[0m | \u001b[0m 3.821   \u001b[0m | \u001b[0m 707.7   \u001b[0m |\n",
      "| \u001b[0m 7       \u001b[0m | \u001b[0m-0.1472  \u001b[0m | \u001b[0m 0.8764  \u001b[0m | \u001b[0m 0.7262  \u001b[0m | \u001b[0m 1.765   \u001b[0m | \u001b[0m 87.1    \u001b[0m |\n",
      "| \u001b[0m 8       \u001b[0m | \u001b[0m-0.1439  \u001b[0m | \u001b[0m 0.1698  \u001b[0m | \u001b[0m 0.7147  \u001b[0m | \u001b[0m 1.885   \u001b[0m | \u001b[0m 450.1   \u001b[0m |\n",
      "| \u001b[0m 9       \u001b[0m | \u001b[0m-0.09349 \u001b[0m | \u001b[0m 0.9579  \u001b[0m | \u001b[0m 0.4732  \u001b[0m | \u001b[0m 7.227   \u001b[0m | \u001b[0m 349.7   \u001b[0m |\n",
      "| \u001b[0m 10      \u001b[0m | \u001b[0m-0.1438  \u001b[0m | \u001b[0m 0.6865  \u001b[0m | \u001b[0m 0.6842  \u001b[0m | \u001b[0m 1.165   \u001b[0m | \u001b[0m 762.6   \u001b[0m |\n",
      "| \u001b[95m 11      \u001b[0m | \u001b[95m-0.08765 \u001b[0m | \u001b[95m 1.0     \u001b[0m | \u001b[95m 0.1     \u001b[0m | \u001b[95m 10.0    \u001b[0m | \u001b[95m 1e+03   \u001b[0m |\n",
      "| \u001b[95m 12      \u001b[0m | \u001b[95m-0.03783 \u001b[0m | \u001b[95m 1.0     \u001b[0m | \u001b[95m 0.8     \u001b[0m | \u001b[95m 10.0    \u001b[0m | \u001b[95m 914.0   \u001b[0m |\n",
      "| \u001b[0m 13      \u001b[0m | \u001b[0m-0.08985 \u001b[0m | \u001b[0m 1.0     \u001b[0m | \u001b[0m 0.1     \u001b[0m | \u001b[0m 10.0    \u001b[0m | \u001b[0m 160.6   \u001b[0m |\n",
      "| \u001b[0m 14      \u001b[0m | \u001b[0m-0.09627 \u001b[0m | \u001b[0m 0.0     \u001b[0m | \u001b[0m 0.1     \u001b[0m | \u001b[0m 10.0    \u001b[0m | \u001b[0m 50.0    \u001b[0m |\n",
      "| \u001b[95m 15      \u001b[0m | \u001b[95m-0.03731 \u001b[0m | \u001b[95m 0.9181  \u001b[0m | \u001b[95m 0.7039  \u001b[0m | \u001b[95m 9.987   \u001b[0m | \u001b[95m 859.3   \u001b[0m |\n",
      "| \u001b[95m 16      \u001b[0m | \u001b[95m-0.03518 \u001b[0m | \u001b[95m 0.9383  \u001b[0m | \u001b[95m 0.6866  \u001b[0m | \u001b[95m 9.993   \u001b[0m | \u001b[95m 556.1   \u001b[0m |\n",
      "| \u001b[0m 17      \u001b[0m | \u001b[0m-0.09355 \u001b[0m | \u001b[0m 0.9521  \u001b[0m | \u001b[0m 0.3655  \u001b[0m | \u001b[0m 9.996   \u001b[0m | \u001b[0m 599.7   \u001b[0m |\n",
      "| \u001b[95m 18      \u001b[0m | \u001b[95m-0.03516 \u001b[0m | \u001b[95m 0.8     \u001b[0m | \u001b[95m 0.5109  \u001b[0m | \u001b[95m 9.991   \u001b[0m | \u001b[95m 517.4   \u001b[0m |\n",
      "| \u001b[0m 19      \u001b[0m | \u001b[0m-0.1449  \u001b[0m | \u001b[0m 1.0     \u001b[0m | \u001b[0m 0.1     \u001b[0m | \u001b[0m 1.0     \u001b[0m | \u001b[0m 890.9   \u001b[0m |\n",
      "| \u001b[0m 20      \u001b[0m | \u001b[0m-0.1041  \u001b[0m | \u001b[0m 0.4412  \u001b[0m | \u001b[0m 0.7698  \u001b[0m | \u001b[0m 9.976   \u001b[0m | \u001b[0m 734.1   \u001b[0m |\n",
      "| \u001b[0m 21      \u001b[0m | \u001b[0m-0.08763 \u001b[0m | \u001b[0m 0.0     \u001b[0m | \u001b[0m 0.1     \u001b[0m | \u001b[0m 10.0    \u001b[0m | \u001b[0m 957.9   \u001b[0m |\n",
      "| \u001b[0m 22      \u001b[0m | \u001b[0m-0.08802 \u001b[0m | \u001b[0m 0.0     \u001b[0m | \u001b[0m 0.1     \u001b[0m | \u001b[0m 10.0    \u001b[0m | \u001b[0m 277.2   \u001b[0m |\n",
      "| \u001b[0m 23      \u001b[0m | \u001b[0m-0.03609 \u001b[0m | \u001b[0m 0.839   \u001b[0m | \u001b[0m 0.6081  \u001b[0m | \u001b[0m 9.952   \u001b[0m | \u001b[0m 817.2   \u001b[0m |\n",
      "| \u001b[0m 24      \u001b[0m | \u001b[0m-0.08755 \u001b[0m | \u001b[0m 1.0     \u001b[0m | \u001b[0m 0.1692  \u001b[0m | \u001b[0m 10.0    \u001b[0m | \u001b[0m 416.1   \u001b[0m |\n",
      "| \u001b[0m 25      \u001b[0m | \u001b[0m-0.06937 \u001b[0m | \u001b[0m 0.0     \u001b[0m | \u001b[0m 0.8     \u001b[0m | \u001b[0m 10.0    \u001b[0m | \u001b[0m 209.4   \u001b[0m |\n",
      "| \u001b[0m 26      \u001b[0m | \u001b[0m-0.1463  \u001b[0m | \u001b[0m 0.7641  \u001b[0m | \u001b[0m 0.1018  \u001b[0m | \u001b[0m 1.208   \u001b[0m | \u001b[0m 536.3   \u001b[0m |\n",
      "| \u001b[0m 27      \u001b[0m | \u001b[0m-0.08702 \u001b[0m | \u001b[0m 3.243e-0\u001b[0m | \u001b[0m 0.1     \u001b[0m | \u001b[0m 10.0    \u001b[0m | \u001b[0m 488.3   \u001b[0m |\n",
      "| \u001b[0m 28      \u001b[0m | \u001b[0m-0.1499  \u001b[0m | \u001b[0m 1.0     \u001b[0m | \u001b[0m 0.8     \u001b[0m | \u001b[0m 1.0     \u001b[0m | \u001b[0m 50.0    \u001b[0m |\n",
      "| \u001b[0m 29      \u001b[0m | \u001b[0m-0.06944 \u001b[0m | \u001b[0m 0.1038  \u001b[0m | \u001b[0m 0.7323  \u001b[0m | \u001b[0m 9.995   \u001b[0m | \u001b[0m 836.5   \u001b[0m |\n",
      "| \u001b[0m 30      \u001b[0m | \u001b[0m-0.08747 \u001b[0m | \u001b[0m 1.463e-0\u001b[0m | \u001b[0m 0.1     \u001b[0m | \u001b[0m 10.0    \u001b[0m | \u001b[0m 885.0   \u001b[0m |\n",
      "| \u001b[95m 31      \u001b[0m | \u001b[95m-0.003846\u001b[0m | \u001b[95m 0.9866  \u001b[0m | \u001b[95m 0.7375  \u001b[0m | \u001b[95m 9.931   \u001b[0m | \u001b[95m 790.8   \u001b[0m |\n",
      "| \u001b[0m 32      \u001b[0m | \u001b[0m-0.1548  \u001b[0m | \u001b[0m 0.0     \u001b[0m | \u001b[0m 0.1     \u001b[0m | \u001b[0m 1.0     \u001b[0m | \u001b[0m 186.7   \u001b[0m |\n",
      "| \u001b[0m 33      \u001b[0m | \u001b[0m-0.09991 \u001b[0m | \u001b[0m 0.0     \u001b[0m | \u001b[0m 0.8     \u001b[0m | \u001b[0m 10.0    \u001b[0m | \u001b[0m 122.3   \u001b[0m |\n",
      "| \u001b[0m 34      \u001b[0m | \u001b[0m-0.1438  \u001b[0m | \u001b[0m 0.9227  \u001b[0m | \u001b[0m 0.75    \u001b[0m | \u001b[0m 1.287   \u001b[0m | \u001b[0m 999.7   \u001b[0m |\n",
      "| \u001b[0m 35      \u001b[0m | \u001b[0m-0.09181 \u001b[0m | \u001b[0m 0.8639  \u001b[0m | \u001b[0m 0.2689  \u001b[0m | \u001b[0m 9.928   \u001b[0m | \u001b[0m 798.4   \u001b[0m |\n",
      "| \u001b[0m 36      \u001b[0m | \u001b[0m-0.03767 \u001b[0m | \u001b[0m 1.0     \u001b[0m | \u001b[0m 0.8     \u001b[0m | \u001b[0m 10.0    \u001b[0m | \u001b[0m 643.0   \u001b[0m |\n",
      "| \u001b[0m 37      \u001b[0m | \u001b[0m-0.06967 \u001b[0m | \u001b[0m 1.0     \u001b[0m | \u001b[0m 0.8     \u001b[0m | \u001b[0m 10.0    \u001b[0m | \u001b[0m 310.8   \u001b[0m |\n",
      "| \u001b[0m 38      \u001b[0m | \u001b[0m-0.1438  \u001b[0m | \u001b[0m 0.0     \u001b[0m | \u001b[0m 0.8     \u001b[0m | \u001b[0m 1.0     \u001b[0m | \u001b[0m 625.7   \u001b[0m |\n",
      "| \u001b[0m 39      \u001b[0m | \u001b[0m-0.03776 \u001b[0m | \u001b[0m 1.0     \u001b[0m | \u001b[0m 0.8     \u001b[0m | \u001b[0m 10.0    \u001b[0m | \u001b[0m 769.8   \u001b[0m |\n",
      "| \u001b[0m 40      \u001b[0m | \u001b[0m-0.1596  \u001b[0m | \u001b[0m 1.0     \u001b[0m | \u001b[0m 0.1     \u001b[0m | \u001b[0m 1.0     \u001b[0m | \u001b[0m 140.3   \u001b[0m |\n",
      "| \u001b[0m 41      \u001b[0m | \u001b[0m-0.1438  \u001b[0m | \u001b[0m 1.0     \u001b[0m | \u001b[0m 0.8     \u001b[0m | \u001b[0m 1.0     \u001b[0m | \u001b[0m 824.0   \u001b[0m |\n",
      "| \u001b[0m 42      \u001b[0m | \u001b[0m-0.1438  \u001b[0m | \u001b[0m 1.0     \u001b[0m | \u001b[0m 0.8     \u001b[0m | \u001b[0m 1.0     \u001b[0m | \u001b[0m 935.8   \u001b[0m |\n",
      "| \u001b[0m 43      \u001b[0m | \u001b[0m-0.1441  \u001b[0m | \u001b[0m 1.0     \u001b[0m | \u001b[0m 0.8     \u001b[0m | \u001b[0m 1.0     \u001b[0m | \u001b[0m 291.6   \u001b[0m |\n",
      "| \u001b[0m 44      \u001b[0m | \u001b[0m-0.1438  \u001b[0m | \u001b[0m 0.0     \u001b[0m | \u001b[0m 0.8     \u001b[0m | \u001b[0m 1.0     \u001b[0m | \u001b[0m 576.9   \u001b[0m |\n",
      "| \u001b[0m 45      \u001b[0m | \u001b[0m-0.03771 \u001b[0m | \u001b[0m 1.0     \u001b[0m | \u001b[0m 0.8     \u001b[0m | \u001b[0m 10.0    \u001b[0m | \u001b[0m 669.2   \u001b[0m |\n",
      "| \u001b[0m 46      \u001b[0m | \u001b[0m-0.1439  \u001b[0m | \u001b[0m 1.0     \u001b[0m | \u001b[0m 0.8     \u001b[0m | \u001b[0m 1.0     \u001b[0m | \u001b[0m 410.1   \u001b[0m |\n",
      "| \u001b[0m 47      \u001b[0m | \u001b[0m-0.0697  \u001b[0m | \u001b[0m 1.0     \u001b[0m | \u001b[0m 0.8     \u001b[0m | \u001b[0m 10.0    \u001b[0m | \u001b[0m 247.4   \u001b[0m |\n",
      "| \u001b[0m 48      \u001b[0m | \u001b[0m-0.07009 \u001b[0m | \u001b[0m 0.0     \u001b[0m | \u001b[0m 0.8     \u001b[0m | \u001b[0m 10.0    \u001b[0m | \u001b[0m 390.3   \u001b[0m |\n",
      "| \u001b[0m 49      \u001b[0m | \u001b[0m-0.03783 \u001b[0m | \u001b[0m 1.0     \u001b[0m | \u001b[0m 0.8     \u001b[0m | \u001b[0m 10.0    \u001b[0m | \u001b[0m 980.8   \u001b[0m |\n",
      "| \u001b[0m 50      \u001b[0m | \u001b[0m-0.09918 \u001b[0m | \u001b[0m 1.0     \u001b[0m | \u001b[0m 0.8     \u001b[0m | \u001b[0m 10.0    \u001b[0m | \u001b[0m 71.08   \u001b[0m |\n",
      "| \u001b[0m 51      \u001b[0m | \u001b[0m-0.1439  \u001b[0m | \u001b[0m 1.0     \u001b[0m | \u001b[0m 0.8     \u001b[0m | \u001b[0m 1.0     \u001b[0m | \u001b[0m 501.1   \u001b[0m |\n",
      "| \u001b[0m 52      \u001b[0m | \u001b[0m-0.03692 \u001b[0m | \u001b[0m 0.05991 \u001b[0m | \u001b[0m 0.7529  \u001b[0m | \u001b[0m 9.625   \u001b[0m | \u001b[0m 783.1   \u001b[0m |\n",
      "| \u001b[0m 53      \u001b[0m | \u001b[0m-0.03742 \u001b[0m | \u001b[0m 1.0     \u001b[0m | \u001b[0m 0.8     \u001b[0m | \u001b[0m 10.0    \u001b[0m | \u001b[0m 460.8   \u001b[0m |\n",
      "| \u001b[0m 54      \u001b[0m | \u001b[0m-0.07025 \u001b[0m | \u001b[0m 1.0     \u001b[0m | \u001b[0m 0.8     \u001b[0m | \u001b[0m 10.0    \u001b[0m | \u001b[0m 441.2   \u001b[0m |\n",
      "| \u001b[0m 55      \u001b[0m | \u001b[0m-0.03772 \u001b[0m | \u001b[0m 1.0     \u001b[0m | \u001b[0m 0.8     \u001b[0m | \u001b[0m 10.0    \u001b[0m | \u001b[0m 689.6   \u001b[0m |\n",
      "| \u001b[0m 56      \u001b[0m | \u001b[0m-0.0887  \u001b[0m | \u001b[0m 1.0     \u001b[0m | \u001b[0m 0.1     \u001b[0m | \u001b[0m 10.0    \u001b[0m | \u001b[0m 227.8   \u001b[0m |\n",
      "| \u001b[0m 57      \u001b[0m | \u001b[0m-0.08692 \u001b[0m | \u001b[0m 0.0     \u001b[0m | \u001b[0m 0.1     \u001b[0m | \u001b[0m 10.0    \u001b[0m | \u001b[0m 574.5   \u001b[0m |\n",
      "| \u001b[0m 58      \u001b[0m | \u001b[0m-0.03756 \u001b[0m | \u001b[0m 0.0     \u001b[0m | \u001b[0m 0.8     \u001b[0m | \u001b[0m 10.0    \u001b[0m | \u001b[0m 537.3   \u001b[0m |\n",
      "| \u001b[0m 59      \u001b[0m | \u001b[0m-0.03782 \u001b[0m | \u001b[0m 1.0     \u001b[0m | \u001b[0m 0.8     \u001b[0m | \u001b[0m 10.0    \u001b[0m | \u001b[0m 932.2   \u001b[0m |\n",
      "| \u001b[0m 60      \u001b[0m | \u001b[0m-0.03767 \u001b[0m | \u001b[0m 0.0     \u001b[0m | \u001b[0m 0.8     \u001b[0m | \u001b[0m 10.0    \u001b[0m | \u001b[0m 622.4   \u001b[0m |\n",
      "| \u001b[0m 61      \u001b[0m | \u001b[0m-0.09192 \u001b[0m | \u001b[0m 1.0     \u001b[0m | \u001b[0m 0.1     \u001b[0m | \u001b[0m 10.0    \u001b[0m | \u001b[0m 98.55   \u001b[0m |\n",
      "| \u001b[0m 62      \u001b[0m | \u001b[0m-0.07082 \u001b[0m | \u001b[0m 0.9945  \u001b[0m | \u001b[0m 0.7707  \u001b[0m | \u001b[0m 9.864   \u001b[0m | \u001b[0m 783.3   \u001b[0m |\n",
      "| \u001b[0m 63      \u001b[0m | \u001b[0m-0.03775 \u001b[0m | \u001b[0m 0.0     \u001b[0m | \u001b[0m 0.8     \u001b[0m | \u001b[0m 10.0    \u001b[0m | \u001b[0m 754.0   \u001b[0m |\n",
      "| \u001b[0m 64      \u001b[0m | \u001b[0m-0.1506  \u001b[0m | \u001b[0m 1.0     \u001b[0m | \u001b[0m 0.1     \u001b[0m | \u001b[0m 1.0     \u001b[0m | \u001b[0m 263.5   \u001b[0m |\n",
      "| \u001b[0m 65      \u001b[0m | \u001b[0m-0.1438  \u001b[0m | \u001b[0m 0.0     \u001b[0m | \u001b[0m 0.8     \u001b[0m | \u001b[0m 1.0     \u001b[0m | \u001b[0m 866.0   \u001b[0m |\n",
      "| \u001b[0m 66      \u001b[0m | \u001b[0m-0.0693  \u001b[0m | \u001b[0m 1.0     \u001b[0m | \u001b[0m 0.8     \u001b[0m | \u001b[0m 10.0    \u001b[0m | \u001b[0m 185.0   \u001b[0m |\n"
     ]
    },
    {
     "name": "stdout",
     "output_type": "stream",
     "text": [
      "| \u001b[0m 67      \u001b[0m | \u001b[0m-0.08761 \u001b[0m | \u001b[0m 0.0     \u001b[0m | \u001b[0m 0.1     \u001b[0m | \u001b[0m 10.0    \u001b[0m | \u001b[0m 331.2   \u001b[0m |\n",
      "| \u001b[0m 68      \u001b[0m | \u001b[0m-0.1638  \u001b[0m | \u001b[0m 1.0     \u001b[0m | \u001b[0m 0.1     \u001b[0m | \u001b[0m 1.0     \u001b[0m | \u001b[0m 112.3   \u001b[0m |\n",
      "| \u001b[0m 69      \u001b[0m | \u001b[0m-0.06997 \u001b[0m | \u001b[0m 1.0     \u001b[0m | \u001b[0m 0.8     \u001b[0m | \u001b[0m 10.0    \u001b[0m | \u001b[0m 369.2   \u001b[0m |\n",
      "| \u001b[0m 70      \u001b[0m | \u001b[0m-0.03772 \u001b[0m | \u001b[0m 0.0     \u001b[0m | \u001b[0m 0.8     \u001b[0m | \u001b[0m 10.0    \u001b[0m | \u001b[0m 713.1   \u001b[0m |\n",
      "| \u001b[0m 71      \u001b[0m | \u001b[0m-0.1447  \u001b[0m | \u001b[0m 1.0     \u001b[0m | \u001b[0m 0.1     \u001b[0m | \u001b[0m 1.0     \u001b[0m | \u001b[0m 972.2   \u001b[0m |\n",
      "| \u001b[0m 72      \u001b[0m | \u001b[0m-0.1438  \u001b[0m | \u001b[0m 0.0     \u001b[0m | \u001b[0m 0.8     \u001b[0m | \u001b[0m 1.0     \u001b[0m | \u001b[0m 791.4   \u001b[0m |\n",
      "| \u001b[0m 73      \u001b[0m | \u001b[0m-0.1439  \u001b[0m | \u001b[0m 1.0     \u001b[0m | \u001b[0m 0.8     \u001b[0m | \u001b[0m 1.0     \u001b[0m | \u001b[0m 474.7   \u001b[0m |\n",
      "| \u001b[0m 74      \u001b[0m | \u001b[0m-0.1438  \u001b[0m | \u001b[0m 0.0     \u001b[0m | \u001b[0m 0.8     \u001b[0m | \u001b[0m 1.0     \u001b[0m | \u001b[0m 655.9   \u001b[0m |\n",
      "| \u001b[0m 75      \u001b[0m | \u001b[0m-0.1445  \u001b[0m | \u001b[0m 1.0     \u001b[0m | \u001b[0m 0.8     \u001b[0m | \u001b[0m 1.0     \u001b[0m | \u001b[0m 214.6   \u001b[0m |\n",
      "| \u001b[0m 76      \u001b[0m | \u001b[0m-0.08792 \u001b[0m | \u001b[0m 0.0     \u001b[0m | \u001b[0m 0.1     \u001b[0m | \u001b[0m 10.0    \u001b[0m | \u001b[0m 295.8   \u001b[0m |\n",
      "| \u001b[0m 77      \u001b[0m | \u001b[0m-0.0904  \u001b[0m | \u001b[0m 0.0     \u001b[0m | \u001b[0m 0.1     \u001b[0m | \u001b[0m 10.0    \u001b[0m | \u001b[0m 142.8   \u001b[0m |\n",
      "| \u001b[0m 78      \u001b[0m | \u001b[0m-0.08695 \u001b[0m | \u001b[0m 0.0     \u001b[0m | \u001b[0m 0.1     \u001b[0m | \u001b[0m 10.0    \u001b[0m | \u001b[0m 655.6   \u001b[0m |\n",
      "| \u001b[0m 79      \u001b[0m | \u001b[0m-0.1448  \u001b[0m | \u001b[0m 0.0     \u001b[0m | \u001b[0m 0.1     \u001b[0m | \u001b[0m 1.0     \u001b[0m | \u001b[0m 916.8   \u001b[0m |\n",
      "| \u001b[0m 80      \u001b[0m | \u001b[0m-0.0378  \u001b[0m | \u001b[0m 1.0     \u001b[0m | \u001b[0m 0.8     \u001b[0m | \u001b[0m 10.0    \u001b[0m | \u001b[0m 871.2   \u001b[0m |\n",
      "| \u001b[0m 81      \u001b[0m | \u001b[0m-0.03782 \u001b[0m | \u001b[0m 0.0     \u001b[0m | \u001b[0m 0.8     \u001b[0m | \u001b[0m 10.0    \u001b[0m | \u001b[0m 822.0   \u001b[0m |\n",
      "| \u001b[0m 82      \u001b[0m | \u001b[0m-0.1491  \u001b[0m | \u001b[0m 0.0     \u001b[0m | \u001b[0m 0.1     \u001b[0m | \u001b[0m 1.0     \u001b[0m | \u001b[0m 313.3   \u001b[0m |\n",
      "| \u001b[0m 83      \u001b[0m | \u001b[0m-0.08688 \u001b[0m | \u001b[0m 1.0     \u001b[0m | \u001b[0m 0.1     \u001b[0m | \u001b[0m 10.0    \u001b[0m | \u001b[0m 631.6   \u001b[0m |\n",
      "| \u001b[0m 84      \u001b[0m | \u001b[0m-0.03749 \u001b[0m | \u001b[0m 0.0     \u001b[0m | \u001b[0m 0.8     \u001b[0m | \u001b[0m 10.0    \u001b[0m | \u001b[0m 505.5   \u001b[0m |\n",
      "| \u001b[0m 85      \u001b[0m | \u001b[0m-0.03766 \u001b[0m | \u001b[0m 1.0     \u001b[0m | \u001b[0m 0.8     \u001b[0m | \u001b[0m 10.0    \u001b[0m | \u001b[0m 613.2   \u001b[0m |\n",
      "| \u001b[0m 86      \u001b[0m | \u001b[0m-0.08766 \u001b[0m | \u001b[0m 0.0     \u001b[0m | \u001b[0m 0.1     \u001b[0m | \u001b[0m 10.0    \u001b[0m | \u001b[0m 989.1   \u001b[0m |\n",
      "| \u001b[0m 87      \u001b[0m | \u001b[0m-0.03781 \u001b[0m | \u001b[0m 1.0     \u001b[0m | \u001b[0m 0.8     \u001b[0m | \u001b[0m 10.0    \u001b[0m | \u001b[0m 900.6   \u001b[0m |\n",
      "| \u001b[0m 88      \u001b[0m | \u001b[0m-0.03775 \u001b[0m | \u001b[0m 0.0     \u001b[0m | \u001b[0m 0.8     \u001b[0m | \u001b[0m 10.0    \u001b[0m | \u001b[0m 765.3   \u001b[0m |\n",
      "| \u001b[0m 89      \u001b[0m | \u001b[0m-0.1438  \u001b[0m | \u001b[0m 0.0     \u001b[0m | \u001b[0m 0.8     \u001b[0m | \u001b[0m 1.0     \u001b[0m | \u001b[0m 742.8   \u001b[0m |\n",
      "| \u001b[0m 90      \u001b[0m | \u001b[0m-0.144   \u001b[0m | \u001b[0m 0.0     \u001b[0m | \u001b[0m 0.8     \u001b[0m | \u001b[0m 1.0     \u001b[0m | \u001b[0m 361.3   \u001b[0m |\n",
      "| \u001b[0m 91      \u001b[0m | \u001b[0m-0.1438  \u001b[0m | \u001b[0m 0.0     \u001b[0m | \u001b[0m 0.8     \u001b[0m | \u001b[0m 1.0     \u001b[0m | \u001b[0m 604.7   \u001b[0m |\n",
      "| \u001b[0m 92      \u001b[0m | \u001b[0m-0.08906 \u001b[0m | \u001b[0m 1.0     \u001b[0m | \u001b[0m 0.1     \u001b[0m | \u001b[0m 10.0    \u001b[0m | \u001b[0m 197.7   \u001b[0m |\n",
      "| \u001b[0m 93      \u001b[0m | \u001b[0m-0.03741 \u001b[0m | \u001b[0m 0.0     \u001b[0m | \u001b[0m 0.8     \u001b[0m | \u001b[0m 10.0    \u001b[0m | \u001b[0m 471.7   \u001b[0m |\n",
      "| \u001b[0m 94      \u001b[0m | \u001b[0m-0.1473  \u001b[0m | \u001b[0m 0.0     \u001b[0m | \u001b[0m 0.1     \u001b[0m | \u001b[0m 1.0     \u001b[0m | \u001b[0m 428.2   \u001b[0m |\n",
      "| \u001b[0m 95      \u001b[0m | \u001b[0m-0.1439  \u001b[0m | \u001b[0m 0.0     \u001b[0m | \u001b[0m 0.8     \u001b[0m | \u001b[0m 1.0     \u001b[0m | \u001b[0m 557.2   \u001b[0m |\n",
      "| \u001b[0m 96      \u001b[0m | \u001b[0m-0.03771 \u001b[0m | \u001b[0m 0.0     \u001b[0m | \u001b[0m 0.8     \u001b[0m | \u001b[0m 10.0    \u001b[0m | \u001b[0m 678.6   \u001b[0m |\n",
      "| \u001b[0m 97      \u001b[0m | \u001b[0m-0.0377  \u001b[0m | \u001b[0m 0.008597\u001b[0m | \u001b[0m 0.7738  \u001b[0m | \u001b[0m 9.962   \u001b[0m | \u001b[0m 791.6   \u001b[0m |\n",
      "| \u001b[0m 98      \u001b[0m | \u001b[0m-0.145   \u001b[0m | \u001b[0m 0.0     \u001b[0m | \u001b[0m 0.8     \u001b[0m | \u001b[0m 1.0     \u001b[0m | \u001b[0m 166.2   \u001b[0m |\n",
      "| \u001b[0m 99      \u001b[0m | \u001b[0m-0.1764  \u001b[0m | \u001b[0m 0.0     \u001b[0m | \u001b[0m 0.1     \u001b[0m | \u001b[0m 1.0     \u001b[0m | \u001b[0m 65.11   \u001b[0m |\n",
      "| \u001b[0m 100     \u001b[0m | \u001b[0m-0.1009  \u001b[0m | \u001b[0m 0.0     \u001b[0m | \u001b[0m 0.1     \u001b[0m | \u001b[0m 2.401   \u001b[0m | \u001b[0m 776.1   \u001b[0m |\n",
      "| \u001b[0m 101     \u001b[0m | \u001b[0m-0.08762 \u001b[0m | \u001b[0m 1.0     \u001b[0m | \u001b[0m 0.1     \u001b[0m | \u001b[0m 10.0    \u001b[0m | \u001b[0m 944.5   \u001b[0m |\n",
      "| \u001b[0m 102     \u001b[0m | \u001b[0m-0.08735 \u001b[0m | \u001b[0m 1.0     \u001b[0m | \u001b[0m 0.1     \u001b[0m | \u001b[0m 10.0    \u001b[0m | \u001b[0m 828.4   \u001b[0m |\n",
      "| \u001b[0m 103     \u001b[0m | \u001b[0m-0.1438  \u001b[0m | \u001b[0m 1.0     \u001b[0m | \u001b[0m 0.8     \u001b[0m | \u001b[0m 1.0     \u001b[0m | \u001b[0m 846.8   \u001b[0m |\n",
      "| \u001b[0m 104     \u001b[0m | \u001b[0m-0.08827 \u001b[0m | \u001b[0m 0.0     \u001b[0m | \u001b[0m 0.1     \u001b[0m | \u001b[0m 10.0    \u001b[0m | \u001b[0m 261.4   \u001b[0m |\n",
      "| \u001b[0m 105     \u001b[0m | \u001b[0m-0.1439  \u001b[0m | \u001b[0m 0.0     \u001b[0m | \u001b[0m 0.8     \u001b[0m | \u001b[0m 1.0     \u001b[0m | \u001b[0m 518.0   \u001b[0m |\n",
      "| \u001b[0m 106     \u001b[0m | \u001b[0m-0.1477  \u001b[0m | \u001b[0m 1.0     \u001b[0m | \u001b[0m 0.1     \u001b[0m | \u001b[0m 1.0     \u001b[0m | \u001b[0m 393.5   \u001b[0m |\n",
      "| \u001b[0m 107     \u001b[0m | \u001b[0m-0.09276 \u001b[0m | \u001b[0m 0.0     \u001b[0m | \u001b[0m 0.1     \u001b[0m | \u001b[0m 10.0    \u001b[0m | \u001b[0m 84.31   \u001b[0m |\n",
      "| \u001b[0m 108     \u001b[0m | \u001b[0m-0.08959 \u001b[0m | \u001b[0m 0.0     \u001b[0m | \u001b[0m 0.1     \u001b[0m | \u001b[0m 10.0    \u001b[0m | \u001b[0m 173.2   \u001b[0m |\n",
      "| \u001b[0m 109     \u001b[0m | \u001b[0m-0.1454  \u001b[0m | \u001b[0m 0.0     \u001b[0m | \u001b[0m 0.1     \u001b[0m | \u001b[0m 1.0     \u001b[0m | \u001b[0m 722.5   \u001b[0m |\n",
      "| \u001b[0m 110     \u001b[0m | \u001b[0m-0.08764 \u001b[0m | \u001b[0m 0.0     \u001b[0m | \u001b[0m 0.1     \u001b[0m | \u001b[0m 10.0    \u001b[0m | \u001b[0m 971.3   \u001b[0m |\n",
      "=========================================================================\n"
     ]
    }
   ],
   "source": [
    "bounds = {\n",
    "        'gamma': (0.9, 1),\n",
    "        'max_depth': (9, 11),\n",
    "        'learning_rate': (0.7, 0.8),\n",
    "        'n_estimators':(500,1000),\n",
    "        }\n",
    "df_Bayes_opt = train_old_edit_std.copy()\n",
    "\n",
    "# Run Bayesian Optimizer:\n",
    "optimizer = BayesianOptimization(f=train_bayes_opt_lgbm,  pbounds=bounds_, random_state=1)\n",
    "optimizer.maximize(init_points=10, n_iter=100)"
   ]
  },
  {
   "cell_type": "markdown",
   "metadata": {},
   "source": [
    "Try Grid Search"
   ]
  },
  {
   "cell_type": "code",
   "execution_count": 355,
   "metadata": {},
   "outputs": [
    {
     "name": "stdout",
     "output_type": "stream",
     "text": [
      "{'gamma': 0.95, 'learning_rate': 0.78, 'max_depth': 10, 'n_estimators': 500}\n"
     ]
    }
   ],
   "source": [
    "df_ = train_old_edit_std.copy()\n",
    "\n",
    "grid_param = {\n",
    "    'n_estimators': [500, 600, 700, 800, 900, 1000],\n",
    "    'learning_rate': [0.7, 0.72, 0.74, 0.76, 0.78, 0.8],\n",
    "    'gamma': [0.95, 0.96, 0.97, 0.98, 0.99, 1],\n",
    "    'max_depth': [9, 10, 11],\n",
    "}\n",
    "\n",
    "\n",
    "rmsle_scorer = make_scorer(rmsle, greater_is_better=False)\n",
    "\n",
    "gd_sr = GridSearchCV(estimator= LGBMRegressor(),\n",
    "                     param_grid=grid_param,\n",
    "                     scoring=rmsle_scorer,\n",
    "                     cv=5,\n",
    "                     n_jobs=-1)\n",
    "\n",
    "X = df_.drop(['log_count', 'count'], axis = 1).values\n",
    "y = df_.drop(df_.columns.difference(['log_count']), axis = 1).values\n",
    "\n",
    "gd_sr.fit(X, y)\n",
    "best_params = gd_sr.best_params_\n",
    "print(gd_sr.best_params_)"
   ]
  },
  {
   "cell_type": "markdown",
   "metadata": {},
   "source": [
    "Employ best Grid Search Parameters"
   ]
  },
  {
   "cell_type": "code",
   "execution_count": 356,
   "metadata": {},
   "outputs": [
    {
     "name": "stdout",
     "output_type": "stream",
     "text": [
      "RMSLE Value For Kf_i:  0.36, 0.37, 0.35, 0.37, 0.38, 0.35, 0.36, 0.37, 0.35, 0.36, Average RMSLE:  0.361\n"
     ]
    }
   ],
   "source": [
    "df_ = train_old_edit_std.copy()\n",
    "# Use best feature combinations and trial \n",
    "lgbmMod = LGBMRegressor(gamma = 0.95, learning_rate = 0.78, max_depth = 10, n_estimators = 500, silent = True)\n",
    "newVal = testModel(df = df_, n_splits = 10, model = lgbmMod)"
   ]
  },
  {
   "cell_type": "markdown",
   "metadata": {},
   "source": [
    "**Conclusion** \n",
    "- LGBM regressor produced best results:\n",
    "- *Perhaps with more time invested the results could be better. Bayesian optimisation appears to have been most productive* \n",
    "    - lgbmMod = LGBMRegressor(gamma = 0.9866, learning_rate = 0.7375, max_depth = 10, n_estimators = 791, silent = True)\n",
    "        "
   ]
  },
  {
   "cell_type": "markdown",
   "metadata": {},
   "source": [
    "## -----------------------------------------------------------------------------------------------------------------------------------"
   ]
  }
 ],
 "metadata": {
  "kernelspec": {
   "display_name": "Python 3",
   "language": "python",
   "name": "python3"
  },
  "language_info": {
   "codemirror_mode": {
    "name": "ipython",
    "version": 3
   },
   "file_extension": ".py",
   "mimetype": "text/x-python",
   "name": "python",
   "nbconvert_exporter": "python",
   "pygments_lexer": "ipython3",
   "version": "3.7.4"
  }
 },
 "nbformat": 4,
 "nbformat_minor": 2
}
